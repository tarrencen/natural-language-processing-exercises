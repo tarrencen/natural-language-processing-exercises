{
 "cells": [
  {
   "cell_type": "code",
   "execution_count": 1,
   "metadata": {},
   "outputs": [],
   "source": [
    "import pandas as pd\n",
    "import re"
   ]
  },
  {
   "cell_type": "markdown",
   "metadata": {},
   "source": [
    "1. Write a function named is_vowel. It should accept a string as input and use a regular expression to determine if the passed string is a vowel. While not explicity mentioned in the lesson, you can treat the result of re.search as a boolean value that indicates whether or not the regular expression matches the given string."
   ]
  },
  {
   "cell_type": "code",
   "execution_count": 26,
   "metadata": {},
   "outputs": [
    {
     "name": "stdout",
     "output_type": "stream",
     "text": [
      "The function works.\n"
     ]
    }
   ],
   "source": [
    "def is_vowel(subject):\n",
    "    regexp = r'[aeiouAEIOU]'\n",
    "    subject = subject.lower()\n",
    "    match = re.search(regexp, subject)\n",
    "\n",
    "    if match and len(subject) == 1:\n",
    "        return True\n",
    "    else:\n",
    "        return False\n",
    "\n",
    "assert is_vowel(\"a\") == True\n",
    "assert is_vowel(\"e\") == True\n",
    "assert is_vowel(\"i\") == True\n",
    "assert is_vowel(\"o\") == True\n",
    "assert is_vowel(\"u\") == True\n",
    "assert is_vowel(\"A\") == True\n",
    "assert is_vowel(\"E\") == True\n",
    "assert is_vowel(\"I\") == True\n",
    "assert is_vowel(\"O\") == True\n",
    "assert is_vowel(\"U\") == True\n",
    "assert is_vowel(\"banana\") == False\n",
    "assert is_vowel(\"Q\") == False\n",
    "assert is_vowel(\"y\") == False\n",
    "assert is_vowel(\"aei\") == False\n",
    "assert is_vowel(\"iou\") == False\n",
    "print('The function works.')\n",
    "    \n",
    " \n",
    "\n"
   ]
  },
  {
   "cell_type": "code",
   "execution_count": 27,
   "metadata": {},
   "outputs": [
    {
     "name": "stdout",
     "output_type": "stream",
     "text": [
      "False\n"
     ]
    }
   ],
   "source": [
    "print(is_vowel('mztlplyk'))"
   ]
  },
  {
   "cell_type": "markdown",
   "metadata": {},
   "source": [
    "2. Write a function named is_valid_username that accepts a string as input. A valid username starts with a lowercase letter, and only consists of lowercase letters, numbers, or the _ character. It should also be no longer than 32 characters. The function should return either True or False depending on whether the passed string is a valid username."
   ]
  },
  {
   "cell_type": "code",
   "execution_count": 29,
   "metadata": {},
   "outputs": [],
   "source": [
    "def is_valid_username(subject):\n",
    "    regexp = r'^[a-z, _]'\n",
    "    match = re.search(regexp, subject)\n",
    "    if len(subject) <= 32 and match:\n",
    "        return True\n",
    "    else:\n",
    "        return False\n",
    "\n",
    "assert is_valid_username('aaaaaaaaaaaaaaaaaaaaaaaaaaaaaaaaa') == False\n",
    "assert is_valid_username('codeup') == True\n",
    "assert is_valid_username('Codeup') == False\n",
    "assert is_valid_username('codeup123') == True\n",
    "assert is_valid_username('1codeup') == False"
   ]
  },
  {
   "cell_type": "code",
   "execution_count": 36,
   "metadata": {},
   "outputs": [
    {
     "data": {
      "text/plain": [
       "False"
      ]
     },
     "execution_count": 36,
     "metadata": {},
     "output_type": "execute_result"
    }
   ],
   "source": [
    "is_valid_username('98_infinite')"
   ]
  },
  {
   "cell_type": "markdown",
   "metadata": {},
   "source": [
    "3. Write a regular expression to capture phone numbers. It should match all of the following:\n",
    "\n",
    "##### (210) 867 5309\n",
    "##### +1 210.867.5309\n",
    "##### 867-5309\n",
    "##### 210-867-5309\n"
   ]
  },
  {
   "cell_type": "code",
   "execution_count": 48,
   "metadata": {},
   "outputs": [],
   "source": [
    "def capture_phone_number(subject):\n",
    "    phone_re = r'\\D?\\d?\\s?(\\d{3}.|\\d{3}.|\\d{4})'\n",
    "    match = re.match(phone_re, subject)\n",
    "    if match:\n",
    "        return subject\n",
    "    \n",
    "assert capture_phone_number('(210) 867 5309')\n",
    "assert capture_phone_number('+1 210.867.5309')\n",
    "assert capture_phone_number('867-5309')\n",
    "assert capture_phone_number('210-867-5309')"
   ]
  },
  {
   "cell_type": "code",
   "execution_count": 49,
   "metadata": {},
   "outputs": [
    {
     "data": {
      "text/plain": [
       "'302-652-2465'"
      ]
     },
     "execution_count": 49,
     "metadata": {},
     "output_type": "execute_result"
    }
   ],
   "source": [
    "capture_phone_number('302-652-2465')"
   ]
  },
  {
   "cell_type": "code",
   "execution_count": null,
   "metadata": {},
   "outputs": [],
   "source": [
    "def yyyy_mm_dd_convert(subject):\n",
    "    month = r'0?\\d[1-12]\\W'\n",
    "    day= r'0?\\d[1-31]\\W'\n",
    "    year= r'\\d{2}'\n",
    "\n",
    "    date_conversion = re.sub()"
   ]
  }
 ],
 "metadata": {
  "interpreter": {
   "hash": "38cca0c38332a56087b24af0bc80247f4fced29cb4f7f437d91dc159adec9c4e"
  },
  "kernelspec": {
   "display_name": "Python 3.9.7 ('base')",
   "language": "python",
   "name": "python3"
  },
  "language_info": {
   "codemirror_mode": {
    "name": "ipython",
    "version": 3
   },
   "file_extension": ".py",
   "mimetype": "text/x-python",
   "name": "python",
   "nbconvert_exporter": "python",
   "pygments_lexer": "ipython3",
   "version": "3.9.7"
  },
  "orig_nbformat": 4
 },
 "nbformat": 4,
 "nbformat_minor": 2
}

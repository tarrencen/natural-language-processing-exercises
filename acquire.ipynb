{
 "cells": [
  {
   "cell_type": "code",
   "execution_count": 1,
   "metadata": {},
   "outputs": [],
   "source": [
    "import pandas as pd\n",
    "import requests\n",
    "import re\n",
    "from bs4 import BeautifulSoup, BeautifulStoneSoup\n",
    "\n"
   ]
  },
  {
   "cell_type": "markdown",
   "metadata": {},
   "source": [
    "### Mini-exercise from web-scraping lesson"
   ]
  },
  {
   "cell_type": "code",
   "execution_count": 6,
   "metadata": {},
   "outputs": [
    {
     "data": {
      "text/plain": [
       "str"
      ]
     },
     "execution_count": 6,
     "metadata": {},
     "output_type": "execute_result"
    }
   ],
   "source": [
    "url = 'https://web-scraping-demo.zgulde.net/people'\n",
    "response = requests.get(url)\n",
    "type(response.text)"
   ]
  },
  {
   "cell_type": "code",
   "execution_count": 7,
   "metadata": {},
   "outputs": [
    {
     "data": {
      "text/plain": [
       "'<!DOCTYPE html>\\n<html lang=\"en\">\\n <head>\\n  <meta charset=\"utf-8\"/>\\n  <meta content=\"IE=edge\" http-equiv=\"X-UA-Compatible\"/>\\n  <meta content=\"width=device-width, initial-scale=1.0\" name=\"viewport\"/>\\n  <title>\\n   Example People Page\\n  </title>\\n  <link href=\"https://unpkg.com/tailwindcss@^2/dist/tailwind.min.css\" rel=\"stylesheet\"/>\\n  <link href=\"https://cdn.jsdelivr.net/npm/bootstrap-icons@1.4.1/font/bootstrap-icons.css\" rel=\"stylesheet\"/>\\n </head>\\n <body class=\"mx-auto max-w-screen-lg pb-32\">\\n  <h1 class=\"my-5 text-4xl text-center\">\\n   People\\n  </h1>\\n  <div class=\"my-5 text-red-800 px-5 py-3 bg-red-100 font-bold\">\\n   <p>\\n    <i class=\"bi bi-exclamation-circle text-xl\">\\n    </i>\\n    All data on this page is strictly for demonstration purposes and fake.\\n   </p>\\n  </div>\\n  <div class=\"grid grid-cols-2 gap-x-12 gap-y-16\" id=\"people\">\\n   <div class=\"person border rounded px-3 py-5 grid grid-cols-2 gap-x-3 bg-purple-50 hover:shadow-lg transition duration-500\">\\n    <h2 class=\"text-2xl text-purple-800 name col-span-full border-b\">\\n     Melissa Caldwell DDS\\n    </h2>\\n    <p class=\"quote col-span-full px-5 py-5 text-center text-gray-500\">\\n     \"Team-oriented non-volatile definition\"\\n    </p>\\n    <div class=\"grid grid-cols-9\">\\n     <i class=\"bi bi-envelope-fill text-purple-800\">\\n     </i>\\n     <p class=\"email col-span-8\">\\n      taylorgregory@hotmail.com\\n     </p>\\n     <i class=\"bi bi-telephone-fill text-purple-800\">\\n     </i>\\n     <p class=\"phone col-span-8\">\\n      274.532.2758x46858\\n     </p>\\n    </div>\\n    <div class=\"address grid grid-cols-9\">\\n     <i class=\"bi bi-geo-fill text-purple-800\">\\n     </i>\\n     <p class=\"col-span-8\">\\n      3411 Diaz Field\\n      <br/>\\n      Port Mary, NJ 90935\\n     </p>\\n    </div>\\n   </div>\\n   <div class=\"person border rounded px-3 py-5 grid grid-cols-2 gap-x-3 bg-purple-50 hover:shadow-lg transition duration-500\">\\n    <h2 class=\"text-2xl text-purple-800 name col-span-full border-b\">\\n     Michael Parker\\n    </h2>\\n    <p class=\"quote col-span-full px-5 py-5 text-center text-gray-500\">\\n     \"Balanced secondary pricing structure\"\\n    </p>\\n    <div class=\"grid grid-cols-9\">\\n     <i class=\"bi bi-envelope-fill text-purple-800\">\\n     </i>\\n     <p class=\"email col-span-8\">\\n      kristina17@le.org\\n     </p>\\n     <i class=\"bi bi-telephone-fill text-purple-800\">\\n     </i>\\n     <p class=\"phone col-span-8\">\\n      5426509299\\n     </p>\\n    </div>\\n    <div class=\"address grid grid-cols-9\">\\n     <i class=\"bi bi-geo-fill text-purple-800\">\\n     </i>\\n     <p class=\"col-span-8\">\\n      3210 Ronald Rue\\n      <br/>\\n      North Johnny, FL 39068\\n     </p>\\n    </div>\\n   </div>\\n   <div class=\"person border rounded px-3 py-5 grid grid-cols-2 gap-x-3 bg-purple-50 hover:shadow-lg transition duration-500\">\\n    <h2 class=\"text-2xl text-purple-800 name col-span-full border-b\">\\n     Jon Reyes\\n    </h2>\\n    <p class=\"quote col-span-full px-5 py-5 text-center text-gray-500\">\\n     \"Synergized asymmetric system engine\"\\n    </p>\\n    <div class=\"grid grid-cols-9\">\\n     <i class=\"bi bi-envelope-fill text-purple-800\">\\n     </i>\\n     <p class=\"email col-span-8\">\\n      lukealvarez@hotmail.com\\n     </p>\\n     <i class=\"bi bi-telephone-fill text-purple-800\">\\n     </i>\\n     <p class=\"phone col-span-8\">\\n      (917)461-4065x1577\\n     </p>\\n    </div>\\n    <div class=\"address grid grid-cols-9\">\\n     <i class=\"bi bi-geo-fill text-purple-800\">\\n     </i>\\n     <p class=\"col-span-8\">\\n      74616 Reyes Course\\n      <br/>\\n      Port Nathanhaven, IN 85125\\n     </p>\\n    </div>\\n   </div>\\n   <div class=\"person border rounded px-3 py-5 grid grid-cols-2 gap-x-3 bg-purple-50 hover:shadow-lg transition duration-500\">\\n    <h2 class=\"text-2xl text-purple-800 name col-span-full border-b\">\\n     Jamie Wilson\\n    </h2>\\n    <p class=\"quote col-span-full px-5 py-5 text-center text-gray-500\">\\n     \"Multi-tiered user-facing utilization\"\\n    </p>\\n    <div class=\"grid grid-cols-9\">\\n     <i class=\"bi bi-envelope-fill text-purple-800\">\\n     </i>\\n     <p class=\"email col-span-8\">\\n      cjones@hotmail.com\\n     </p>\\n     <i class=\"bi bi-telephone-fill text-purple-800\">\\n     </i>\\n     <p class=\"phone col-span-8\">\\n      +1-358-251-2819x50420\\n     </p>\\n    </div>\\n    <div class=\"address grid grid-cols-9\">\\n     <i class=\"bi bi-geo-fill text-purple-800\">\\n     </i>\\n     <p class=\"col-span-8\">\\n      92394 Hernandez Centers\\n      <br/>\\n      Davidland, KS 18274\\n     </p>\\n    </div>\\n   </div>\\n   <div class=\"person border rounded px-3 py-5 grid grid-cols-2 gap-x-3 bg-purple-50 hover:shadow-lg transition duration-500\">\\n    <h2 class=\"text-2xl text-purple-800 name col-span-full border-b\">\\n     Melissa Diaz\\n    </h2>\\n    <p class=\"quote col-span-full px-5 py-5 text-center text-gray-500\">\\n     \"Organized asynchronous moderator\"\\n    </p>\\n    <div class=\"grid grid-cols-9\">\\n     <i class=\"bi bi-envelope-fill text-purple-800\">\\n     </i>\\n     <p class=\"email col-span-8\">\\n      jasmine24@yahoo.com\\n     </p>\\n     <i class=\"bi bi-telephone-fill text-purple-800\">\\n     </i>\\n     <p class=\"phone col-span-8\">\\n      001-201-482-1723\\n     </p>\\n    </div>\\n    <div class=\"address grid grid-cols-9\">\\n     <i class=\"bi bi-geo-fill text-purple-800\">\\n     </i>\\n     <p class=\"col-span-8\">\\n      870 Nicholas Alley\\n      <br/>\\n      Lake Jessicatown, WV 49766\\n     </p>\\n    </div>\\n   </div>\\n   <div class=\"person border rounded px-3 py-5 grid grid-cols-2 gap-x-3 bg-purple-50 hover:shadow-lg transition duration-500\">\\n    <h2 class=\"text-2xl text-purple-800 name col-span-full border-b\">\\n     Thomas Leonard\\n    </h2>\\n    <p class=\"quote col-span-full px-5 py-5 text-center text-gray-500\">\\n     \"Sharable well-modulated concept\"\\n    </p>\\n    <div class=\"grid grid-cols-9\">\\n     <i class=\"bi bi-envelope-fill text-purple-800\">\\n     </i>\\n     <p class=\"email col-span-8\">\\n      dennisherrera@gmail.com\\n     </p>\\n     <i class=\"bi bi-telephone-fill text-purple-800\">\\n     </i>\\n     <p class=\"phone col-span-8\">\\n      (088)042-2507\\n     </p>\\n    </div>\\n    <div class=\"address grid grid-cols-9\">\\n     <i class=\"bi bi-geo-fill text-purple-800\">\\n     </i>\\n     <p class=\"col-span-8\">\\n      46110 Johnson Stream Apt. 197\\n      <br/>\\n      Port Kathleenborough, DE 72319\\n     </p>\\n    </div>\\n   </div>\\n   <div class=\"person border rounded px-3 py-5 grid grid-cols-2 gap-x-3 bg-purple-50 hover:shadow-lg transition duration-500\">\\n    <h2 class=\"text-2xl text-purple-800 name col-span-full border-b\">\\n     Reginald White\\n    </h2>\\n    <p class=\"quote col-span-full px-5 py-5 text-center text-gray-500\">\\n     \"Exclusive intermediate model\"\\n    </p>\\n    <div class=\"grid grid-cols-9\">\\n     <i class=\"bi bi-envelope-fill text-purple-800\">\\n     </i>\\n     <p class=\"email col-span-8\">\\n      ukirk@king.org\\n     </p>\\n     <i class=\"bi bi-telephone-fill text-purple-800\">\\n     </i>\\n     <p class=\"phone col-span-8\">\\n      +1-493-731-4311\\n     </p>\\n    </div>\\n    <div class=\"address grid grid-cols-9\">\\n     <i class=\"bi bi-geo-fill text-purple-800\">\\n     </i>\\n     <p class=\"col-span-8\">\\n      589 Jessica Inlet\\n      <br/>\\n      New Robert, UT 96118\\n     </p>\\n    </div>\\n   </div>\\n   <div class=\"person border rounded px-3 py-5 grid grid-cols-2 gap-x-3 bg-purple-50 hover:shadow-lg transition duration-500\">\\n    <h2 class=\"text-2xl text-purple-800 name col-span-full border-b\">\\n     Angela Barber\\n    </h2>\\n    <p class=\"quote col-span-full px-5 py-5 text-center text-gray-500\">\\n     \"Right-sized well-modulated portal\"\\n    </p>\\n    <div class=\"grid grid-cols-9\">\\n     <i class=\"bi bi-envelope-fill text-purple-800\">\\n     </i>\\n     <p class=\"email col-span-8\">\\n      wayne34@martinez.com\\n     </p>\\n     <i class=\"bi bi-telephone-fill text-purple-800\">\\n     </i>\\n     <p class=\"phone col-span-8\">\\n      +1-865-032-6996x1593\\n     </p>\\n    </div>\\n    <div class=\"address grid grid-cols-9\">\\n     <i class=\"bi bi-geo-fill text-purple-800\">\\n     </i>\\n     <p class=\"col-span-8\">\\n      53588 Woodward Crest\\n      <br/>\\n      Port Stephaniestad, GA 36929\\n     </p>\\n    </div>\\n   </div>\\n   <div class=\"person border rounded px-3 py-5 grid grid-cols-2 gap-x-3 bg-purple-50 hover:shadow-lg transition duration-500\">\\n    <h2 class=\"text-2xl text-purple-800 name col-span-full border-b\">\\n     Sonya Frazier\\n    </h2>\\n    <p class=\"quote col-span-full px-5 py-5 text-center text-gray-500\">\\n     \"Optional static array\"\\n    </p>\\n    <div class=\"grid grid-cols-9\">\\n     <i class=\"bi bi-envelope-fill text-purple-800\">\\n     </i>\\n     <p class=\"email col-span-8\">\\n      ycordova@sandoval.com\\n     </p>\\n     <i class=\"bi bi-telephone-fill text-purple-800\">\\n     </i>\\n     <p class=\"phone col-span-8\">\\n      4700441951\\n     </p>\\n    </div>\\n    <div class=\"address grid grid-cols-9\">\\n     <i class=\"bi bi-geo-fill text-purple-800\">\\n     </i>\\n     <p class=\"col-span-8\">\\n      886 Kennedy Lock Suite 677\\n      <br/>\\n      South Denise, NY 33521\\n     </p>\\n    </div>\\n   </div>\\n   <div class=\"person border rounded px-3 py-5 grid grid-cols-2 gap-x-3 bg-purple-50 hover:shadow-lg transition duration-500\">\\n    <h2 class=\"text-2xl text-purple-800 name col-span-full border-b\">\\n     Steven Nelson\\n    </h2>\\n    <p class=\"quote col-span-full px-5 py-5 text-center text-gray-500\">\\n     \"Proactive analyzing firmware\"\\n    </p>\\n    <div class=\"grid grid-cols-9\">\\n     <i class=\"bi bi-envelope-fill text-purple-800\">\\n     </i>\\n     <p class=\"email col-span-8\">\\n      santiagodavid@jones.com\\n     </p>\\n     <i class=\"bi bi-telephone-fill text-purple-800\">\\n     </i>\\n     <p class=\"phone col-span-8\">\\n      157.961.6073x1271\\n     </p>\\n    </div>\\n    <div class=\"address grid grid-cols-9\">\\n     <i class=\"bi bi-geo-fill text-purple-800\">\\n     </i>\\n     <p class=\"col-span-8\">\\n      19380 Gonzalez Coves\\n      <br/>\\n      Lake Maryland, IN 10576\\n     </p>\\n    </div>\\n   </div>\\n  </div>\\n </body>\\n</html>'"
      ]
     },
     "execution_count": 7,
     "metadata": {},
     "output_type": "execute_result"
    }
   ],
   "source": [
    "soup = BeautifulSoup(response.content, 'html.parser')\n",
    "\n",
    "soup.prettify()"
   ]
  },
  {
   "cell_type": "code",
   "execution_count": 8,
   "metadata": {},
   "outputs": [
    {
     "data": {
      "text/plain": [
       "<div class=\"person border rounded px-3 py-5 grid grid-cols-2 gap-x-3 bg-purple-50 hover:shadow-lg transition duration-500\">\n",
       "<h2 class=\"text-2xl text-purple-800 name col-span-full border-b\">Melissa Caldwell DDS</h2>\n",
       "<p class=\"quote col-span-full px-5 py-5 text-center text-gray-500\">\n",
       "            \"Team-oriented non-volatile definition\"\n",
       "        </p>\n",
       "<div class=\"grid grid-cols-9\">\n",
       "<i class=\"bi bi-envelope-fill text-purple-800\"></i>\n",
       "<p class=\"email col-span-8\">taylorgregory@hotmail.com</p>\n",
       "<i class=\"bi bi-telephone-fill text-purple-800\"></i>\n",
       "<p class=\"phone col-span-8\">274.532.2758x46858</p>\n",
       "</div>\n",
       "<div class=\"address grid grid-cols-9\">\n",
       "<i class=\"bi bi-geo-fill text-purple-800\"></i>\n",
       "<p class=\"col-span-8\">\n",
       "                3411 Diaz Field <br/>\n",
       "                Port Mary, NJ 90935\n",
       "            </p>\n",
       "</div>\n",
       "</div>"
      ]
     },
     "execution_count": 8,
     "metadata": {},
     "output_type": "execute_result"
    }
   ],
   "source": [
    "people = soup.select('div.person')\n",
    "people[0]"
   ]
  },
  {
   "cell_type": "code",
   "execution_count": 23,
   "metadata": {},
   "outputs": [],
   "source": [
    "person = people[0]\n",
    "def parse_person(person):\n",
    "    output={}\n",
    "    output['name'] = person.find('h2').text\n",
    "    output['quote'] = person.select('.quote')[0].text\n",
    "    output['email_address'] = person.select_one('.email').text.strip()\n",
    "    output['phone'] = person.select_one('.phone').text\n",
    "    output['address'] = person.select_one('.address').text.strip()\n",
    "    return output\n"
   ]
  },
  {
   "cell_type": "code",
   "execution_count": 24,
   "metadata": {},
   "outputs": [
    {
     "name": "stdout",
     "output_type": "stream",
     "text": [
      "<class 'pandas.core.frame.DataFrame'>\n",
      "RangeIndex: 10 entries, 0 to 9\n",
      "Data columns (total 5 columns):\n",
      " #   Column         Non-Null Count  Dtype \n",
      "---  ------         --------------  ----- \n",
      " 0   name           10 non-null     object\n",
      " 1   quote          10 non-null     object\n",
      " 2   email_address  10 non-null     object\n",
      " 3   phone          10 non-null     object\n",
      " 4   address        10 non-null     object\n",
      "dtypes: object(5)\n",
      "memory usage: 528.0+ bytes\n"
     ]
    },
    {
     "data": {
      "text/html": [
       "<div>\n",
       "<style scoped>\n",
       "    .dataframe tbody tr th:only-of-type {\n",
       "        vertical-align: middle;\n",
       "    }\n",
       "\n",
       "    .dataframe tbody tr th {\n",
       "        vertical-align: top;\n",
       "    }\n",
       "\n",
       "    .dataframe thead th {\n",
       "        text-align: right;\n",
       "    }\n",
       "</style>\n",
       "<table border=\"1\" class=\"dataframe\">\n",
       "  <thead>\n",
       "    <tr style=\"text-align: right;\">\n",
       "      <th></th>\n",
       "      <th>name</th>\n",
       "      <th>quote</th>\n",
       "      <th>email_address</th>\n",
       "      <th>phone</th>\n",
       "      <th>address</th>\n",
       "    </tr>\n",
       "  </thead>\n",
       "  <tbody>\n",
       "    <tr>\n",
       "      <th>0</th>\n",
       "      <td>Melissa Caldwell DDS</td>\n",
       "      <td>\\n            \"Team-oriented non-volatile defi...</td>\n",
       "      <td>taylorgregory@hotmail.com</td>\n",
       "      <td>274.532.2758x46858</td>\n",
       "      <td>3411 Diaz Field \\n                Port Mary, N...</td>\n",
       "    </tr>\n",
       "    <tr>\n",
       "      <th>1</th>\n",
       "      <td>Michael Parker</td>\n",
       "      <td>\\n            \"Balanced secondary pricing stru...</td>\n",
       "      <td>kristina17@le.org</td>\n",
       "      <td>5426509299</td>\n",
       "      <td>3210 Ronald Rue \\n                North Johnny...</td>\n",
       "    </tr>\n",
       "    <tr>\n",
       "      <th>2</th>\n",
       "      <td>Jon Reyes</td>\n",
       "      <td>\\n            \"Synergized asymmetric system en...</td>\n",
       "      <td>lukealvarez@hotmail.com</td>\n",
       "      <td>(917)461-4065x1577</td>\n",
       "      <td>74616 Reyes Course \\n                Port Nath...</td>\n",
       "    </tr>\n",
       "    <tr>\n",
       "      <th>3</th>\n",
       "      <td>Jamie Wilson</td>\n",
       "      <td>\\n            \"Multi-tiered user-facing utiliz...</td>\n",
       "      <td>cjones@hotmail.com</td>\n",
       "      <td>+1-358-251-2819x50420</td>\n",
       "      <td>92394 Hernandez Centers \\n                Davi...</td>\n",
       "    </tr>\n",
       "    <tr>\n",
       "      <th>4</th>\n",
       "      <td>Melissa Diaz</td>\n",
       "      <td>\\n            \"Organized asynchronous moderato...</td>\n",
       "      <td>jasmine24@yahoo.com</td>\n",
       "      <td>001-201-482-1723</td>\n",
       "      <td>870 Nicholas Alley \\n                Lake Jess...</td>\n",
       "    </tr>\n",
       "  </tbody>\n",
       "</table>\n",
       "</div>"
      ],
      "text/plain": [
       "                   name                                              quote  \\\n",
       "0  Melissa Caldwell DDS  \\n            \"Team-oriented non-volatile defi...   \n",
       "1        Michael Parker  \\n            \"Balanced secondary pricing stru...   \n",
       "2             Jon Reyes  \\n            \"Synergized asymmetric system en...   \n",
       "3          Jamie Wilson  \\n            \"Multi-tiered user-facing utiliz...   \n",
       "4          Melissa Diaz  \\n            \"Organized asynchronous moderato...   \n",
       "\n",
       "               email_address                  phone  \\\n",
       "0  taylorgregory@hotmail.com     274.532.2758x46858   \n",
       "1          kristina17@le.org             5426509299   \n",
       "2    lukealvarez@hotmail.com     (917)461-4065x1577   \n",
       "3         cjones@hotmail.com  +1-358-251-2819x50420   \n",
       "4        jasmine24@yahoo.com       001-201-482-1723   \n",
       "\n",
       "                                             address  \n",
       "0  3411 Diaz Field \\n                Port Mary, N...  \n",
       "1  3210 Ronald Rue \\n                North Johnny...  \n",
       "2  74616 Reyes Course \\n                Port Nath...  \n",
       "3  92394 Hernandez Centers \\n                Davi...  \n",
       "4  870 Nicholas Alley \\n                Lake Jess...  "
      ]
     },
     "execution_count": 24,
     "metadata": {},
     "output_type": "execute_result"
    }
   ],
   "source": [
    "people_df = pd.DataFrame([parse_person(person) for person in people])\n",
    "people_df.info()\n",
    "people_df.head()"
   ]
  },
  {
   "cell_type": "code",
   "execution_count": 13,
   "metadata": {},
   "outputs": [
    {
     "data": {
      "text/plain": [
       "[<p>\n",
       " <i class=\"bi bi-exclamation-circle text-xl\"></i>\n",
       "         All data on this page is strictly for demonstration purposes and fake.\n",
       "     </p>,\n",
       " <p class=\"quote col-span-full px-5 py-5 text-center text-gray-500\">\n",
       "             \"Team-oriented non-volatile definition\"\n",
       "         </p>,\n",
       " <p class=\"email col-span-8\">taylorgregory@hotmail.com</p>,\n",
       " <p class=\"phone col-span-8\">274.532.2758x46858</p>,\n",
       " <p class=\"col-span-8\">\n",
       "                 3411 Diaz Field <br/>\n",
       "                 Port Mary, NJ 90935\n",
       "             </p>,\n",
       " <p class=\"quote col-span-full px-5 py-5 text-center text-gray-500\">\n",
       "             \"Balanced secondary pricing structure\"\n",
       "         </p>,\n",
       " <p class=\"email col-span-8\">kristina17@le.org</p>,\n",
       " <p class=\"phone col-span-8\">5426509299</p>,\n",
       " <p class=\"col-span-8\">\n",
       "                 3210 Ronald Rue <br/>\n",
       "                 North Johnny, FL 39068\n",
       "             </p>,\n",
       " <p class=\"quote col-span-full px-5 py-5 text-center text-gray-500\">\n",
       "             \"Synergized asymmetric system engine\"\n",
       "         </p>,\n",
       " <p class=\"email col-span-8\">lukealvarez@hotmail.com</p>,\n",
       " <p class=\"phone col-span-8\">(917)461-4065x1577</p>,\n",
       " <p class=\"col-span-8\">\n",
       "                 74616 Reyes Course <br/>\n",
       "                 Port Nathanhaven, IN 85125\n",
       "             </p>,\n",
       " <p class=\"quote col-span-full px-5 py-5 text-center text-gray-500\">\n",
       "             \"Multi-tiered user-facing utilization\"\n",
       "         </p>,\n",
       " <p class=\"email col-span-8\">cjones@hotmail.com</p>,\n",
       " <p class=\"phone col-span-8\">+1-358-251-2819x50420</p>,\n",
       " <p class=\"col-span-8\">\n",
       "                 92394 Hernandez Centers <br/>\n",
       "                 Davidland, KS 18274\n",
       "             </p>,\n",
       " <p class=\"quote col-span-full px-5 py-5 text-center text-gray-500\">\n",
       "             \"Organized asynchronous moderator\"\n",
       "         </p>,\n",
       " <p class=\"email col-span-8\">jasmine24@yahoo.com</p>,\n",
       " <p class=\"phone col-span-8\">001-201-482-1723</p>,\n",
       " <p class=\"col-span-8\">\n",
       "                 870 Nicholas Alley <br/>\n",
       "                 Lake Jessicatown, WV 49766\n",
       "             </p>,\n",
       " <p class=\"quote col-span-full px-5 py-5 text-center text-gray-500\">\n",
       "             \"Sharable well-modulated concept\"\n",
       "         </p>,\n",
       " <p class=\"email col-span-8\">dennisherrera@gmail.com</p>,\n",
       " <p class=\"phone col-span-8\">(088)042-2507</p>,\n",
       " <p class=\"col-span-8\">\n",
       "                 46110 Johnson Stream Apt. 197 <br/>\n",
       "                 Port Kathleenborough, DE 72319\n",
       "             </p>,\n",
       " <p class=\"quote col-span-full px-5 py-5 text-center text-gray-500\">\n",
       "             \"Exclusive intermediate model\"\n",
       "         </p>,\n",
       " <p class=\"email col-span-8\">ukirk@king.org</p>,\n",
       " <p class=\"phone col-span-8\">+1-493-731-4311</p>,\n",
       " <p class=\"col-span-8\">\n",
       "                 589 Jessica Inlet <br/>\n",
       "                 New Robert, UT 96118\n",
       "             </p>,\n",
       " <p class=\"quote col-span-full px-5 py-5 text-center text-gray-500\">\n",
       "             \"Right-sized well-modulated portal\"\n",
       "         </p>,\n",
       " <p class=\"email col-span-8\">wayne34@martinez.com</p>,\n",
       " <p class=\"phone col-span-8\">+1-865-032-6996x1593</p>,\n",
       " <p class=\"col-span-8\">\n",
       "                 53588 Woodward Crest <br/>\n",
       "                 Port Stephaniestad, GA 36929\n",
       "             </p>,\n",
       " <p class=\"quote col-span-full px-5 py-5 text-center text-gray-500\">\n",
       "             \"Optional static array\"\n",
       "         </p>,\n",
       " <p class=\"email col-span-8\">ycordova@sandoval.com</p>,\n",
       " <p class=\"phone col-span-8\">4700441951</p>,\n",
       " <p class=\"col-span-8\">\n",
       "                 886 Kennedy Lock Suite 677 <br/>\n",
       "                 South Denise, NY 33521\n",
       "             </p>,\n",
       " <p class=\"quote col-span-full px-5 py-5 text-center text-gray-500\">\n",
       "             \"Proactive analyzing firmware\"\n",
       "         </p>,\n",
       " <p class=\"email col-span-8\">santiagodavid@jones.com</p>,\n",
       " <p class=\"phone col-span-8\">157.961.6073x1271</p>,\n",
       " <p class=\"col-span-8\">\n",
       "                 19380 Gonzalez Coves <br/>\n",
       "                 Lake Maryland, IN 10576\n",
       "             </p>]"
      ]
     },
     "execution_count": 13,
     "metadata": {},
     "output_type": "execute_result"
    }
   ],
   "source": [
    "soup.find_all('p')"
   ]
  },
  {
   "cell_type": "code",
   "execution_count": 14,
   "metadata": {},
   "outputs": [
    {
     "data": {
      "text/plain": [
       "['\\n\\n        All data on this page is strictly for demonstration purposes and fake.\\n    ',\n",
       " '\\n            \"Team-oriented non-volatile definition\"\\n        ',\n",
       " 'taylorgregory@hotmail.com',\n",
       " '274.532.2758x46858',\n",
       " '\\n                3411 Diaz Field \\n                Port Mary, NJ 90935\\n            ',\n",
       " '\\n            \"Balanced secondary pricing structure\"\\n        ',\n",
       " 'kristina17@le.org',\n",
       " '5426509299',\n",
       " '\\n                3210 Ronald Rue \\n                North Johnny, FL 39068\\n            ',\n",
       " '\\n            \"Synergized asymmetric system engine\"\\n        ',\n",
       " 'lukealvarez@hotmail.com',\n",
       " '(917)461-4065x1577',\n",
       " '\\n                74616 Reyes Course \\n                Port Nathanhaven, IN 85125\\n            ',\n",
       " '\\n            \"Multi-tiered user-facing utilization\"\\n        ',\n",
       " 'cjones@hotmail.com',\n",
       " '+1-358-251-2819x50420',\n",
       " '\\n                92394 Hernandez Centers \\n                Davidland, KS 18274\\n            ',\n",
       " '\\n            \"Organized asynchronous moderator\"\\n        ',\n",
       " 'jasmine24@yahoo.com',\n",
       " '001-201-482-1723',\n",
       " '\\n                870 Nicholas Alley \\n                Lake Jessicatown, WV 49766\\n            ',\n",
       " '\\n            \"Sharable well-modulated concept\"\\n        ',\n",
       " 'dennisherrera@gmail.com',\n",
       " '(088)042-2507',\n",
       " '\\n                46110 Johnson Stream Apt. 197 \\n                Port Kathleenborough, DE 72319\\n            ',\n",
       " '\\n            \"Exclusive intermediate model\"\\n        ',\n",
       " 'ukirk@king.org',\n",
       " '+1-493-731-4311',\n",
       " '\\n                589 Jessica Inlet \\n                New Robert, UT 96118\\n            ',\n",
       " '\\n            \"Right-sized well-modulated portal\"\\n        ',\n",
       " 'wayne34@martinez.com',\n",
       " '+1-865-032-6996x1593',\n",
       " '\\n                53588 Woodward Crest \\n                Port Stephaniestad, GA 36929\\n            ',\n",
       " '\\n            \"Optional static array\"\\n        ',\n",
       " 'ycordova@sandoval.com',\n",
       " '4700441951',\n",
       " '\\n                886 Kennedy Lock Suite 677 \\n                South Denise, NY 33521\\n            ',\n",
       " '\\n            \"Proactive analyzing firmware\"\\n        ',\n",
       " 'santiagodavid@jones.com',\n",
       " '157.961.6073x1271',\n",
       " '\\n                19380 Gonzalez Coves \\n                Lake Maryland, IN 10576\\n            ']"
      ]
     },
     "execution_count": 14,
     "metadata": {},
     "output_type": "execute_result"
    }
   ],
   "source": [
    "[p.text for p in soup.find_all('p')]"
   ]
  },
  {
   "cell_type": "markdown",
   "metadata": {},
   "source": [
    "### Main exercises"
   ]
  },
  {
   "cell_type": "code",
   "execution_count": 135,
   "metadata": {},
   "outputs": [],
   "source": [
    "codeup_url = 'https://codeup.com/workshops/from-bootcamp-to-bootcamp-a-military-appreciation-panel/'\n",
    "headers = {'user-agent': 'Innis Data Science Cohort'}\n",
    "response = requests.get(codeup_url, headers=headers)\n",
    "soup = BeautifulSoup(response.content, 'html.parser')\n"
   ]
  },
  {
   "cell_type": "code",
   "execution_count": 97,
   "metadata": {},
   "outputs": [
    {
     "data": {
      "text/plain": [
       "<Response [200]>"
      ]
     },
     "execution_count": 97,
     "metadata": {},
     "output_type": "execute_result"
    }
   ],
   "source": [
    "response"
   ]
  },
  {
   "cell_type": "code",
   "execution_count": 136,
   "metadata": {},
   "outputs": [
    {
     "data": {
      "text/plain": [
       "[<article class=\"et_pb_post post-18280 post type-post status-publish format-standard has-post-thumbnail hentry category-alumni-stories category-dallas category-events category-featured category-military category-san-antonio category-veterans category-virtual category-workshops\" id=\"post-18280\">\n",
       " <div class=\"et_post_meta_wrapper\">\n",
       " <h1 class=\"entry-title\">From Bootcamp to Bootcamp | A Military Appreciation Panel</h1>\n",
       " <p class=\"post-meta\"><span class=\"published\">Apr 27, 2022</span> | <a href=\"https://codeup.com/category/alumni-stories/\" rel=\"category tag\">Alumni Stories</a>, <a href=\"https://codeup.com/category/workshops/dallas/\" rel=\"category tag\">Dallas</a>, <a href=\"https://codeup.com/category/events/\" rel=\"category tag\">Events</a>, <a href=\"https://codeup.com/category/featured/\" rel=\"category tag\">Featured</a>, <a href=\"https://codeup.com/category/military/\" rel=\"category tag\">Military</a>, <a href=\"https://codeup.com/category/workshops/san-antonio/\" rel=\"category tag\">San Antonio</a>, <a href=\"https://codeup.com/category/veterans/\" rel=\"category tag\">Veterans</a>, <a href=\"https://codeup.com/category/workshops/virtual/\" rel=\"category tag\">Virtual</a>, <a href=\"https://codeup.com/category/workshops/\" rel=\"category tag\">Workshops</a></p><img alt=\"\" class=\"\" height=\"675\" sizes=\"(min-width: 0px) and (max-width: 480px) 480px, (min-width: 481px) 1080px, 100vw\" src=\"https://199lj33nqk3p88xz03dvn481-wpengine.netdna-ssl.com/wp-content/uploads/2022/04/Blogs-18.png\" srcset=\"https://199lj33nqk3p88xz03dvn481-wpengine.netdna-ssl.com/wp-content/uploads/2022/04/Blogs-18.png 1080w, https://199lj33nqk3p88xz03dvn481-wpengine.netdna-ssl.com/wp-content/uploads/2022/04/Blogs-18-480x279.png 480w\" width=\"1080\"/>\n",
       " </div>\n",
       " <div class=\"entry-content\">\n",
       " <div class=\"et-l et-l--post\">\n",
       " <div class=\"et_builder_inner_content et_pb_gutters3\"><div class=\"et_pb_section et_pb_section_0 et_section_regular\">\n",
       " <div class=\"et_pb_row et_pb_row_0\">\n",
       " <div class=\"et_pb_column et_pb_column_4_4 et_pb_column_0 et_pb_css_mix_blend_mode_passthrough et-last-child\">\n",
       " <div class=\"et_pb_module et_pb_text et_pb_text_0 et_pb_text_align_left et_pb_bg_layout_light\">\n",
       " <div class=\"et_pb_text_inner\"><p data-key=\"16\"><span data-key=\"17\">In honor of Military Appreciation Month, join us for a discussion with Codeup Alumni who are also Military Veterans! We will chat about their experiences attending a coding bootcamp, and how their military training set them up for success here at Codeup. Grab your virtual seat now so you can be sent the exclusive Livestream link on the 11th! </span></p>\n",
       " <p data-key=\"18\"><span data-key=\"19\">Thank you to our panelists for participating: </span></p>\n",
       " <ul>\n",
       " <li data-key=\"18\"><span data-key=\"21\">Christopher Aguirre</span></li>\n",
       " <li data-key=\"22\"><span data-key=\"23\">Taryn McKenzie </span></li>\n",
       " <li data-key=\"24\"><span data-key=\"25\">Desiree McElroy </span></li>\n",
       " </ul>\n",
       " <p data-key=\"26\">\n",
       " <p data-key=\"27\" data-slate-fragment=\"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\"><span data-key=\"28\">And thanks to Codeup’s Trey Iapachino who is also an Air Force Veteran! </span></p></p></div>\n",
       " </div>\n",
       " </div>\n",
       " </div><div class=\"et_pb_row et_pb_row_1\">\n",
       " <div class=\"et_pb_column et_pb_column_4_4 et_pb_column_1 et_pb_css_mix_blend_mode_passthrough et-last-child\">\n",
       " <div class=\"et_pb_module et_pb_code et_pb_code_0\">\n",
       " <div class=\"et_pb_code_inner\"><div id=\"eventbrite-widget-container-329140657567\"></div>\n",
       " <script src=\"https://www.eventbrite.com/static/widgets/eb_widgets.js\"></script>\n",
       " <script type=\"text/javascript\">\n",
       "     var exampleCallback = function() {\n",
       "         console.log('Order complete!');\n",
       "     };\n",
       " \n",
       "     window.EBWidgets.createWidget({\n",
       "         // Required\n",
       "         widgetType: 'checkout',\n",
       "         eventId: '329140657567',\n",
       "         iframeContainerId: 'eventbrite-widget-container-329140657567',\n",
       " \n",
       "         // Optional\n",
       "         iframeContainerHeight: 425,  // Widget height in pixels. Defaults to a minimum of 425px if not provided\n",
       "         onOrderComplete: exampleCallback  // Method called when an order has successfully completed\n",
       "     });\n",
       " </script></div>\n",
       " </div>\n",
       " </div>\n",
       " </div>\n",
       " </div> </div>\n",
       " </div>\n",
       " </div>\n",
       " <div class=\"et_post_meta_wrapper\">\n",
       " </div>\n",
       " </article>]"
      ]
     },
     "execution_count": 136,
     "metadata": {},
     "output_type": "execute_result"
    }
   ],
   "source": [
    "article = soup.select('article.post')\n",
    "article"
   ]
  },
  {
   "cell_type": "code",
   "execution_count": 141,
   "metadata": {},
   "outputs": [
    {
     "data": {
      "text/plain": [
       "[<span class=\"menu-name-behind\"></span>,\n",
       " <span class=\"menu-text\"></span>,\n",
       " <span class=\"hamburger-box\">\n",
       " <span class=\"hamburger-inner\"></span>\n",
       " </span>,\n",
       " <span class=\"hamburger-inner\"></span>,\n",
       " <span id=\"et_search_icon\"></span>,\n",
       " <span class=\"close\"></span>,\n",
       " <span class=\"mobile_menu_bar\"></span>,\n",
       " <span class=\"published\">Apr 27, 2022</span>,\n",
       " <span data-key=\"17\">In honor of Military Appreciation Month, join us for a discussion with Codeup Alumni who are also Military Veterans! We will chat about their experiences attending a coding bootcamp, and how their military training set them up for success here at Codeup. Grab your virtual seat now so you can be sent the exclusive Livestream link on the 11th! </span>,\n",
       " <span data-key=\"19\">Thank you to our panelists for participating: </span>,\n",
       " <span data-key=\"21\">Christopher Aguirre</span>,\n",
       " <span data-key=\"23\">Taryn McKenzie </span>,\n",
       " <span data-key=\"25\">Desiree McElroy </span>,\n",
       " <span data-key=\"28\">And thanks to Codeup’s Trey Iapachino who is also an Air Force Veteran! </span>,\n",
       " <span aria-hidden=\"true\" class=\"et_pb_social_media_follow_network_name\">Follow</span>,\n",
       " <span aria-hidden=\"true\" class=\"et_pb_social_media_follow_network_name\">Follow</span>,\n",
       " <span aria-hidden=\"true\" class=\"et_pb_social_media_follow_network_name\">Follow</span>,\n",
       " <span aria-hidden=\"true\" class=\"et_pb_social_media_follow_network_name\">Follow</span>,\n",
       " <span aria-hidden=\"true\" class=\"et_pb_social_media_follow_network_name\">Follow</span>,\n",
       " <span class=\"et_pb_image_wrap\"><img alt=\"quack quack\" class=\"wp-image-15815\" height=\"256\" loading=\"lazy\" sizes=\"(max-width: 336px) 100vw, 336px\" src=\"https://199lj33nqk3p88xz03dvn481-wpengine.netdna-ssl.com/wp-content/uploads/2018/08/codey-1.png\" srcset=\"https://199lj33nqk3p88xz03dvn481-wpengine.netdna-ssl.com/wp-content/uploads/2018/08/codey-1.png 336w, https://199lj33nqk3p88xz03dvn481-wpengine.netdna-ssl.com/wp-content/uploads/2018/08/codey-1-300x229.png 300w\" title=\"Codey\" width=\"336\"/></span>,\n",
       " <span><div class=\"cli-bar-container cli-style-v2\"><div class=\"cli-bar-message\">We use cookies on our website to give you the most relevant experience by remembering your preferences and repeat visits. By clicking “Accept”, you consent to the use of ALL the cookies.<div class=\"wt-cli-ccpa-element\"> <a class=\"wt-cli-ccpa-opt-out\" style=\"color:#333333\">No worries, we do not sell your personal information.</a>.</div></div><div class=\"cli-bar-btn_container\"><a class=\"medium cli-plugin-button cli-plugin-main-button cli_settings_button\" role=\"button\" style=\"margin:0px 10px 0px 5px\">Cookie Settings</a><a class=\"medium cli-plugin-button cli-plugin-main-button cookie_action_close_header cli_action_button\" data-cli_action=\"accept\" id=\"cookie_action_close_header\" role=\"button\">Accept</a></div></div></span>,\n",
       " <span id=\"cookie_hdr_showagain\">Manage consent</span>,\n",
       " <span class=\"wt-cli-sr-only\">Close</span>,\n",
       " <span class=\"cli-necessary-caption\">Always Enabled</span>,\n",
       " <span class=\"wt-cli-sr-only\">Functional</span>,\n",
       " <span class=\"wt-cli-sr-only\">Performance</span>,\n",
       " <span class=\"wt-cli-sr-only\">Analytics</span>,\n",
       " <span class=\"wt-cli-sr-only\">Advertisement</span>,\n",
       " <span class=\"wt-cli-sr-only\">Others</span>,\n",
       " <span class=\"et_pb_scroll_top et-pb-icon\"></span>]"
      ]
     },
     "execution_count": 141,
     "metadata": {},
     "output_type": "execute_result"
    }
   ],
   "source": [
    "span = soup.select('span')\n",
    "span"
   ]
  },
  {
   "cell_type": "code",
   "execution_count": 148,
   "metadata": {},
   "outputs": [
    {
     "data": {
      "text/plain": [
       "{'title': 'From Bootcamp to Bootcamp | A Military Appreciation Panel',\n",
       " 'date': 'Apr 27, 2022',\n",
       " 'content': 'In honor of Military Appreciation Month, join us for a discussion with Codeup Alumni who are also Military Veterans! We will chat about their experiences attending a coding bootcamp, and how their military training set them up for success here at Codeup. Grab your virtual seat now so you can be sent the exclusive Livestream link on the 11th!'}"
      ]
     },
     "execution_count": 148,
     "metadata": {},
     "output_type": "execute_result"
    }
   ],
   "source": [
    "cu_output = {}\n",
    "\n",
    "cu_output['title'] = soup.select_one('h1.entry-title').text\n",
    "cu_output['date'] = soup.select_one('span.published').text\n",
    "cu_output['content'] = soup.select('span')[8].text.strip()\n",
    "\n",
    "cu_output"
   ]
  },
  {
   "cell_type": "code",
   "execution_count": 134,
   "metadata": {},
   "outputs": [],
   "source": [
    "codeup_url = 'https://codeup.com/featured/our-acquisition-of-the-rackspace-cloud-academy-one-year-later/'\n",
    "headers = {'user-agent': 'Innis Data Science Cohort'}\n",
    "response = requests.get(codeup_url, headers=headers)\n",
    "cu2_soup = BeautifulSoup(response.content, 'html.parser')"
   ]
  },
  {
   "cell_type": "code",
   "execution_count": 149,
   "metadata": {},
   "outputs": [
    {
     "data": {
      "text/plain": [
       "[<article class=\"et_pb_post post-18207 post type-post status-publish format-standard has-post-thumbnail hentry category-codeup-news category-featured category-it-training\" id=\"post-18207\">\n",
       " <div class=\"et_post_meta_wrapper\">\n",
       " <h1 class=\"entry-title\">Our Acquisition of the Rackspace Cloud Academy: One Year Later</h1>\n",
       " <p class=\"post-meta\"><span class=\"published\">Apr 14, 2022</span> | <a href=\"https://codeup.com/category/codeup-news/\" rel=\"category tag\">Codeup News</a>, <a href=\"https://codeup.com/category/featured/\" rel=\"category tag\">Featured</a>, <a href=\"https://codeup.com/category/it-training/\" rel=\"category tag\">IT Training</a></p><img alt=\"\" class=\"\" height=\"675\" sizes=\"(min-width: 0px) and (max-width: 480px) 480px, (min-width: 481px) 1080px, 100vw\" src=\"https://199lj33nqk3p88xz03dvn481-wpengine.netdna-ssl.com/wp-content/uploads/2022/04/Blogs-8.png\" srcset=\"https://199lj33nqk3p88xz03dvn481-wpengine.netdna-ssl.com/wp-content/uploads/2022/04/Blogs-8.png 1080w, https://199lj33nqk3p88xz03dvn481-wpengine.netdna-ssl.com/wp-content/uploads/2022/04/Blogs-8-480x279.png 480w\" width=\"1080\"/>\n",
       " </div>\n",
       " <div class=\"entry-content\">\n",
       " <p><span style=\"font-weight: 400;\">Just about a year ago on April 16th, 2021 we announced our acquisition of the Rackspace Cloud Academy! For a short time after the acquisition, it was rebranded as the Codeup Cloud Academy and is now a full-time part of the Codeup brand. You can read our blog when we announced this last year <a href=\"https://codeup.com/codeup-news/codeup-acquires-rackspace-cloud-academy/\">by clicking here. </a></span></p>\n",
       " <p><span style=\"font-weight: 400;\">To look back at the past year, we checked in with Marcus Benavidez and Mike Jaime who stayed with Codeup after previously working with the Rackspace Cloud Academy. We also checked in with Dimitri Antoniou who is our VP of Strategic Initiatives and helped with the merger of the two companies. We asked them questions about the current campus, and also what the future may look like at Codeup’s new “Castle” campus. </span></p>\n",
       " <h5>What makes Codeup’s new “Castle” campus so special?</h5>\n",
       " <p><b>Mike Jamie:</b><span style=\"font-weight: 400;\"> Its history! Rackspace and former Rackers were instrumental in jumpstarting the tech industry here in San Antonio. This includes Geekdom, where Codeup was established. The Castle is where Rackspace ultimately decided to call its international headquarters. </span></p>\n",
       " <p><b>Marcus Benavidez:</b><span style=\"font-weight: 400;\"> The </span><span style=\"font-weight: 400;\">campus is designed with the student experience in mind. This includes the large classrooms and facilities to match. It’s a piece of San Antonio history as it’s on the Rackspace Campus. </span></p>\n",
       " <p><b>Dimitri </b><b>Antoniou</b><b>:</b><span style=\"font-weight: 400;\"> The Castle has been a staple of tech in San Antonio for years. Train new tech employees in high-growth careers like Cloud Administration from the Castle campus is an exciting extension of the legacy of Rackspace’s impact on San Antonio.</span></p>\n",
       " <h5>What new traditions have you created at the Castle or would to start since the acquisition?</h5>\n",
       " <p><b>Mike:</b><span style=\"font-weight: 400;\"> A way to implement a version of “Rookie O” across staff and cohorts. </span></p>\n",
       " <p><b>Marcus:</b> <span style=\"font-weight: 400;\">I would love to see some kind of Alumni wall or recognition for Alumni past, present, and future. </span></p>\n",
       " <h5>Since it’s been 1 yr since the acquisition, where do you see our Castle campus in 3, 5, or even 10 years from now?</h5>\n",
       " <p><b>Marcus: </b><span style=\"font-weight: 400;\">It will be awesome once Web Development and Data Science programs are approved on this campus. I am looking forward to the cross-pollination of technologies, students, and staff. </span></p>\n",
       " <p><b>Dimitri:</b><span style=\"font-weight: 400;\"> Maybe we will have our own mall to ourselves one day</span></p>\n",
       " <h5>What advice would you give to those considering our new Cloud Administration program?</h5>\n",
       " <p><b>Mike</b><span style=\"font-weight: 400;\">: If you’re looking to get your foot in the door, I think it’s a no-brainer as you will be learning AWS administration, which is the most in-demand cloud computing platform. Also, the decision to focus on hands-on experience and know-how as opposed to certification exam memorization will better prepare students with practical knowledge.</span></p>\n",
       " <p><b>Marcus:</b><span style=\"font-weight: 400;\"> Do it. The time to positively impact your life and to create change is now.</span></p>\n",
       " <p><b>Dimitri:</b><span style=\"font-weight: 400;\"> Skills in networking, Linux, and AWS can put you on a path to so many different careers, including cybersecurity and cloud architecture. These are some of the highest growth and most exciting pathways in technology. With experienced experts like Jeremy Price and Kris Connolly to teach you, there’s no better way to open doors in IT.</span></p>\n",
       " <h5>What programs could you see being delivered at the Castle campus in the future?</h5>\n",
       " <p><b>Mike</b><span style=\"font-weight: 400;\">: Cybersecurity again! Also Web Development and Data Science as well. </span></p>\n",
       " <p><b>Marcus</b><span style=\"font-weight: 400;\">: We should continue to build and offer classes that align with the market [i.e. what skills are in high demand]. </span></p>\n",
       " <p><b>Dimitri:</b><span style=\"font-weight: 400;\"> AWS is one of 3 major cloud providers, along with Microsoft Azure and Google Cloud. I think it won’t be long until we’re training a variety of cloud careers across all major players.</span></p>\n",
       " <h5>The Castle has ping pong and foosball. What other indoor competitive game would you add?</h5>\n",
       " <p><b>Mike:</b><span style=\"font-weight: 400;\"> Air Hockey and Shuffle Board</span></p>\n",
       " <p><b>Marcus:</b><span style=\"font-weight: 400;\"> Vintage Arcade games would be awesome! </span></p>\n",
       " <p><b>Dimitri:</b><span style=\"font-weight: 400;\"> There’s so much open space – I’d love to run a nerf gun or dodgeball tournament!</span></p>\n",
       " <h5>Join our new Cloud Administration Program</h5>\n",
       " <p><span style=\"font-weight: 400;\">Tinkerers, computer enthusiasts, mechanics, or really anyone who likes to fix and build things will love our brand new Cloud Administration program. The foundation of skills you will learn could land you a job in Cloud Architecture, Cybersecurity, DevOps, &amp; Solutions Engineering. You will learn new skills in just 15 weeks, and won’t break the bank like a traditional 4-year college degree. Our next class starts on 5/31. </span></p>\n",
       " <p><em><span style=\"font-weight: 400;\">Our Castle campus includes the following perks: </span></em></p>\n",
       " <ul>\n",
       " <li aria-level=\"1\" style=\"font-weight: 400;\"><span style=\"font-weight: 400;\">Hands-on labs to get real-time hands-on experience</span></li>\n",
       " <li aria-level=\"1\" style=\"font-weight: 400;\"><span style=\"font-weight: 400;\">Live classroom instruction</span></li>\n",
       " <li aria-level=\"1\" style=\"font-weight: 400;\"><span style=\"font-weight: 400;\">Ping pong and foosball tables </span></li>\n",
       " <li aria-level=\"1\" style=\"font-weight: 400;\"><span style=\"font-weight: 400;\">Lots of comfortable seating options to break out and study or just relax </span></li>\n",
       " <li aria-level=\"1\" style=\"font-weight: 400;\"><span style=\"font-weight: 400;\">A large cafeteria area </span></li>\n",
       " <li aria-level=\"1\" style=\"font-weight: 400;\"><span style=\"font-weight: 400;\">Free Coffee, Tea, Water, and Soda </span></li>\n",
       " <li aria-level=\"1\" style=\"font-weight: 400;\"><span style=\"font-weight: 400;\">We also have a vending machine for additional drinks and snacks </span></li>\n",
       " <li aria-level=\"1\" style=\"font-weight: 400;\"><span style=\"font-weight: 400;\">Free covered parking </span></li>\n",
       " <li aria-level=\"1\" style=\"font-weight: 400;\"><span style=\"font-weight: 400;\">Located at Rackspace’s headquarters </span></li>\n",
       " </ul>\n",
       " <p><span style=\"font-weight: 400;\">If you are looking to change your career, there is no better time than now! Classes for this new program will fill up fast so don’t delay!</span></p>\n",
       " <p><img alt=\"\" class=\"alignnone size-medium wp-image-18217\" height=\"157\" loading=\"lazy\" src=\"https://199lj33nqk3p88xz03dvn481-wpengine.netdna-ssl.com/wp-content/uploads/2022/04/3-300x157.png\" width=\"300\"/> <img alt=\"\" class=\"alignnone size-medium wp-image-18218\" height=\"157\" loading=\"lazy\" src=\"https://199lj33nqk3p88xz03dvn481-wpengine.netdna-ssl.com/wp-content/uploads/2022/04/1-300x157.png\" width=\"300\"/> <img alt=\"\" class=\"alignnone size-medium wp-image-18219\" height=\"157\" loading=\"lazy\" src=\"https://199lj33nqk3p88xz03dvn481-wpengine.netdna-ssl.com/wp-content/uploads/2022/04/2-300x157.png\" width=\"300\"/></p>\n",
       " <p> </p>\n",
       " </div>\n",
       " <div class=\"et_post_meta_wrapper\">\n",
       " </div>\n",
       " </article>]"
      ]
     },
     "execution_count": 149,
     "metadata": {},
     "output_type": "execute_result"
    }
   ],
   "source": [
    "cu2_soup.select('article.post')"
   ]
  },
  {
   "cell_type": "code",
   "execution_count": 152,
   "metadata": {},
   "outputs": [
    {
     "data": {
      "text/plain": [
       "{'title': 'Our Acquisition of the Rackspace Cloud Academy: One Year Later',\n",
       " 'date': 'Apr 14, 2022',\n",
       " 'content': '\\nJust about a year ago on April 16th, 2021 we announced our acquisition of the Rackspace Cloud Academy! For a short time after the acquisition, it was rebranded as the Codeup Cloud Academy and is now a full-time part of the Codeup brand. You can read our blog when we announced this last year by clicking here.\\xa0\\nTo look back at the past year, we checked in with Marcus Benavidez and Mike Jaime who stayed with Codeup after previously working with the Rackspace Cloud Academy. We also checked in with Dimitri Antoniou who is our VP of Strategic Initiatives and helped with the merger of the two companies. We asked them questions about the current campus, and also what the future may look like at Codeup’s new “Castle” campus.\\xa0\\nWhat makes Codeup’s new “Castle” campus so special?\\nMike Jamie: Its history! Rackspace and former Rackers were instrumental in jumpstarting the tech industry here in San Antonio. This includes Geekdom, where Codeup was established. The Castle is where Rackspace ultimately decided to call its international headquarters.\\xa0\\nMarcus Benavidez: The campus is designed with the student experience in mind. This includes the large classrooms and facilities to match. It’s a piece of San Antonio history as it’s on the Rackspace Campus.\\xa0\\nDimitri Antoniou: The Castle has been a staple of tech in San Antonio for years. Train new tech employees in high-growth careers like Cloud Administration from the Castle campus is an exciting extension of the legacy of Rackspace’s impact on San Antonio.\\nWhat new traditions have you created at the Castle or would to start since the acquisition?\\nMike: A way to implement a version of “Rookie O” across staff and cohorts.\\xa0\\nMarcus: I would love to see some kind of Alumni wall or recognition for Alumni past, present, and future.\\xa0\\nSince it’s been 1 yr since the acquisition, where do you see our Castle campus in 3, 5, or even 10 years from now?\\nMarcus: It will be awesome once Web Development and Data Science programs are approved on this campus. I am looking forward to the cross-pollination of technologies, students, and staff.\\xa0\\nDimitri: Maybe we will have our own mall to ourselves one day\\nWhat advice would you give to those considering our new Cloud Administration program?\\nMike: If you’re looking to get your foot in the door, I think it’s a no-brainer as you will be learning AWS administration, which is the most in-demand cloud computing platform. Also, the decision to focus on hands-on experience and know-how as opposed to certification exam memorization will better prepare students with practical knowledge.\\nMarcus: Do it. The time to positively impact your life and to create change is now.\\nDimitri: Skills in networking, Linux, and AWS can put you on a path to so many different careers, including cybersecurity and cloud architecture. These are some of the highest growth and most exciting pathways in technology. With experienced experts like Jeremy Price and Kris Connolly to teach you, there’s no better way to open doors in IT.\\nWhat programs could you see being delivered at the Castle campus in the future?\\nMike: Cybersecurity again! Also Web Development and Data Science as well.\\xa0\\nMarcus: We should continue to build and offer classes that align with the market [i.e. what skills are in high demand].\\xa0\\nDimitri: AWS is one of 3 major cloud providers, along with Microsoft Azure and Google Cloud. I think it won’t be long until we’re training a variety of cloud careers across all major players.\\nThe Castle has ping pong and foosball. What other indoor competitive game would you add?\\nMike: Air Hockey and Shuffle Board\\nMarcus: Vintage Arcade games would be awesome!\\xa0\\nDimitri: There’s so much open space – I’d love to run a nerf gun or dodgeball tournament!\\nJoin our new Cloud Administration Program\\nTinkerers, computer enthusiasts, mechanics, or really anyone who likes to fix and build things will love our brand new Cloud Administration program. The foundation of skills you will learn could land you a job in Cloud Architecture, Cybersecurity, DevOps, & Solutions Engineering. You will learn new skills in just 15 weeks, and won’t break the bank like a traditional 4-year college degree. Our next class starts on 5/31.\\xa0\\nOur Castle campus includes the following perks:\\xa0\\n\\nHands-on labs to get real-time hands-on experience\\nLive classroom instruction\\nPing pong and foosball tables\\xa0\\nLots of comfortable seating options to break out and study or just relax\\xa0\\nA large cafeteria area\\xa0\\nFree Coffee, Tea, Water, and Soda\\xa0\\nWe also have a vending machine for additional drinks and snacks\\xa0\\nFree covered parking\\xa0\\nLocated at Rackspace’s headquarters\\xa0\\n\\nIf you are looking to change your career, there is no better time than now! Classes for this new program will fill up fast so don’t delay!\\n  \\n\\xa0\\n'}"
      ]
     },
     "execution_count": 152,
     "metadata": {},
     "output_type": "execute_result"
    }
   ],
   "source": [
    "cu2_output = {}\n",
    "\n",
    "cu2_output['title'] = cu2_soup.select_one('h1.entry-title').text\n",
    "cu2_output['date'] = cu2_soup.select_one('span.published').text\n",
    "cu2_output['content'] = cu2_soup.select_one('div.entry-content').text\n",
    "\n",
    "cu2_output"
   ]
  },
  {
   "cell_type": "code",
   "execution_count": 154,
   "metadata": {},
   "outputs": [],
   "source": [
    "codeup_url = 'https://codeup.com/workshops/virtual/learn-to-code-html-css-on-4-30/'\n",
    "headers = {'user-agent': 'Innis Data Science Cohort'}\n",
    "response = requests.get(codeup_url, headers=headers)\n",
    "cu3_soup = BeautifulSoup(response.content, 'html.parser')"
   ]
  },
  {
   "cell_type": "code",
   "execution_count": 155,
   "metadata": {},
   "outputs": [
    {
     "data": {
      "text/plain": [
       "[<article class=\"et_pb_post post-18184 post type-post status-publish format-standard has-post-thumbnail hentry category-virtual category-workshops\" id=\"post-18184\">\n",
       " <div class=\"et_post_meta_wrapper\">\n",
       " <h1 class=\"entry-title\">Learn to Code: HTML &amp; CSS on 4/30</h1>\n",
       " <p class=\"post-meta\"><span class=\"published\">Apr 1, 2022</span> | <a href=\"https://codeup.com/category/workshops/virtual/\" rel=\"category tag\">Virtual</a>, <a href=\"https://codeup.com/category/workshops/\" rel=\"category tag\">Workshops</a></p><img alt=\"\" class=\"\" height=\"675\" sizes=\"(min-width: 0px) and (max-width: 480px) 480px, (min-width: 481px) 1080px, 100vw\" src=\"https://199lj33nqk3p88xz03dvn481-wpengine.netdna-ssl.com/wp-content/uploads/2022/04/Blogs-4.png\" srcset=\"https://199lj33nqk3p88xz03dvn481-wpengine.netdna-ssl.com/wp-content/uploads/2022/04/Blogs-4.png 1080w, https://199lj33nqk3p88xz03dvn481-wpengine.netdna-ssl.com/wp-content/uploads/2022/04/Blogs-4-480x279.png 480w\" width=\"1080\"/>\n",
       " </div>\n",
       " <div class=\"entry-content\">\n",
       " <div class=\"et-l et-l--post\">\n",
       " <div class=\"et_builder_inner_content et_pb_gutters3\">\n",
       " <div class=\"et_pb_section et_pb_section_0 et_section_regular\">\n",
       " <div class=\"et_pb_row et_pb_row_0\">\n",
       " <div class=\"et_pb_column et_pb_column_4_4 et_pb_column_0 et_pb_css_mix_blend_mode_passthrough et-last-child\">\n",
       " <div class=\"et_pb_module et_pb_text et_pb_text_0 et_pb_text_align_left et_pb_bg_layout_light\">\n",
       " <div class=\"et_pb_text_inner\"><p data-key=\"1\"><span data-key=\"2\">HTML &amp; CSS are the design building blocks of all the websites you interact with on a daily basis. Attend this workshop to understand how it works and get some hands-on experience with coding! No prior experience is necessary!</span></p>\n",
       " <p data-key=\"3\"><span data-key=\"4\"><strong data-slate-leaf=\"true\">Materials to bring:</strong></span></p>\n",
       " <p data-key=\"5\"><span data-key=\"6\">A laptop – any kind! It just must be able to connect to WiFi</span></p>\n",
       " <p data-key=\"7\"><span data-key=\"8\">Your smiling face! </span></p>\n",
       " <p data-key=\"9\" data-slate-fragment=\"JTdCJTIyb2JqZWN0JTIyJTNBJTIyZG9jdW1lbnQlMjIlMkMlMjJkYXRhJTIyJTNBJTdCJTdEJTJDJTIybm9kZXMlMjIlM0ElNUIlN0IlMjJvYmplY3QlMjIlM0ElMjJibG9jayUyMiUyQyUyMnR5cGUlMjIlM0ElMjJwYXJhZ3JhcGglMjIlMkMlMjJkYXRhJTIyJTNBJTdCJTIyY2xhc3NOYW1lJTIyJTNBbnVsbCU3RCUyQyUyMm5vZGVzJTIyJTNBJTVCJTdCJTIyb2JqZWN0JTIyJTNBJTIydGV4dCUyMiUyQyUyMmxlYXZlcyUyMiUzQSU1QiU3QiUyMm9iamVjdCUyMiUzQSUyMmxlYWYlMjIlMkMlMjJ0ZXh0JTIyJTNBJTIySFRNTCUyMCUyNiUyMENTUyUyMGFyZSUyMHRoZSUyMGRlc2lnbiUyMGJ1aWxkaW5nJTIwYmxvY2tzJTIwb2YlMjBhbGwlMjB0aGUlMjB3ZWJzaXRlcyUyMHlvdSUyMGludGVyYWN0JTIwd2l0aCUyMG9uJTIwYSUyMGRhaWx5JTIwYmFzaXMuJTIwQXR0ZW5kJTIwdGhpcyUyMHdvcmtzaG9wJTIwdG8lMjB1bmRlcnN0YW5kJTIwaG93JTIwaXQlMjB3b3JrcyUyMGFuZCUyMGdldCUyMHNvbWUlMjBoYW5kcy1vbiUyMGV4cGVyaWVuY2UlMjB3aXRoJTIwY29kaW5nISUyME5vJTIwcHJpb3IlMjBleHBlcmllbmNlJTIwaXMlMjBuZWNlc3NhcnkhJTIyJTJDJTIybWFya3MlMjIlM0ElNUIlNUQlN0QlNUQlN0QlNUQlN0QlMkMlN0IlMjJvYmplY3QlMjIlM0ElMjJibG9jayUyMiUyQyUyMnR5cGUlMjIlM0ElMjJwYXJhZ3JhcGglMjIlMkMlMjJkYXRhJTIyJTNBJTdCJTIyY2xhc3NOYW1lJTIyJTNBbnVsbCU3RCUyQyUyMm5vZGVzJTIyJTNBJTVCJTdCJTIyb2JqZWN0JTIyJTNBJTIydGV4dCUyMiUyQyUyMmxlYXZlcyUyMiUzQSU1QiU3QiUyMm9iamVjdCUyMiUzQSUyMmxlYWYlMjIlMkMlMjJ0ZXh0JTIyJTNBJTIyTWF0ZXJpYWxzJTIwdG8lMjBicmluZyUzQSUyMiUyQyUyMm1hcmtzJTIyJTNBJTVCJTdCJTIyb2JqZWN0JTIyJTNBJTIybWFyayUyMiUyQyUyMnR5cGUlMjIlM0ElMjJib2xkJTIyJTJDJTIyZGF0YSUyMiUzQSU3QiU3RCU3RCU1RCU3RCU1RCU3RCU1RCU3RCUyQyU3QiUyMm9iamVjdCUyMiUzQSUyMmJsb2NrJTIyJTJDJTIydHlwZSUyMiUzQSUyMnBhcmFncmFwaCUyMiUyQyUyMmRhdGElMjIlM0ElN0IlMjJjbGFzc05hbWUlMjIlM0FudWxsJTdEJTJDJTIybm9kZXMlMjIlM0ElNUIlN0IlMjJvYmplY3QlMjIlM0ElMjJ0ZXh0JTIyJTJDJTIybGVhdmVzJTIyJTNBJTVCJTdCJTIyb2JqZWN0JTIyJTNBJTIybGVhZiUyMiUyQyUyMnRleHQlMjIlM0ElMjJBJTIwbGFwdG9wJTIwLSUyMGFueSUyMGtpbmQhJTIwSXQlMjBqdXN0JTIwbXVzdCUyMGJlJTIwYWJsZSUyMHRvJTIwY29ubmVjdCUyMHRvJTIwV2lGaSUyMiUyQyUyMm1hcmtzJTIyJTNBJTVCJTVEJTdEJTVEJTdEJTVEJTdEJTJDJTdCJTIyb2JqZWN0JTIyJTNBJTIyYmxvY2slMjIlMkMlMjJ0eXBlJTIyJTNBJTIycGFyYWdyYXBoJTIyJTJDJTIyZGF0YSUyMiUzQSU3QiUyMmNsYXNzTmFtZSUyMiUzQW51bGwlN0QlMkMlMjJub2RlcyUyMiUzQSU1QiU3QiUyMm9iamVjdCUyMiUzQSUyMnRleHQlMjIlMkMlMjJsZWF2ZXMlMjIlM0ElNUIlN0IlMjJvYmplY3QlMjIlM0ElMjJsZWFmJTIyJTJDJTIydGV4dCUyMiUzQSUyMllvdXIlMjBzbWlsaW5nJTIwZmFjZSElMjAlMjIlMkMlMjJtYXJrcyUyMiUzQSU1QiU1RCU3RCU1RCU3RCU1RCU3RCUyQyU3QiUyMm9iamVjdCUyMiUzQSUyMmJsb2NrJTIyJTJDJTIydHlwZSUyMiUzQSUyMnBhcmFncmFwaCUyMiUyQyUyMmRhdGElMjIlM0ElN0IlMjJjbGFzc05hbWUlMjIlM0FudWxsJTdEJTJDJTIybm9kZXMlMjIlM0ElNUIlN0IlMjJvYmplY3QlMjIlM0ElMjJ0ZXh0JTIyJTJDJTIybGVhdmVzJTIyJTNBJTVCJTdCJTIyb2JqZWN0JTIyJTNBJTIybGVhZiUyMiUyQyUyMnRleHQlMjIlM0ElMjJOb3RlJTNBJTIwTXVzdCUyMGJlJTIwMTclMkIlMjB5ZWFycyUyMG9sZCUyMHRvJTIwcGFydGljaXBhdGUlMjIlMkMlMjJtYXJrcyUyMiUzQSU1QiU1RCU3RCU1RCU3RCU1RCU3RCU1RCU3RA==\"><span data-key=\"10\">Note: Must be 17+ years old to participate and live in the United States</span></p></div>\n",
       " </div>\n",
       " </div>\n",
       " </div>\n",
       " </div><div class=\"et_pb_section et_pb_section_1 et_section_regular\">\n",
       " <div class=\"et_pb_row et_pb_row_1\">\n",
       " <div class=\"et_pb_column et_pb_column_4_4 et_pb_column_1 et_pb_css_mix_blend_mode_passthrough et-last-child\">\n",
       " <div class=\"et_pb_module et_pb_code et_pb_code_0\">\n",
       " <div class=\"et_pb_code_inner\"><div id=\"eventbrite-widget-container-310176114107\"></div>\n",
       " <script src=\"https://www.eventbrite.com/static/widgets/eb_widgets.js\"></script>\n",
       " <script type=\"text/javascript\">\n",
       "     var exampleCallback = function() {\n",
       "         console.log('Order complete!');\n",
       "     };\n",
       " \n",
       "     window.EBWidgets.createWidget({\n",
       "         // Required\n",
       "         widgetType: 'checkout',\n",
       "         eventId: '310176114107',\n",
       "         iframeContainerId: 'eventbrite-widget-container-310176114107',\n",
       " \n",
       "         // Optional\n",
       "         iframeContainerHeight: 425,  // Widget height in pixels. Defaults to a minimum of 425px if not provided\n",
       "         onOrderComplete: exampleCallback  // Method called when an order has successfully completed\n",
       "     });\n",
       " </script></div>\n",
       " </div>\n",
       " </div>\n",
       " </div>\n",
       " </div> </div>\n",
       " </div>\n",
       " </div>\n",
       " <div class=\"et_post_meta_wrapper\">\n",
       " </div>\n",
       " </article>]"
      ]
     },
     "execution_count": 155,
     "metadata": {},
     "output_type": "execute_result"
    }
   ],
   "source": [
    "cu3_soup.select('article.post')"
   ]
  },
  {
   "cell_type": "code",
   "execution_count": 157,
   "metadata": {},
   "outputs": [
    {
     "data": {
      "text/plain": [
       "{'title': 'Learn to Code: HTML & CSS on 4/30',\n",
       " 'date': 'Apr 1, 2022',\n",
       " 'content': 'HTML & CSS are the design building blocks of all the websites you interact with on a daily basis. Attend this workshop to understand how it works and get some hands-on experience with coding! No prior experience is necessary!\\nMaterials to bring:\\nA laptop – any kind! It just must be able to connect to WiFi\\nYour smiling face! \\nNote: Must be 17+ years old to participate and live in the United States'}"
      ]
     },
     "execution_count": 157,
     "metadata": {},
     "output_type": "execute_result"
    }
   ],
   "source": [
    "cu3_output = {}\n",
    "\n",
    "cu3_output['title'] = cu3_soup.select_one('h1.entry-title').text\n",
    "cu3_output['date'] = cu3_soup.select_one('.published').text\n",
    "cu3_output['content'] = cu3_soup.select_one('.entry-content').text.strip()\n",
    "\n",
    "cu3_output"
   ]
  },
  {
   "cell_type": "code",
   "execution_count": 158,
   "metadata": {},
   "outputs": [],
   "source": [
    "codeup_url = 'https://codeup.com/workshops/virtual/learn-to-code-python-workshop-on-4-16/'\n",
    "headers = {'user-agent': 'Innis Data Science Cohort'}\n",
    "response = requests.get(codeup_url, headers=headers)\n",
    "cu4_soup = BeautifulSoup(response.content, 'html.parser')"
   ]
  },
  {
   "cell_type": "code",
   "execution_count": 159,
   "metadata": {},
   "outputs": [
    {
     "data": {
      "text/plain": [
       "{'title': 'Learn to Code: Python Workshop on 4/23',\n",
       " 'date': 'Mar 31, 2022',\n",
       " 'content': 'According to LinkedIn, the “#1 Most Promising Job” is data science! But we here at Codeup understand changing careers can be a daunting idea. That’s where our free Learn to Code workshops come in!\\xa0\\nOn Saturday 4/23 we will be teaching a free Learn to Code workshop on the programming language Python which is one of the major building blocks of Data Science!\\nWhat is data science? What is Python? \\nIf you’re curious, join for free to learn the basics of Python from our very own instructors and get an introduction to the field of Data Science. This is all done from the comfort of home.\\nSave your seat quickly – our Python workshops are always in high demand! \\nWhat you need:\\n1. Laptop (does not matter what kind). You need to be able to access WiFi and run an internet browser.\\n2. To RSVP!\\nYou can register for the event below!'}"
      ]
     },
     "execution_count": 159,
     "metadata": {},
     "output_type": "execute_result"
    }
   ],
   "source": [
    "cu4_output = {}\n",
    "\n",
    "cu4_output['title'] = cu4_soup.select_one('h1.entry-title').text\n",
    "cu4_output['date'] = cu4_soup.select_one('.published').text\n",
    "cu4_output['content'] = cu4_soup.select_one('.entry-content').text.strip()\n",
    "\n",
    "cu4_output"
   ]
  },
  {
   "cell_type": "code",
   "execution_count": 160,
   "metadata": {},
   "outputs": [],
   "source": [
    "codeup_url = 'https://codeup.com/codeup-news/coming-soon-cloud-administration/'\n",
    "headers = {'user-agent': 'Innis Data Science Cohort'}\n",
    "response = requests.get(codeup_url, headers=headers)\n",
    "cu5_soup = BeautifulSoup(response.content, 'html.parser')"
   ]
  },
  {
   "cell_type": "code",
   "execution_count": 161,
   "metadata": {},
   "outputs": [
    {
     "data": {
      "text/plain": [
       "{'title': 'Coming Soon: Cloud Administration',\n",
       " 'date': 'Mar 17, 2022',\n",
       " 'content': 'We’re launching a new program out of San Antonio!\\nWith the acquisition of Rackspace Open Cloud Academy last year, Codeup expanded its tech training into IT, cybersecurity, and cloud. Now, we are excited to announce our newest coming-soon program: Cloud Administration! Learn to build and manage cloud-based solutions.\\nWhat is the cloud? \\nIn short, the cloud lets you utilize the power of other people’s computers and infrastructure. Instead of having to run everything on your own computer (and dealing with pesky problems of storage, security, and reliability), you can instantly tap into the cloud to utilize the power of companies that specialize in these areas, like AWS, Google, and Microsoft.\\nWhy the cloud? \\nThe future is in the cloud! As the new way of doing business, all companies need to build or interact with cloud products. And these aren’t just high-tech solutions – they’re the core of everyday products like cloud-based gaming from Xbox, collaborative work tools from Google Drive, and even music streaming services from Spotify.\\nWhat will we learn? \\nThe Cloud Administration program will be a 15-week career accelerator that marries the best of our Systems Engineering and Cyber Cloud programs. With hands-on training in networking, Linux, Windows, security, and AWS Cloud, we’ll prepare you for entry-level jobs like Cloud Specialist, Cloud Administrator, and Cloud Engineer. Learn to build infrastructure that enables software and data science products, manage cloud deployments, and optimize for cloud performance.\\n\\nWho is this program for? \\nIf coding or statistics aren’t your things, but you’re interested in a career in tech, this is the program for you. Tinkerers, computer enthusiasts, mechanics, gamers – anyone who likes to fix and build things will love this program. With this foundation, students will be launched into IT towards careers in Cloud Architecture, Cybersecurity, DevOps, and Solutions Engineering.\\nWhen will the program launch? \\nWe anticipate starting our inaugural class in late May. With only 20 seats available in the inaugural class, space is limited. Sign up now to be the first to hear about the launch of our Cloud Administration program!\\n\\n\\nBe the first know when the Cloud Administration program launches by signing up on this page here.'}"
      ]
     },
     "execution_count": 161,
     "metadata": {},
     "output_type": "execute_result"
    }
   ],
   "source": [
    "cu5_output = {}\n",
    "\n",
    "cu5_output['title'] = cu5_soup.select_one('h1.entry-title').text\n",
    "cu5_output['date'] = cu5_soup.select_one('.published').text\n",
    "cu5_output['content'] = cu5_soup.select_one('.entry-content').text.strip()\n",
    "\n",
    "cu5_output"
   ]
  },
  {
   "cell_type": "code",
   "execution_count": 2,
   "metadata": {},
   "outputs": [],
   "source": [
    "def parse_codeup_blog(soup):\n",
    "    '''\n",
    "    Takes in a BeautifulSoup object made from a page on Codeup's blog,\n",
    "    returns a dictionary containing the blog's title, date published, and its content.\n",
    "    '''\n",
    "    output = {}\n",
    "\n",
    "    output['title'] = soup.select_one('h1.entry-title').text\n",
    "    output['date'] = soup.select_one('.published').text\n",
    "    output['content'] = soup.select_one('.entry-content').text.strip()\n",
    "\n",
    "    return output\n",
    "\n",
    "\n"
   ]
  },
  {
   "cell_type": "code",
   "execution_count": 8,
   "metadata": {},
   "outputs": [
    {
     "data": {
      "text/plain": [
       "{'title': 'Learn to Code: Python Workshop on 4/23',\n",
       " 'date': 'Mar 31, 2022',\n",
       " 'content': 'According to LinkedIn, the “#1 Most Promising Job” is data science! But we here at Codeup understand changing careers can be a daunting idea. That’s where our free Learn to Code workshops come in!\\xa0\\nOn Saturday 4/23 we will be teaching a free Learn to Code workshop on the programming language Python which is one of the major building blocks of Data Science!\\nWhat is data science? What is Python? \\nIf you’re curious, join for free to learn the basics of Python from our very own instructors and get an introduction to the field of Data Science. This is all done from the comfort of home.\\nSave your seat quickly – our Python workshops are always in high demand! \\nWhat you need:\\n1. Laptop (does not matter what kind). You need to be able to access WiFi and run an internet browser.\\n2. To RSVP!\\nYou can register for the event below!'}"
      ]
     },
     "execution_count": 8,
     "metadata": {},
     "output_type": "execute_result"
    }
   ],
   "source": [
    "codeup_url = 'https://codeup.com/workshops/virtual/learn-to-code-python-workshop-on-4-16/'\n",
    "headers = {'user-agent': 'Innis Data Science Cohort'}\n",
    "response = requests.get(codeup_url, headers=headers)\n",
    "cu4_soup = BeautifulSoup(response.content, 'html.parser')\n",
    "\n",
    "output = parse_codeup_blog(cu4_soup)\n",
    "output"
   ]
  },
  {
   "cell_type": "code",
   "execution_count": 10,
   "metadata": {},
   "outputs": [
    {
     "name": "stdout",
     "output_type": "stream",
     "text": [
      "None\n"
     ]
    }
   ],
   "source": [
    "codeup_url = 'https://codeup.com/blog/'\n",
    "headers = {'user-agent': 'Innis Data Science Cohort'}\n",
    "response = requests.get(codeup_url, headers=headers)\n",
    "soup = BeautifulSoup(response.text)\n",
    "\n",
    "print(soup.select_one('a.more_link'))"
   ]
  },
  {
   "cell_type": "code",
   "execution_count": 16,
   "metadata": {},
   "outputs": [],
   "source": [
    "def get_cublog_urls():\n",
    "    '''\n",
    "    Returns urls from the codeup.com blog\n",
    "    '''\n",
    "    codeup_url = 'https://codeup.com/blog/'\n",
    "    headers = {'user-agent': 'Innis Data Science Cohort'}\n",
    "    response = requests.get(codeup_url, headers=headers)\n",
    "    soup = BeautifulSoup(response.text)\n",
    "    urls = [a.attrs['href'] for a in soup.select('a.more-link')]\n",
    "    return urls "
   ]
  },
  {
   "cell_type": "code",
   "execution_count": 11,
   "metadata": {},
   "outputs": [],
   "source": [
    "def get_blog_article_urls():\n",
    "    headers = {'user-agent': 'Innis Codeup Data Science'}\n",
    "    response = requests.get('https://codeup.com/blog/', headers=headers)\n",
    "    soup = BeautifulSoup(response.text)\n",
    "    urls = [a.attrs['href'] for a in soup.select('a.more-link')]\n",
    "    return urls"
   ]
  },
  {
   "cell_type": "code",
   "execution_count": 12,
   "metadata": {},
   "outputs": [
    {
     "data": {
      "text/plain": [
       "['https://codeup.com/workshops/virtual/learn-to-code-python-workshop-on-4-16/',\n",
       " 'https://codeup.com/codeup-news/coming-soon-cloud-administration/',\n",
       " 'https://codeup.com/featured/5-books-every-woman-in-tech-should-read/',\n",
       " 'https://codeup.com/codeup-news/codeup-start-dates-for-march-2022/',\n",
       " 'https://codeup.com/codeup-news/vet-tec-funding-dallas/',\n",
       " 'https://codeup.com/codeup-news/dallas-campus-re-opens-with-new-grant-partner/',\n",
       " 'https://codeup.com/codeup-news/codeups-placement-team-continues-setting-records/',\n",
       " 'https://codeup.com/it-training/it-certifications-101/',\n",
       " 'https://codeup.com/cybersecurity/a-rise-in-cyber-attacks-means-opportunities-for-veterans-in-san-antonio/',\n",
       " 'https://codeup.com/codeup-news/use-your-gi-bill-benefits-to-land-a-job-in-tech/',\n",
       " 'https://codeup.com/tips-for-prospective-students/which-program-is-right-for-me-cyber-security-or-systems-engineering/',\n",
       " 'https://codeup.com/it-training/what-the-heck-is-system-engineering/',\n",
       " 'https://codeup.com/alumni-stories/from-speech-pathology-to-business-intelligence/',\n",
       " 'https://codeup.com/behind-the-billboards/boris-behind-the-billboards/',\n",
       " 'https://codeup.com/codeup-news/is-codeup-the-best-bootcamp-in-san-antonio-or-the-world/']"
      ]
     },
     "execution_count": 12,
     "metadata": {},
     "output_type": "execute_result"
    }
   ],
   "source": [
    "urls = get_blog_article_urls()\n",
    "urls"
   ]
  },
  {
   "cell_type": "code",
   "execution_count": 13,
   "metadata": {},
   "outputs": [],
   "source": [
    "import os\n",
    "\n",
    "def get_cublog_articles(use_cache= True):\n",
    "    filename = 'codeup_blog_articles.json'\n",
    "    if os.path.exists(filename) and use_cache:\n",
    "        return pd.read_json(filename)\n",
    "\n",
    "    urls = get_blog_article_urls()\n",
    "    articles = []\n",
    "\n",
    "    for url in urls:\n",
    "        print(f'Fetching {url}')\n",
    "        headers = {'user-agent': 'Innis Data Science Cohort'}\n",
    "        response = requests.get(url, headers=headers)\n",
    "        soup = BeautifulSoup(response.text)\n",
    "        articles.append(parse_codeup_blog(soup))\n",
    "    \n",
    "    df = pd.DataFrame(articles)\n",
    "    df.to_json(filename, orient= 'records')\n",
    "\n",
    "    return df\n",
    "    \n"
   ]
  },
  {
   "cell_type": "code",
   "execution_count": 15,
   "metadata": {},
   "outputs": [
    {
     "name": "stdout",
     "output_type": "stream",
     "text": [
      "Fetching https://codeup.com/workshops/virtual/learn-to-code-python-workshop-on-4-16/\n",
      "Fetching https://codeup.com/codeup-news/coming-soon-cloud-administration/\n",
      "Fetching https://codeup.com/featured/5-books-every-woman-in-tech-should-read/\n",
      "Fetching https://codeup.com/codeup-news/codeup-start-dates-for-march-2022/\n",
      "Fetching https://codeup.com/codeup-news/vet-tec-funding-dallas/\n",
      "Fetching https://codeup.com/codeup-news/dallas-campus-re-opens-with-new-grant-partner/\n",
      "Fetching https://codeup.com/codeup-news/codeups-placement-team-continues-setting-records/\n",
      "Fetching https://codeup.com/it-training/it-certifications-101/\n",
      "Fetching https://codeup.com/cybersecurity/a-rise-in-cyber-attacks-means-opportunities-for-veterans-in-san-antonio/\n",
      "Fetching https://codeup.com/codeup-news/use-your-gi-bill-benefits-to-land-a-job-in-tech/\n",
      "Fetching https://codeup.com/tips-for-prospective-students/which-program-is-right-for-me-cyber-security-or-systems-engineering/\n",
      "Fetching https://codeup.com/it-training/what-the-heck-is-system-engineering/\n",
      "Fetching https://codeup.com/alumni-stories/from-speech-pathology-to-business-intelligence/\n",
      "Fetching https://codeup.com/behind-the-billboards/boris-behind-the-billboards/\n",
      "Fetching https://codeup.com/codeup-news/is-codeup-the-best-bootcamp-in-san-antonio-or-the-world/\n"
     ]
    },
    {
     "data": {
      "text/html": [
       "<div>\n",
       "<style scoped>\n",
       "    .dataframe tbody tr th:only-of-type {\n",
       "        vertical-align: middle;\n",
       "    }\n",
       "\n",
       "    .dataframe tbody tr th {\n",
       "        vertical-align: top;\n",
       "    }\n",
       "\n",
       "    .dataframe thead th {\n",
       "        text-align: right;\n",
       "    }\n",
       "</style>\n",
       "<table border=\"1\" class=\"dataframe\">\n",
       "  <thead>\n",
       "    <tr style=\"text-align: right;\">\n",
       "      <th></th>\n",
       "      <th>title</th>\n",
       "      <th>date</th>\n",
       "      <th>content</th>\n",
       "    </tr>\n",
       "  </thead>\n",
       "  <tbody>\n",
       "    <tr>\n",
       "      <th>0</th>\n",
       "      <td>Learn to Code: Python Workshop on 4/23</td>\n",
       "      <td>Mar 31, 2022</td>\n",
       "      <td>According to LinkedIn, the “#1 Most Promising ...</td>\n",
       "    </tr>\n",
       "    <tr>\n",
       "      <th>1</th>\n",
       "      <td>Coming Soon: Cloud Administration</td>\n",
       "      <td>Mar 17, 2022</td>\n",
       "      <td>We’re launching a new program out of San Anton...</td>\n",
       "    </tr>\n",
       "    <tr>\n",
       "      <th>2</th>\n",
       "      <td>5 Books Every Woman In Tech Should Read</td>\n",
       "      <td>Mar 8, 2022</td>\n",
       "      <td>On this International Women’s Day 2022 we want...</td>\n",
       "    </tr>\n",
       "    <tr>\n",
       "      <th>3</th>\n",
       "      <td>Codeup Start Dates for March 2022</td>\n",
       "      <td>Jan 26, 2022</td>\n",
       "      <td>As we approach the end of January we wanted to...</td>\n",
       "    </tr>\n",
       "    <tr>\n",
       "      <th>4</th>\n",
       "      <td>VET TEC Funding Now Available For Dallas Veterans</td>\n",
       "      <td>Jan 7, 2022</td>\n",
       "      <td>We are so happy to announce that VET TEC benef...</td>\n",
       "    </tr>\n",
       "  </tbody>\n",
       "</table>\n",
       "</div>"
      ],
      "text/plain": [
       "                                               title          date  \\\n",
       "0             Learn to Code: Python Workshop on 4/23  Mar 31, 2022   \n",
       "1                  Coming Soon: Cloud Administration  Mar 17, 2022   \n",
       "2            5 Books Every Woman In Tech Should Read   Mar 8, 2022   \n",
       "3                  Codeup Start Dates for March 2022  Jan 26, 2022   \n",
       "4  VET TEC Funding Now Available For Dallas Veterans   Jan 7, 2022   \n",
       "\n",
       "                                             content  \n",
       "0  According to LinkedIn, the “#1 Most Promising ...  \n",
       "1  We’re launching a new program out of San Anton...  \n",
       "2  On this International Women’s Day 2022 we want...  \n",
       "3  As we approach the end of January we wanted to...  \n",
       "4  We are so happy to announce that VET TEC benef...  "
      ]
     },
     "execution_count": 15,
     "metadata": {},
     "output_type": "execute_result"
    }
   ],
   "source": [
    "articles_df = get_cublog_articles(use_cache=False)\n",
    "\n",
    "articles_df.head()"
   ]
  },
  {
   "cell_type": "code",
   "execution_count": 31,
   "metadata": {},
   "outputs": [
    {
     "data": {
      "text/plain": [
       "<Response [200]>"
      ]
     },
     "execution_count": 31,
     "metadata": {},
     "output_type": "execute_result"
    }
   ],
   "source": [
    "response = requests.get('https://inshorts.com/en/read')\n",
    "response"
   ]
  },
  {
   "cell_type": "code",
   "execution_count": 36,
   "metadata": {},
   "outputs": [
    {
     "data": {
      "text/plain": [
       "'\\nCarrier announced that as the inventor of modern air conditioning, it has kept in sync with evolving consumer demands for energy-efficient room air conditioners with advanced features. The 2022 range of air conditioners includes personalized cooling on a single click with Flexicool 6-in-1, faster cooling with Insta Cool and easy access to features with Carrier Smart Connect, the company stated.\\n\\nshort by Roshan Gupta / \\n      07:00 am on 10 May\\n\\n'"
      ]
     },
     "execution_count": 36,
     "metadata": {},
     "output_type": "execute_result"
    }
   ],
   "source": [
    "short_soup = BeautifulSoup(response.text)\n",
    "\n",
    "short_soup.select('div.news-card-content')[0].text"
   ]
  },
  {
   "cell_type": "code",
   "execution_count": 39,
   "metadata": {},
   "outputs": [
    {
     "data": {
      "text/plain": [
       "'\\n\\nExperience a new era of cooling with Carrier air conditioners: Carrier\\n\\n\\nshort by Roshan Gupta / \\n      07:00 am on 10 May 2022,Tuesday\\n\\n'"
      ]
     },
     "execution_count": 39,
     "metadata": {},
     "output_type": "execute_result"
    }
   ],
   "source": [
    "short_soup.select_one('.news-card-title').text"
   ]
  },
  {
   "cell_type": "code",
   "execution_count": 40,
   "metadata": {},
   "outputs": [
    {
     "data": {
      "text/plain": [
       "{'date_time': '\\nshort by Roshan Gupta / \\n      07:00 am on 10 May 2022,Tuesday\\n',\n",
       " 'title': '\\n\\nExperience a new era of cooling with Carrier air conditioners: Carrier\\n\\n\\nshort by Roshan Gupta / \\n      07:00 am on 10 May 2022,Tuesday\\n\\n',\n",
       " 'content': '\\nCarrier announced that as the inventor of modern air conditioning, it has kept in sync with evolving consumer demands for energy-efficient room air conditioners with advanced features. The 2022 range of air conditioners includes personalized cooling on a single click with Flexicool 6-in-1, faster cooling with Insta Cool and easy access to features with Carrier Smart Connect, the company stated.\\n\\nshort by Roshan Gupta / \\n      07:00 am on 10 May\\n\\n'}"
      ]
     },
     "execution_count": 40,
     "metadata": {},
     "output_type": "execute_result"
    }
   ],
   "source": [
    "short_output = {}\n",
    "short_output['date_time'] = short_soup.select_one('.news-card-author-time').text\n",
    "short_output['title'] = short_soup.select_one('.news-card-title').text\n",
    "short_output['content'] = short_soup.select_one('.news-card-content').text\n",
    "\n",
    "short_output"
   ]
  },
  {
   "cell_type": "code",
   "execution_count": 41,
   "metadata": {},
   "outputs": [
    {
     "data": {
      "text/plain": [
       "{'date_time': '\\nshort by Apaar Sharma / \\n      10:35 am on 09 May 2022,Monday\\n',\n",
       " 'title': '\\n\\nRupee hits all-time low of 77.42 against US dollar\\n\\n\\nshort by Apaar Sharma / \\n      10:35 am on 09 May 2022,Monday\\n\\n',\n",
       " 'content': '\\nThe Indian rupee fell to an all-time low of 77.42 against the US dollar on Monday, Reuters reported. Asian markets were lower on Monday as US stock futures fell on fears of more policy tightening from the Federal Reserve and strict lockdown in Shanghai impacting global growth, according to Reuters.\\n\\nshort by Apaar Sharma / \\n      10:35 am on 09 May\\n\\n',\n",
       " 'category': 'business'}"
      ]
     },
     "execution_count": 41,
     "metadata": {},
     "output_type": "execute_result"
    }
   ],
   "source": [
    "response = requests.get('https://inshorts.com/en/read/business')\n",
    "biz_soup = BeautifulSoup(response.text)\n",
    "biz_output = {}\n",
    "biz_output['date_time'] = biz_soup.select_one('.news-card-author-time').text\n",
    "biz_output['title'] = biz_soup.select_one('.news-card-title').text\n",
    "biz_output['content'] = biz_soup.select_one('.news-card-content').text\n",
    "biz_output['category'] = 'business'\n",
    "\n",
    "biz_output"
   ]
  },
  {
   "cell_type": "code",
   "execution_count": 42,
   "metadata": {},
   "outputs": [
    {
     "data": {
      "text/plain": [
       "[<div class=\"news-card-author-time news-card-author-time-in-title\">\n",
       " <a href=\"/prev/en/news/rupee-hits-alltime-low-of-7742-against-us-dollar-1652072731191\"><span class=\"short\">short</span></a> by <span class=\"author\">Apaar Sharma</span> / \n",
       "       <span class=\"time\" content=\"2022-05-09T05:05:31.000Z\" itemprop=\"datePublished\">10:35 am</span> on <span clas=\"date\">09 May 2022,Monday</span>\n",
       " </div>,\n",
       " <div class=\"news-card-author-time news-card-author-time-in-content\">\n",
       " <a href=\"/prev/en/news/rupee-hits-alltime-low-of-7742-against-us-dollar-1652072731191\"><span class=\"short\">short</span></a> by <span class=\"author\">Apaar Sharma</span> / \n",
       "       <span class=\"time\" content=\"2022-05-09T05:05:31.000Z\" itemprop=\"dateModified\">10:35 am</span> on <span class=\"date\">09 May</span>\n",
       " </div>,\n",
       " <div class=\"news-card-author-time news-card-author-time-in-title\">\n",
       " <a href=\"/prev/en/news/bitcoin-falls-to-the-lowest-level-since-january-trades-below-$34000-1652088034918\"><span class=\"short\">short</span></a> by <span class=\"author\">Pragya Swastik</span> / \n",
       "       <span class=\"time\" content=\"2022-05-09T09:20:34.000Z\" itemprop=\"datePublished\">02:50 pm</span> on <span clas=\"date\">09 May 2022,Monday</span>\n",
       " </div>,\n",
       " <div class=\"news-card-author-time news-card-author-time-in-content\">\n",
       " <a href=\"/prev/en/news/bitcoin-falls-to-the-lowest-level-since-january-trades-below-$34000-1652088034918\"><span class=\"short\">short</span></a> by <span class=\"author\">Pragya Swastik</span> / \n",
       "       <span class=\"time\" content=\"2022-05-09T09:20:34.000Z\" itemprop=\"dateModified\">02:50 pm</span> on <span class=\"date\">09 May</span>\n",
       " </div>,\n",
       " <div class=\"news-card-author-time news-card-author-time-in-title\">\n",
       " <a href=\"/prev/en/news/rupee-closes-at-alltime-low-of-7750-against-us-dollar-1652110063000\"><span class=\"short\">short</span></a> by <span class=\"author\">Pragya Swastik</span> / \n",
       "       <span class=\"time\" content=\"2022-05-09T15:27:43.000Z\" itemprop=\"datePublished\">08:57 pm</span> on <span clas=\"date\">09 May 2022,Monday</span>\n",
       " </div>,\n",
       " <div class=\"news-card-author-time news-card-author-time-in-content\">\n",
       " <a href=\"/prev/en/news/rupee-closes-at-alltime-low-of-7750-against-us-dollar-1652110063000\"><span class=\"short\">short</span></a> by <span class=\"author\">Pragya Swastik</span> / \n",
       "       <span class=\"time\" content=\"2022-05-09T15:27:43.000Z\" itemprop=\"dateModified\">08:57 pm</span> on <span class=\"date\">09 May</span>\n",
       " </div>,\n",
       " <div class=\"news-card-author-time news-card-author-time-in-title\">\n",
       " <a href=\"/prev/en/news/made-best-possible-decision-indigo-on-barring-differentlyabled-child-from-flight-1652089834499\"><span class=\"short\">short</span></a> by <span class=\"author\">Pragya Swastik</span> / \n",
       "       <span class=\"time\" content=\"2022-05-09T09:50:34.000Z\" itemprop=\"datePublished\">03:20 pm</span> on <span clas=\"date\">09 May 2022,Monday</span>\n",
       " </div>,\n",
       " <div class=\"news-card-author-time news-card-author-time-in-content\">\n",
       " <a href=\"/prev/en/news/made-best-possible-decision-indigo-on-barring-differentlyabled-child-from-flight-1652089834499\"><span class=\"short\">short</span></a> by <span class=\"author\">Pragya Swastik</span> / \n",
       "       <span class=\"time\" content=\"2022-05-09T09:50:34.000Z\" itemprop=\"dateModified\">03:20 pm</span> on <span class=\"date\">09 May</span>\n",
       " </div>,\n",
       " <div class=\"news-card-author-time news-card-author-time-in-title\">\n",
       " <a href=\"/prev/en/news/indias-biggest-ipo-of-lic-subscribed-nearly-3-times-on-final-day-of-bidding-1652105438915\"><span class=\"short\">short</span></a> by <span class=\"author\">Pragya Swastik</span> / \n",
       "       <span class=\"time\" content=\"2022-05-09T14:10:38.000Z\" itemprop=\"datePublished\">07:40 pm</span> on <span clas=\"date\">09 May 2022,Monday</span>\n",
       " </div>,\n",
       " <div class=\"news-card-author-time news-card-author-time-in-content\">\n",
       " <a href=\"/prev/en/news/indias-biggest-ipo-of-lic-subscribed-nearly-3-times-on-final-day-of-bidding-1652105438915\"><span class=\"short\">short</span></a> by <span class=\"author\">Pragya Swastik</span> / \n",
       "       <span class=\"time\" content=\"2022-05-09T14:10:38.000Z\" itemprop=\"dateModified\">07:40 pm</span> on <span class=\"date\">09 May</span>\n",
       " </div>,\n",
       " <div class=\"news-card-author-time news-card-author-time-in-title\">\n",
       " <a href=\"/prev/en/news/japan-will-cease-to-exist-venice-dying-due-to-very-low-birth-rates-musk-1652102277390\"><span class=\"short\">short</span></a> by <span class=\"author\">Pragya Swastik</span> / \n",
       "       <span class=\"time\" content=\"2022-05-09T13:17:57.000Z\" itemprop=\"datePublished\">06:47 pm</span> on <span clas=\"date\">09 May 2022,Monday</span>\n",
       " </div>,\n",
       " <div class=\"news-card-author-time news-card-author-time-in-content\">\n",
       " <a href=\"/prev/en/news/japan-will-cease-to-exist-venice-dying-due-to-very-low-birth-rates-musk-1652102277390\"><span class=\"short\">short</span></a> by <span class=\"author\">Pragya Swastik</span> / \n",
       "       <span class=\"time\" content=\"2022-05-09T13:17:57.000Z\" itemprop=\"dateModified\">06:47 pm</span> on <span class=\"date\">09 May</span>\n",
       " </div>,\n",
       " <div class=\"news-card-author-time news-card-author-time-in-title\">\n",
       " <a href=\"/prev/en/news/i-will-do-my-best-to-stay-alive-musk-to-his-mother-after-mysterious-dying-tweet-1652070096453\"><span class=\"short\">short</span></a> by <span class=\"author\">Ridham Gambhir</span> / \n",
       "       <span class=\"time\" content=\"2022-05-09T04:21:36.000Z\" itemprop=\"datePublished\">09:51 am</span> on <span clas=\"date\">09 May 2022,Monday</span>\n",
       " </div>,\n",
       " <div class=\"news-card-author-time news-card-author-time-in-content\">\n",
       " <a href=\"/prev/en/news/i-will-do-my-best-to-stay-alive-musk-to-his-mother-after-mysterious-dying-tweet-1652070096453\"><span class=\"short\">short</span></a> by <span class=\"author\">Ridham Gambhir</span> / \n",
       "       <span class=\"time\" content=\"2022-05-09T04:21:36.000Z\" itemprop=\"dateModified\">09:51 am</span> on <span class=\"date\">09 May</span>\n",
       " </div>,\n",
       " <div class=\"news-card-author-time news-card-author-time-in-title\">\n",
       " <a href=\"/prev/en/news/microsoft-to-help-cover-us-employees-travel-costs-for-abortion-1652154146568\"><span class=\"short\">short</span></a> by <span class=\"author\">Ridham Gambhir</span> / \n",
       "       <span class=\"time\" content=\"2022-05-10T03:42:26.000Z\" itemprop=\"datePublished\">09:12 am</span> on <span clas=\"date\">10 May 2022,Tuesday</span>\n",
       " </div>,\n",
       " <div class=\"news-card-author-time news-card-author-time-in-content\">\n",
       " <a href=\"/prev/en/news/microsoft-to-help-cover-us-employees-travel-costs-for-abortion-1652154146568\"><span class=\"short\">short</span></a> by <span class=\"author\">Ridham Gambhir</span> / \n",
       "       <span class=\"time\" content=\"2022-05-10T03:42:26.000Z\" itemprop=\"dateModified\">09:12 am</span> on <span class=\"date\">10 May</span>\n",
       " </div>,\n",
       " <div class=\"news-card-author-time news-card-author-time-in-title\">\n",
       " <a href=\"/prev/en/news/if-i-die-under-mysterious-circumstances-nice-knowing-ya-musk-after-russian-threats-1652066424162\"><span class=\"short\">short</span></a> by <span class=\"author\">Ridham Gambhir</span> / \n",
       "       <span class=\"time\" content=\"2022-05-09T03:20:24.000Z\" itemprop=\"datePublished\">08:50 am</span> on <span clas=\"date\">09 May 2022,Monday</span>\n",
       " </div>,\n",
       " <div class=\"news-card-author-time news-card-author-time-in-content\">\n",
       " <a href=\"/prev/en/news/if-i-die-under-mysterious-circumstances-nice-knowing-ya-musk-after-russian-threats-1652066424162\"><span class=\"short\">short</span></a> by <span class=\"author\">Ridham Gambhir</span> / \n",
       "       <span class=\"time\" content=\"2022-05-09T03:20:24.000Z\" itemprop=\"dateModified\">08:50 am</span> on <span class=\"date\">09 May</span>\n",
       " </div>,\n",
       " <div class=\"news-card-author-time news-card-author-time-in-title\">\n",
       " <a href=\"/prev/en/news/uber-will-treat-hiring-as-a-privilege-to-cut-costs-ceo-1652095489060\"><span class=\"short\">short</span></a> by <span class=\"author\">Pragya Swastik</span> / \n",
       "       <span class=\"time\" content=\"2022-05-09T11:24:49.000Z\" itemprop=\"datePublished\">04:54 pm</span> on <span clas=\"date\">09 May 2022,Monday</span>\n",
       " </div>,\n",
       " <div class=\"news-card-author-time news-card-author-time-in-content\">\n",
       " <a href=\"/prev/en/news/uber-will-treat-hiring-as-a-privilege-to-cut-costs-ceo-1652095489060\"><span class=\"short\">short</span></a> by <span class=\"author\">Pragya Swastik</span> / \n",
       "       <span class=\"time\" content=\"2022-05-09T11:24:49.000Z\" itemprop=\"dateModified\">04:54 pm</span> on <span class=\"date\">09 May</span>\n",
       " </div>,\n",
       " <div class=\"news-card-author-time news-card-author-time-in-title\">\n",
       " <a href=\"/prev/en/news/gst-council-may-consider-highest-28-tax-on-cryptocurrencies-report-1652071922776\"><span class=\"short\">short</span></a> by <span class=\"author\">Ridham Gambhir</span> / \n",
       "       <span class=\"time\" content=\"2022-05-09T04:52:02.000Z\" itemprop=\"datePublished\">10:22 am</span> on <span clas=\"date\">09 May 2022,Monday</span>\n",
       " </div>,\n",
       " <div class=\"news-card-author-time news-card-author-time-in-content\">\n",
       " <a href=\"/prev/en/news/gst-council-may-consider-highest-28-tax-on-cryptocurrencies-report-1652071922776\"><span class=\"short\">short</span></a> by <span class=\"author\">Ridham Gambhir</span> / \n",
       "       <span class=\"time\" content=\"2022-05-09T04:52:02.000Z\" itemprop=\"dateModified\">10:22 am</span> on <span class=\"date\">09 May</span>\n",
       " </div>,\n",
       " <div class=\"news-card-author-time news-card-author-time-in-title\">\n",
       " <a href=\"/prev/en/news/investigating-it-myself-scindia-after-indigo-denies-boarding-to-differentlyabled-child-1652069422986\"><span class=\"short\">short</span></a> by <span class=\"author\">Ridham Gambhir</span> / \n",
       "       <span class=\"time\" content=\"2022-05-09T04:10:22.000Z\" itemprop=\"datePublished\">09:40 am</span> on <span clas=\"date\">09 May 2022,Monday</span>\n",
       " </div>,\n",
       " <div class=\"news-card-author-time news-card-author-time-in-content\">\n",
       " <a href=\"/prev/en/news/investigating-it-myself-scindia-after-indigo-denies-boarding-to-differentlyabled-child-1652069422986\"><span class=\"short\">short</span></a> by <span class=\"author\">Ridham Gambhir</span> / \n",
       "       <span class=\"time\" content=\"2022-05-09T04:10:22.000Z\" itemprop=\"dateModified\">09:40 am</span> on <span class=\"date\">09 May</span>\n",
       " </div>,\n",
       " <div class=\"news-card-author-time news-card-author-time-in-title\">\n",
       " <a href=\"/prev/en/news/govt-calls-meeting-with-uber-ola-amid-rising-consumer-complaints-1652152945977\"><span class=\"short\">short</span></a> by <span class=\"author\">Ridham Gambhir</span> / \n",
       "       <span class=\"time\" content=\"2022-05-10T03:22:25.000Z\" itemprop=\"datePublished\">08:52 am</span> on <span clas=\"date\">10 May 2022,Tuesday</span>\n",
       " </div>,\n",
       " <div class=\"news-card-author-time news-card-author-time-in-content\">\n",
       " <a href=\"/prev/en/news/govt-calls-meeting-with-uber-ola-amid-rising-consumer-complaints-1652152945977\"><span class=\"short\">short</span></a> by <span class=\"author\">Ridham Gambhir</span> / \n",
       "       <span class=\"time\" content=\"2022-05-10T03:22:25.000Z\" itemprop=\"dateModified\">08:52 am</span> on <span class=\"date\">10 May</span>\n",
       " </div>,\n",
       " <div class=\"news-card-author-time news-card-author-time-in-title\">\n",
       " <a href=\"/prev/en/news/british-airline-easyjet-to-take-out-seats-from-planes-so-it-can-fly-with-fewer-crew-1652068374607\"><span class=\"short\">short</span></a> by <span class=\"author\">Ridham Gambhir</span> / \n",
       "       <span class=\"time\" content=\"2022-05-09T03:52:54.000Z\" itemprop=\"datePublished\">09:22 am</span> on <span clas=\"date\">09 May 2022,Monday</span>\n",
       " </div>,\n",
       " <div class=\"news-card-author-time news-card-author-time-in-content\">\n",
       " <a href=\"/prev/en/news/british-airline-easyjet-to-take-out-seats-from-planes-so-it-can-fly-with-fewer-crew-1652068374607\"><span class=\"short\">short</span></a> by <span class=\"author\">Ridham Gambhir</span> / \n",
       "       <span class=\"time\" content=\"2022-05-09T03:52:54.000Z\" itemprop=\"dateModified\">09:22 am</span> on <span class=\"date\">09 May</span>\n",
       " </div>,\n",
       " <div class=\"news-card-author-time news-card-author-time-in-title\">\n",
       " <a href=\"/prev/en/news/us-imposes-new-sanctions-on-27-gazprombank-8-sberbank-executives-1652030463286\"><span class=\"short\">short</span></a> by <span class=\"author\">Ashley Paul</span> / \n",
       "       <span class=\"time\" content=\"2022-05-08T17:21:03.000Z\" itemprop=\"datePublished\">10:51 pm</span> on <span clas=\"date\">08 May 2022,Sunday</span>\n",
       " </div>,\n",
       " <div class=\"news-card-author-time news-card-author-time-in-content\">\n",
       " <a href=\"/prev/en/news/us-imposes-new-sanctions-on-27-gazprombank-8-sberbank-executives-1652030463286\"><span class=\"short\">short</span></a> by <span class=\"author\">Ashley Paul</span> / \n",
       "       <span class=\"time\" content=\"2022-05-08T17:21:03.000Z\" itemprop=\"dateModified\">10:51 pm</span> on <span class=\"date\">08 May</span>\n",
       " </div>,\n",
       " <div class=\"news-card-author-time news-card-author-time-in-title\">\n",
       " <a href=\"/prev/en/news/rupee-is-in-icu-under-pm-modi-cong-after-rupee-hits-alltime-low-1652093691127\"><span class=\"short\">short</span></a> by <span class=\"author\">Ashley Paul</span> / \n",
       "       <span class=\"time\" content=\"2022-05-09T10:54:51.000Z\" itemprop=\"datePublished\">04:24 pm</span> on <span clas=\"date\">09 May 2022,Monday</span>\n",
       " </div>,\n",
       " <div class=\"news-card-author-time news-card-author-time-in-content\">\n",
       " <a href=\"/prev/en/news/rupee-is-in-icu-under-pm-modi-cong-after-rupee-hits-alltime-low-1652093691127\"><span class=\"short\">short</span></a> by <span class=\"author\">Ashley Paul</span> / \n",
       "       <span class=\"time\" content=\"2022-05-09T10:54:51.000Z\" itemprop=\"dateModified\">04:24 pm</span> on <span class=\"date\">09 May</span>\n",
       " </div>,\n",
       " <div class=\"news-card-author-time news-card-author-time-in-title\">\n",
       " <a href=\"/prev/en/news/paytm-grants-397-lakh-esops-to-employees-as-its-share-price-falls-1652094628225\"><span class=\"short\">short</span></a> by <span class=\"author\">Ashley Paul</span> / \n",
       "       <span class=\"time\" content=\"2022-05-09T11:10:28.000Z\" itemprop=\"datePublished\">04:40 pm</span> on <span clas=\"date\">09 May 2022,Monday</span>\n",
       " </div>,\n",
       " <div class=\"news-card-author-time news-card-author-time-in-content\">\n",
       " <a href=\"/prev/en/news/paytm-grants-397-lakh-esops-to-employees-as-its-share-price-falls-1652094628225\"><span class=\"short\">short</span></a> by <span class=\"author\">Ashley Paul</span> / \n",
       "       <span class=\"time\" content=\"2022-05-09T11:10:28.000Z\" itemprop=\"dateModified\">04:40 pm</span> on <span class=\"date\">09 May</span>\n",
       " </div>,\n",
       " <div class=\"news-card-author-time news-card-author-time-in-title\">\n",
       " <a href=\"/prev/en/news/toyota-to-invest-₹4800-cr-in-karnataka-will-create-3500-jobs-1652110175567\"><span class=\"short\">short</span></a> by <span class=\"author\">Ananya Goyal</span> / \n",
       "       <span class=\"time\" content=\"2022-05-09T15:29:35.000Z\" itemprop=\"datePublished\">08:59 pm</span> on <span clas=\"date\">09 May 2022,Monday</span>\n",
       " </div>,\n",
       " <div class=\"news-card-author-time news-card-author-time-in-content\">\n",
       " <a href=\"/prev/en/news/toyota-to-invest-₹4800-cr-in-karnataka-will-create-3500-jobs-1652110175567\"><span class=\"short\">short</span></a> by <span class=\"author\">Ananya Goyal</span> / \n",
       "       <span class=\"time\" content=\"2022-05-09T15:29:35.000Z\" itemprop=\"dateModified\">08:59 pm</span> on <span class=\"date\">09 May</span>\n",
       " </div>,\n",
       " <div class=\"news-card-author-time news-card-author-time-in-title\">\n",
       " <a href=\"/prev/en/news/reliances-shares-decline-3-after-q4-results-fall-98-in-6-days-1652090483180\"><span class=\"short\">short</span></a> by <span class=\"author\">Ashley Paul</span> / \n",
       "       <span class=\"time\" content=\"2022-05-09T10:01:23.000Z\" itemprop=\"datePublished\">03:31 pm</span> on <span clas=\"date\">09 May 2022,Monday</span>\n",
       " </div>,\n",
       " <div class=\"news-card-author-time news-card-author-time-in-content\">\n",
       " <a href=\"/prev/en/news/reliances-shares-decline-3-after-q4-results-fall-98-in-6-days-1652090483180\"><span class=\"short\">short</span></a> by <span class=\"author\">Ashley Paul</span> / \n",
       "       <span class=\"time\" content=\"2022-05-09T10:01:23.000Z\" itemprop=\"dateModified\">03:31 pm</span> on <span class=\"date\">09 May</span>\n",
       " </div>,\n",
       " <div class=\"news-card-author-time news-card-author-time-in-title\">\n",
       " <a href=\"/prev/en/news/adani-airports-raises-$250-million-for-airports-development-1652102731056\"><span class=\"short\">short</span></a> by <span class=\"author\">Ananya Goyal</span> / \n",
       "       <span class=\"time\" content=\"2022-05-09T13:25:31.000Z\" itemprop=\"datePublished\">06:55 pm</span> on <span clas=\"date\">09 May 2022,Monday</span>\n",
       " </div>,\n",
       " <div class=\"news-card-author-time news-card-author-time-in-content\">\n",
       " <a href=\"/prev/en/news/adani-airports-raises-$250-million-for-airports-development-1652102731056\"><span class=\"short\">short</span></a> by <span class=\"author\">Ananya Goyal</span> / \n",
       "       <span class=\"time\" content=\"2022-05-09T13:25:31.000Z\" itemprop=\"dateModified\">06:55 pm</span> on <span class=\"date\">09 May</span>\n",
       " </div>,\n",
       " <div class=\"news-card-author-time news-card-author-time-in-title\">\n",
       " <a href=\"/prev/en/news/nclt-orders-insolvency-proceedings-against-birla-tyres-1652118884805\"><span class=\"short\">short</span></a> by <span class=\"author\">Ananya Goyal</span> / \n",
       "       <span class=\"time\" content=\"2022-05-09T17:54:44.000Z\" itemprop=\"datePublished\">11:24 pm</span> on <span clas=\"date\">09 May 2022,Monday</span>\n",
       " </div>,\n",
       " <div class=\"news-card-author-time news-card-author-time-in-content\">\n",
       " <a href=\"/prev/en/news/nclt-orders-insolvency-proceedings-against-birla-tyres-1652118884805\"><span class=\"short\">short</span></a> by <span class=\"author\">Ananya Goyal</span> / \n",
       "       <span class=\"time\" content=\"2022-05-09T17:54:44.000Z\" itemprop=\"dateModified\">11:24 pm</span> on <span class=\"date\">09 May</span>\n",
       " </div>,\n",
       " <div class=\"news-card-author-time news-card-author-time-in-title\">\n",
       " <a href=\"/prev/en/news/deeply-distressed-with-rumour-mongering-axis-amc-founder-ceo-on-alleged-scam-1652108412895\"><span class=\"short\">short</span></a> by <span class=\"author\">Ashley Paul</span> / \n",
       "       <span class=\"time\" content=\"2022-05-09T15:00:12.000Z\" itemprop=\"datePublished\">08:30 pm</span> on <span clas=\"date\">09 May 2022,Monday</span>\n",
       " </div>,\n",
       " <div class=\"news-card-author-time news-card-author-time-in-content\">\n",
       " <a href=\"/prev/en/news/deeply-distressed-with-rumour-mongering-axis-amc-founder-ceo-on-alleged-scam-1652108412895\"><span class=\"short\">short</span></a> by <span class=\"author\">Ashley Paul</span> / \n",
       "       <span class=\"time\" content=\"2022-05-09T15:00:12.000Z\" itemprop=\"dateModified\">08:30 pm</span> on <span class=\"date\">09 May</span>\n",
       " </div>,\n",
       " <div class=\"news-card-author-time news-card-author-time-in-title\">\n",
       " <a href=\"/prev/en/news/lic-ipo-shares-to-be-allocated-on-may-12-listing-on-may-17-1652116066165\"><span class=\"short\">short</span></a> by <span class=\"author\">Ananya Goyal</span> / \n",
       "       <span class=\"time\" content=\"2022-05-09T17:07:46.000Z\" itemprop=\"datePublished\">10:37 pm</span> on <span clas=\"date\">09 May 2022,Monday</span>\n",
       " </div>,\n",
       " <div class=\"news-card-author-time news-card-author-time-in-content\">\n",
       " <a href=\"/prev/en/news/lic-ipo-shares-to-be-allocated-on-may-12-listing-on-may-17-1652116066165\"><span class=\"short\">short</span></a> by <span class=\"author\">Ananya Goyal</span> / \n",
       "       <span class=\"time\" content=\"2022-05-09T17:07:46.000Z\" itemprop=\"dateModified\">10:37 pm</span> on <span class=\"date\">09 May</span>\n",
       " </div>,\n",
       " <div class=\"news-card-author-time news-card-author-time-in-title\">\n",
       " <a href=\"/prev/en/news/lics-public-issue-has-been-successful-dipam-secretary-1652107900770\"><span class=\"short\">short</span></a> by <span class=\"author\">Ashley Paul</span> / \n",
       "       <span class=\"time\" content=\"2022-05-09T14:51:40.000Z\" itemprop=\"datePublished\">08:21 pm</span> on <span clas=\"date\">09 May 2022,Monday</span>\n",
       " </div>,\n",
       " <div class=\"news-card-author-time news-card-author-time-in-content\">\n",
       " <a href=\"/prev/en/news/lics-public-issue-has-been-successful-dipam-secretary-1652107900770\"><span class=\"short\">short</span></a> by <span class=\"author\">Ashley Paul</span> / \n",
       "       <span class=\"time\" content=\"2022-05-09T14:51:40.000Z\" itemprop=\"dateModified\">08:21 pm</span> on <span class=\"date\">09 May</span>\n",
       " </div>,\n",
       " <div class=\"news-card-author-time news-card-author-time-in-title\">\n",
       " <a href=\"/prev/en/news/retail-investors-have-become-shock-absorbers-in-equities-fm-1652030398728\"><span class=\"short\">short</span></a> by <span class=\"author\">Ananya Goyal</span> / \n",
       "       <span class=\"time\" content=\"2022-05-08T17:19:58.000Z\" itemprop=\"datePublished\">10:49 pm</span> on <span clas=\"date\">08 May 2022,Sunday</span>\n",
       " </div>,\n",
       " <div class=\"news-card-author-time news-card-author-time-in-content\">\n",
       " <a href=\"/prev/en/news/retail-investors-have-become-shock-absorbers-in-equities-fm-1652030398728\"><span class=\"short\">short</span></a> by <span class=\"author\">Ananya Goyal</span> / \n",
       "       <span class=\"time\" content=\"2022-05-08T17:19:58.000Z\" itemprop=\"dateModified\">10:49 pm</span> on <span class=\"date\">08 May</span>\n",
       " </div>]"
      ]
     },
     "execution_count": 42,
     "metadata": {},
     "output_type": "execute_result"
    }
   ],
   "source": [
    "biz_soup.select('.news-card-author-time')"
   ]
  },
  {
   "cell_type": "code",
   "execution_count": 80,
   "metadata": {},
   "outputs": [],
   "source": [
    "datagov_url = 'https://data.gov/'\n",
    "\n",
    "response = requests.get(datagov_url)\n",
    "data_soup = BeautifulSoup(response.content, 'html.parser')"
   ]
  },
  {
   "cell_type": "code",
   "execution_count": 81,
   "metadata": {},
   "outputs": [
    {
     "data": {
      "text/plain": [
       "'<!DOCTYPE html>\\n<html class=\"no-js\" dir=\"ltr\" lang=\"en-US\">\\n<head>\\n  <meta charset=\"utf-8\">\\n  <meta http-equiv=\"X-UA-Compatible\" content=\"IE=edge\">\\n  <title>Data.gov</title>\\n  <meta name=\"viewport\" content=\"width=device-width, initial-scale=1\">\\n\\n  \\n\\t<!-- This site is optimized with the Yoast SEO plugin v17.5 - https://yoast.com/wordpress/plugins/seo/ -->\\n\\t<meta name=\"robots\" content=\"index, follow, max-snippet:-1, max-image-preview:large, max-video-preview:-1\" />\\n\\t<link rel=\"canonical\" href=\"index.html\" />\\n\\t<meta property=\"og:locale\" content=\"en_US\" />\\n\\t<meta property=\"og:type\" content=\"website\" />\\n\\t<meta property=\"og:title\" content=\"Data.gov\" />\\n\\t<meta property=\"og:description\" content=\"The home of the U.S. Government&#8217;s open data Here you will find data, tools, and resources to conduct research, develop web and mobile applications, design data visualizations, and more. For information regarding the Coronavirus/COVID-19, please visit Coronavirus.gov.\" />\\n\\t<meta property=\"og:url\" content=\"https://www.data.gov/\" />\\n\\t<meta property=\"og:site_name\" content=\"Data.gov\" />\\n\\t<meta property=\"article:modified_time\" content=\"2020-09-14T20:18:34+00:00\" />\\n\\t<script type=\"application/ld+json\" class=\"yoast-schema-graph\">{\"@context\":\"https://schema.org\",\"@graph\":[{\"@type\":\"WebSite\",\"@id\":\"https://www.data.gov/#website\",\"url\":\"https://www.data.gov/\",\"name\":\"Data.gov\",\"description\":\"The home of the U.S. Government\\\\u2019s open data\",\"potentialAction\":[{\"@type\":\"SearchAction\",\"target\":{\"@type\":\"EntryPoint\",\"urlTemplate\":\"https://www.data.gov/?s={search_term_string}\"},\"query-input\":\"required name=search_term_string\"}],\"inLanguage\":\"en-US\"},{\"@type\":\"WebPage\",\"@id\":\"https://www.data.gov/#webpage\",\"url\":\"https://www.data.gov/\",\"name\":\"Data.gov\",\"isPartOf\":{\"@id\":\"https://www.data.gov/#website\"},\"datePublished\":\"2020-04-01T21:05:04+00:00\",\"dateModified\":\"2020-09-14T20:18:34+00:00\",\"breadcrumb\":{\"@id\":\"https://www.data.gov/#breadcrumb\"},\"inLanguage\":\"en-US\",\"potentialAction\":[{\"@type\":\"ReadAction\",\"target\":[\"https://www.data.gov/\"]}]},{\"@type\":\"BreadcrumbList\",\"@id\":\"https://www.data.gov/#breadcrumb\",\"itemListElement\":[{\"@type\":\"ListItem\",\"position\":1,\"name\":\"Home\"}]}]}</script>\\n\\t<!-- / Yoast SEO plugin. -->\\n\\n\\n<link rel=\\'dns-prefetch\\' href=\\'https://code.jquery.com/\\' />\\n<link rel=\\'dns-prefetch\\' href=\\'https://dap.digitalgov.gov/\\' />\\n<link rel=\\'dns-prefetch\\' href=\\'https://fonts.googleapis.com/\\' />\\n<link rel=\\'dns-prefetch\\' href=\\'https://s.w.org/\\' />\\n\\t\\t<script type=\"text/javascript\">\\n\\t\\t\\twindow._wpemojiSettings = {\"baseUrl\":\"https:\\\\/\\\\/s.w.org\\\\/images\\\\/core\\\\/emoji\\\\/13.0.0\\\\/72x72\\\\/\",\"ext\":\".png\",\"svgUrl\":\"https:\\\\/\\\\/s.w.org\\\\/images\\\\/core\\\\/emoji\\\\/13.0.0\\\\/svg\\\\/\",\"svgExt\":\".svg\",\"source\":{\"concatemoji\":\"\\\\/wp\\\\/wp-includes\\\\/js\\\\/wp-emoji-release.min.js\"}};\\n\\t\\t\\t!function(e,a,t){var n,r,o,i=a.createElement(\"canvas\"),p=i.getContext&&i.getContext(\"2d\");function s(e,t){var a=String.fromCharCode;p.clearRect(0,0,i.width,i.height),p.fillText(a.apply(this,e),0,0);e=i.toDataURL();return p.clearRect(0,0,i.width,i.height),p.fillText(a.apply(this,t),0,0),e===i.toDataURL()}function c(e){var t=a.createElement(\"script\");t.src=e,t.defer=t.type=\"text/javascript\",a.getElementsByTagName(\"head\")[0].appendChild(t)}for(o=Array(\"flag\",\"emoji\"),t.supports={everything:!0,everythingExceptFlag:!0},r=0;r<o.length;r++)t.supports[o[r]]=function(e){if(!p||!p.fillText)return!1;switch(p.textBaseline=\"top\",p.font=\"600 32px Arial\",e){case\"flag\":return s([127987,65039,8205,9895,65039],[127987,65039,8203,9895,65039])?!1:!s([55356,56826,55356,56819],[55356,56826,8203,55356,56819])&&!s([55356,57332,56128,56423,56128,56418,56128,56421,56128,56430,56128,56423,56128,56447],[55356,57332,8203,56128,56423,8203,56128,56418,8203,56128,56421,8203,56128,56430,8203,56128,56423,8203,56128,56447]);case\"emoji\":return!s([55357,56424,8205,55356,57212],[55357,56424,8203,55356,57212])}return!1}(o[r]),t.supports.everything=t.supports.everything&&t.supports[o[r]],\"flag\"!==o[r]&&(t.supports.everythingExceptFlag=t.supports.everythingExceptFlag&&t.supports[o[r]]);t.supports.everythingExceptFlag=t.supports.everythingExceptFlag&&!t.supports.flag,t.DOMReady=!1,t.readyCallback=function(){t.DOMReady=!0},t.supports.everything||(n=function(){t.readyCallback()},a.addEventListener?(a.addEventListener(\"DOMContentLoaded\",n,!1),e.addEventListener(\"load\",n,!1)):(e.attachEvent(\"onload\",n),a.attachEvent(\"onreadystatechange\",function(){\"complete\"===a.readyState&&t.readyCallback()})),(n=t.source||{}).concatemoji?c(n.concatemoji):n.wpemoji&&n.twemoji&&(c(n.twemoji),c(n.wpemoji)))}(window,document,window._wpemojiSettings);\\n\\t\\t</script>\\n\\t\\t<style type=\"text/css\">\\nimg.wp-smiley,\\nimg.emoji {\\n\\tdisplay: inline !important;\\n\\tborder: none !important;\\n\\tbox-shadow: none !important;\\n\\theight: 1em !important;\\n\\twidth: 1em !important;\\n\\tmargin: 0 .07em !important;\\n\\tvertical-align: -0.1em !important;\\n\\tbackground: none !important;\\n\\tpadding: 0 !important;\\n}\\n</style>\\n\\t<link rel=\"stylesheet\" href=\"app/plugins/simple-tooltips/zebra_tooltips.css\">\\n<link rel=\"stylesheet\" href=\"wp/wp-includes/css/dist/block-library/style.min.css\">\\n<link rel=\"stylesheet\" href=\"app/plugins/contact-form-7/includes/css/styles.css\">\\n<link rel=\"stylesheet\" href=\"app/plugins/m-wp-popup/css/colorbox/colorbox.css\">\\n<link rel=\"stylesheet\" href=\"app/plugins/wp-open311/public/assets/css/chosen.min.css\">\\n<link rel=\"stylesheet\" href=\"app/plugins/wp-open311/public/assets/css/public.css\">\\n<link rel=\"stylesheet\" href=\"https://fonts.googleapis.com/css?family=Abel%7CLato%3A100%2C300%2C400%2C700&amp;ver=5.5.7\">\\n<link rel=\"stylesheet\" href=\"app/themes/roots-nextdatagov/assets/css/main.min.css\">\\n<link rel=\"stylesheet\" href=\"app/themes/roots-nextdatagov/assets/css/rei.css\">\\n<script type=\\'text/javascript\\' src=\\'https://code.jquery.com/jquery-3.5.1.min.js\\' integrity=\\'sha384-ZvpUoO/+PpLXR1lu4jmpXWu80pZlYUAfxl5NsBMWOEPSjUn/6Z/hRTt8+pR6L4N2\\' crossorigin=\\'anonymous\\' id=\\'jquery-js\\'></script>\\n<script type=\\'text/javascript\\' src=\\'app/plugins/m-wp-popup/js/wpp-popup-frontend.js\\'></script>\\n<script type=\\'text/javascript\\' src=\\'app/plugins/wp-open311/public/assets/js/chosen.jquery.min.js\\'></script>\\n<script type=\\'text/javascript\\' src=\\'app/plugins/wp-open311/public/assets/js/public.js\\'></script>\\n<script type=\\'text/javascript\\' src=\\'app/themes/roots-nextdatagov/assets/js/vendor/respond.min.js\\' defer=\\'defer\\' id=\\'respond-js\\'></script>\\n<script type=\\'text/javascript\\' src=\\'app/themes/roots-nextdatagov/assets/js/vendor/modernizr.min.js\\' defer=\\'defer\\' id=\\'modernizr-js\\'></script>\\n<script type=\\'text/javascript\\' src=\\'app/themes/roots-nextdatagov/assets/js/ext-link-handler.js\\'></script>\\n<script type=\\'text/javascript\\' id=\"_fed_an_ua_tag\" src=\\'https://dap.digitalgov.gov/Universal-Federated-Analytics-Min.js?agency=GSA&amp;subagency=TTS\\'  ></script>\\n<script type=\\'text/javascript\\' src=\\'app/plugins/google-analyticator/external-tracking.min.js\\'></script>\\n<script type=\"text/javascript\">\\n    var analyticsFileTypes = [\\'\\'];\\n    var analyticsSnippet = \\'enabled\\';\\n    var analyticsEventTracking = \\'enabled\\';\\n</script>\\n<script type=\"text/javascript\">\\n\\tvar _gaq = _gaq || [];\\n  \\n\\t_gaq.push([\\'_setAccount\\', \\'UA-17367410-17\\']);\\n    _gaq.push([\\'_addDevId\\', \\'i9k95\\']); // Google Analyticator App ID with Google\\n    _gaq.push([\\'_gat._anonymizeIp\\']);\\n\\t_gaq.push([\\'_trackPageview\\']);\\n\\t<!-- tracking for UA-42145528-2  start -->\\n(function(i,s,o,g,r,a,m){i[\\'GoogleAnalyticsObject\\']=r;i[r]=i[r]||function(){\\n  (i[r].q=i[r].q||[]).push(arguments)},i[r].l=1*new Date();a=s.createElement(o),\\n  m=s.getElementsByTagName(o)[0];a.async=1;a.src=g;m.parentNode.insertBefore(a,m)\\n  })(window,document,\\'script\\',\\'//www.google-analytics.com/analytics.js\\',\\'ga\\');\\n\\n  ga(\\'create\\', \\'UA-42145528-2\\', \\'auto\\');\\n  ga(\\'set\\', \\'anonymizeIp\\', true);\\n  ga(\\'send\\', \\'pageview\\');\\n<!-- tracking for UA-42145528-2  end -->\\n\\n\\t(function() {\\n\\t\\tvar ga = document.createElement(\\'script\\'); ga.type = \\'text/javascript\\'; ga.async = true;\\n\\t\\t                ga.src = (\\'https:\\' == document.location.protocol ? \\'https://ssl\\' : \\'http://www\\') + \\'.google-analytics.com/ga.js\\';\\n\\t\\t                var s = document.getElementsByTagName(\\'script\\')[0]; s.parentNode.insertBefore(ga, s);\\n\\t})();\\n</script>\\n\\t\\t<style type=\"text/css\" id=\"wp-custom-css\">\\n\\t\\t\\t/*\\nYou can add your own CSS here.\\n\\nClick the help icon above to learn more.\\n*/\\n\\n.twitter-feed h2 {display:none;}\\t\\t</style>\\n\\t\\t\\n  <link rel=\"alternate\" type=\"application/rss+xml\" title=\"Data.gov Feed\" href=\"feed/\">\\n  <link href=\"app/themes/roots-nextdatagov/assets/img/favicon.ico\" rel=\"shortcut icon\" />\\n  <link rel=\"icon\" type=\"image/png\" href=\"app/themes/roots-nextdatagov/assets/img/favicon-120.png\" sizes=\"120x120\" />\\n    <!--[if IE]>\\n    <style type=\"text/css\">\\n        #cboxClose{\\n            top:-8px !important;\\n            right:-8px !important;\\n        }\\n    </style>\\n    <![endif]-->\\n</head>\\n<body class=\"home page tribe-no-js\">\\n<!--div class=\"banner disclaimer\">\\n<center>This is a demonstration site exploring the future of Data.gov. <span id=\"stop-disclaimer\"> Give us your feedback on <a href=\"https://twitter.com/usdatagov\" class=\"local-link\">Twitter</a>, <a href=\"https://quora.com\" class=\"external ext-link\" rel=\"external noopener noreferrer\" onclick=\"this.target=&#039;_blank&#039;;\">Quora</a></span>, <a href=\"https://github.com/GSA/datagov-design/\" class=\"local-link\">Github</a>, or <a href=\"/contact-engage\">contact us</a></center>\\n\\n\\n<!--div class=\"banner disclaimer\"><center>Updates to Data.gov will be temporarily suspended between December 13, 9 PM EST and approximately December 27. <a href=\"/migration-notification\">Learn More</a>.</center>\\n<!--[if lt IE 8]>\\n<div class=\"alert alert-warning\">\\n    You are using an <strong>outdated</strong> browser. Please <a href=\"https://browsehappy.com/\" class=\"external ext-link\" rel=\"external noopener noreferrer\" onclick=\"this.target=&#039;_blank&#039;;\">upgrade your\\n    browser</a> to improve your experience.</div>\\n<![endif]-->\\n\\n<header>\\n<div class=\"banner navbar navbar-default navbar-static-top yamm\" role=\"banner\">\\n  <div class=\"container\">\\n\\n        <div class=\"searchbox-row skip-navigation\">\\n            <div class=\"sr-only skip-link\">\\n                <a href=\"index.html#main\">Jump to Content</a>\\n            </div>\\n\\n\\n            <div>\\n                            </div>\\n        </div>\\n\\n        <div class=\"navbar-header\">\\n            <button type=\"button\" class=\"navbar-toggle\" data-toggle=\"collapse\" data-target=\".navbar-collapse\">\\n                <span class=\"sr-only\">Toggle navigation</span>\\n                <span class=\"icon-bar\"></span>\\n                <span class=\"icon-bar\"></span>\\n                <span class=\"icon-bar\"></span>\\n            </button>\\n            <a href=\"index.html\" alt=\"Data.gov\" class=\"local-link\"><h1 class=\"navbar-brand\">Data.gov</h1></a>\\n        </div>\\n\\n        <nav class=\"collapse navbar-collapse\" role=\"navigation\">\\n            <ul id=\"menu-primary-navigation\" class=\"nav navbar-nav navbar-right\"><li class=\"menu-data\"><a href=\"https://catalog.data.gov/dataset\" class=\"local-link\">Data</a></li>\\n<li class=\"dropdown yamm-fw menu-topics\"><a class=\"dropdown-toggle local-link\" data-toggle=\"dropdown\" data-target=\"#\" href=\"communities/\">Topics <b class=\"caret\"></b></a>\\n<ul class=\"dropdown-menu topics\">\\n\\t<li class=\"menu-agriculture topic-food\"><a href=\"food.html\" class=\"local-link\"><i></i><span>Agriculture</span></a></li>\\n\\t<li class=\"menu-climate topic-climate\"><a href=\"climate/\" class=\"local-link\"><i></i><span>Climate</span></a></li>\\n\\t<li class=\"menu-energy topic-energy\"><a href=\"energy.html\" class=\"local-link\"><i></i><span>Energy</span></a></li>\\n\\t<li class=\"menu-local-government topic-local\"><a href=\"local.html\" class=\"local-link\"><i></i><span>Local Government</span></a></li>\\n\\t<li class=\"menu-maritime topic-maritime\"><a href=\"maritime.html\" class=\"local-link\"><i></i><span>Maritime</span></a></li>\\n\\t<li class=\"menu-ocean topic-ocean\"><a href=\"ocean.html\" class=\"local-link\"><i></i><span>Ocean</span></a></li>\\n\\t<li class=\"menu-older-adults-health topic-groupolder-adults-health-data\"><a href=\"https://catalog.data.gov/group/older-adults-health-data\" class=\"local-link\"><i></i><span>Older Adults Health</span></a></li>\\n</ul>\\n</li>\\n<li class=\"menu-resources\"><a href=\"https://resources.data.gov\" class=\"local-link\">Resources</a></li>\\n<li class=\"menu-strategy\"><a href=\"https://strategy.data.gov\" class=\"local-link\">Strategy</a></li>\\n<li class=\"menu-developers\"><a href=\"developers/\" class=\"local-link\">Developers</a></li>\\n<li class=\"menu-contact\"><a href=\"request/\" class=\"local-link\">Contact</a></li>\\n</ul>        </nav>\\n\\n  </div>\\n    <div id=\"external_disclaimer\" class=\"tooltip\" role=\"tooltip\" aria-hidden=\"true\">This link will direct you to an external website that may have different content and privacy policies from Data.gov.\\n    </div>\\n</div>\\n\\n<div class=\"container hidden print-logo\">\\n    <img src=\"app/themes/roots-nextdatagov/assets/img/logo.svg\" />\\n</div>\\n\\n<div class=\"header_new banner_new page-heading_new\" style=\"background-color: #ffbc78; color: #000;\">\\n        <div class=\"container\" style=\"background-color: #ffbc78;\">\\n            <div class=\"page-header_new\" style=\"background-color: #ffbc78;\">\\n                    <h4 style=\"text-transform: none; text-align: center;\">\\n                        Data.gov users! We welcome your <a href=\"https://data.gov/sunshine-week\">suggestions</a> for improving Data.gov and federal open data.\\n                    </h4>\\n        </div>\\n    </div>\\n</div>\\n\\n\\n\\n<div class=\"jumbotron\">\\n  <div class=\"container\">\\n    <h1>The home of the U.S. Government&#8217;s open data</h1>\\n<p>Here you will find data, tools, and resources to conduct research, develop web and mobile applications, design data visualizations, and <a href=\"about/\" style=\"color:#fff; text-decoration:underline\">more</a>.</p>\\n<p>For information regarding the Coronavirus/COVID-19, please visit <a href=\"https://www.coronavirus.gov/\" style=\"color:#fff; text-decoration:underline\" class=\"external ext-link\" rel=\"external noopener noreferrer\" onclick=\"this.target=&#039;_blank&#039;;\">Coronavirus.gov.</a></p>\\n\\n<div style=\"display: block !important; margin:0 !important; padding: 0 !important\" id=\"wpp_popup_post_end_element\"></div>  </div><!--/.container-->\\n</div><!--/.jumbotron-->\\n\\n\\n\\n<div class=\"header banner frontpage-search\">\\n    <div class=\"container\">\\n        <div class=\"text-center getstarted\">\\n            <h4><label for=\"search-header\">Get Started<br>\\n                    <small>Search over <a href=\"metrics.html\">335,221 datasets</a>\\n                    </small>\\n                    <br/><i class=\"fa fa-caret-down\"></i></label></h4>\\n        </div>\\n        <form role=\"search\" method=\"get\" class=\"search-form form-inline no-padding col-md-12 col-lg-12\"\\n      action=\"https://catalog.data.gov/dataset\">\\n    <div class=\"input-group\">\\n        \\n        \\n        <input type=\"search\" id=\"search-header\" title=\"Example searches: Monthly House Price Indexes, Health Care Provider Charge Data, Credit Card Complaints, Manufacturing &amp; Trade Inventories &amp; Sales, Federal Student Loan Program Data\"\\n               data-strings=\\'{\"targets\":[\"Monthly House Price Indexes\",\"Health Care Provider Charge Data\",\"Credit Card Complaints\",\"Manufacturing &amp; Trade Inventories &amp; Sales\",\"Federal Student Loan Program Data\"]}\\' value=\"\" name=\"q\" class=\"search-field form-control\"\\n               placeholder=\"Search Data.gov\">\\n        <input type=\"hidden\" name=\"sort\" value=\"score desc, name asc\">\\n      <span class=\"input-group-btn\">\\n      <button type=\"submit\" class=\"search-submit btn btn-default\">\\n          <i class=\"fa fa-search\"></i>\\n          <span class=\"sr-only\">Search</span>\\n      </button>\\n    </span>\\n    </div>\\n<input type=\"hidden\" name=\"as_sfid\" value=\"AAAAAAXSVS-VDjXNbMFAAG6kfnoYvjq0j2r9CBdNVLxiM3iBLoHN5WkOXXitsEuB0uDB-MmWJ8u-nLkv0hgoXX9CxJsJcnZGjxzobsNzqbSWo1BFaM28PyiR3W1tkMfj19Wlwlo=\" /><input type=\"hidden\" name=\"as_fid\" value=\"5d5b0264d62542279a8dfdbea8da3175f8b05434\" /></form>\\n    </div><!--/.container-->\\n</div>\\n\\n\\n    \\n\\n</header>\\n\\n\\n\\n<div role=\"document\">\\n    <div class=\"content\">\\n        <main class=\"main\" role=\"main\" id=\"main\">\\n            \\n\\t<section id=\"highlights\" class=\"wrap wrap-lightblue\">\\n\\t\\t<div class=\"container\">\\n\\n\\t\\t\\t<div class=\"page-header\">\\n\\t\\t\\t\\t<h1>Highlights</h1>\\n\\t\\t\\t</div>\\n\\n\\t\\t\\t<div id=\"highlightsCarousel\" class=\"carousel highlights slide\">\\n\\t\\t\\t\\t\\t\\t\\t\\t<!-- Carousel items -->\\n\\t\\t\\t\\t<div id=\"highlightsCarouselInner\" class=\"carousel-inner\">\\n\\t\\t\\t\\t\\t\\t\\t\\t\\t\\t\\t<div\\n\\t\\t\\t\\t\\t\\t\\tclass=\"highlight item active \">\\n\\t\\t\\t\\t\\t\\t\\t<header>\\n\\t\\t\\t\\t\\t\\t\\t\\t\\n\\t\\t\\t\\t\\t\\t\\t\\t<h2 class=\"entry-title\" style=\"float:left;\">Rivers of Data &#8211; Inland Electronic Navigation Charts</h2>\\n\\t\\t\\t\\t\\t\\t\\t\\t\\t\\t\\t\\t\\t\\t\\t</header>\\n\\t\\t\\t\\t\\t\\t\\t<br clear=\"all\"/>\\n\\t\\t\\t\\t\\t\\t\\t\\t\\t\\t\\t\\t\\t\\t\\t<div class=\"featured-image col-md-4\">\\n\\t\\t\\t\\t\\t\\t\\t\\t\\t<img width=\"300\" height=\"243\" src=\"datagov/wordpress/2019/04/IENC-example-300x243.jpg\" class=\"attachment-medium size-medium wp-post-image\" alt=\"Example of Inland Electronic Navigation Chart Overlay at Southwest Pass, Louisiana.\" loading=\"lazy\" srcset=\"datagov/wordpress/2019/04/IENC-example-300x243.jpg 300w, datagov/wordpress/2019/04/IENC-example-768x621.jpg 768w, datagov/wordpress/2019/04/IENC-example.jpg 806w\" sizes=\"(max-width: 300px) 100vw, 300px\">\\t\\t\\t\\t\\t\\t\\t\\t</div>\\n\\t\\t\\t\\t\\t\\t\\t\\n\\t\\t\\t\\t\\t\\t\\t<article\\n\\t\\t\\t\\t\\t\\t\\t\\tclass=\"col-md-8\">\\n\\t\\t\\t\\t\\t\\t\\t\\t<p>Nautical charts provide critical information to mariners in support of safe navigation.  Historically these charts have been printed and distributed on paper, but modern communications systems allow for electronic charts that are able to be updated as new information becomes available.  The National Oceanic and Atmospheric Administration (NOAA) Office of Coast Survey produces charts for coastal and Great Lakes areas, and the U.S. Army Corps of Engineers produces charts for America&#8217;s inland rivers through the Inland Electronic Navigation Chart program.  The Inland Electronic Navigation Chart (IENC) program covers thousands of miles of navigable waterways.  America&#8217;s inland waterways move millions of tons of commodities every year, and the work of surveying, charting, and dredging sediment is continually ongoing due to the dynamic conditions and constant change happening along any given river.</p>\\n<p>Rivers included in the Inland Electronic Navigation Chart (IENC) program include the Allegheny River, Arkansas River, Atchafalaya River, Black Warrior-Tombigbee Rivers, Cumberland River, Green River, Illinois River, Kaskaskia, Kanawha River, Lower Mississippi River, Missouri River, Monongahela River, Ohio River, Ouachita River, Red River, Tennessee River (including the Tellico, Hiwassee, Clinch and Emory Rivers), Tennessee-Tombigbee Waterway, Upper Mississippi River, and the White River.  Anyone can access the navigation charts for these rivers, which show depth contours, buoys, lights, known hazards, and reference landmarks.</p>\\n<p>References and Data.Gov Links:</p>\\n<p>Inland Electronic Navigational Charts (IENC), https://catalog.data.gov/dataset/inland-electronic-navigational-charts-ienc</p>\\n<p>USACE Inland Electronic Navigation Charts Homepage, http://ienccloud.us/</p>\\n<p>NOAA Electronic Navigational Charts (ENC), https://catalog.data.gov/dataset/noaa-electronic-navigational-charts-enc7cce5</p>\\n<p>NOAA Raster Navigational Charts (RNC), https://catalog.data.gov/dataset/noaa-raster-navigational-charts-rnc7af22</p>\\n\\n<div style=\"display: block !important; margin:0 !important; padding: 0 !important\" id=\"wpp_popup_post_end_element\"></div>\\t\\t\\t\\t\\t\\t\\t</article>\\n\\t\\t\\t\\t\\t\\t</div><!--/.highlight-->\\n\\t\\t\\t\\t\\t\\t\\t\\t\\t</div>\\n\\t\\t\\t\\t\\t\\t\\t\\t<div class=\"pull-right\">\\n                    <a href=\"communities/\" class=\"more-link\" style=\"color:#fff;\">More Highlights</a>\\n                </div>\\n\\t\\t\\t</div>\\n\\t\\t</div>\\n\\t\\t<!--/.container-->\\n\\t</section><!--/.wrap-lightblue-->\\n\\n\\n<div class=\"wrap container\">\\n<section class=\"updates\">\\n\\n\\n\\t<div class=\"page-header\">\\n\\t\\t<h1>Updates</h1>\\n\\t</div>\\n\\n\\n\\t\\n\\t\\n\\t\\t<article class=\"post-27144945 post type-post status-publish format-standard has-post-thumbnail hentry category-geospatial category-maritime tag-channels tag-civil-works tag-ehydro tag-geospatial-data tag-hydrosurvey tag-infrastructure tag-marine-transportation tag-marine-transportation-system tag-maritime tag-usace\">\\n\\t\\t\\t<header>\\n\\t\\t\\t\\t\\t\\t\\t\\t<h5 class=\"category category-header topic-geospatial\"><a\\n\\t\\t\\t\\t\\t\\thref=\"geospatial.html\"><i></i><span>Geospatial</span></a>\\n\\t\\t\\t\\t</h5>\\n\\n\\t\\t\\t\\t<h2 class=\"entry-title\"><a id=\"post-title-27144945\" href=\"maritime/hydrosurvey-data-archive-for-federal-navigation-projects/\">Hydrosurvey Data Archive for Federal Navigation Projects</a></h2>\\n\\t\\t\\t\\t<div class=\"entry-meta\" xmlns=\"//www.w3.org/1999/html\">\\n    <time class=\"published\" datetime=\"2021-07-27T18:30:36-04:00\">July 27, 2021&nbsp;&nbsp;<i>By Marin Kress, Research Scientist, U.S. Army Corps of Engineers</i></time>\\n</div>\\n\\n\\n\\t\\t\\t</header>\\n\\t\\t\\t<div class=\"entry-summary\">\\n\\t\\t\\t\\t<p>The U.S. Army Corps of Engineers (USACE) performs hydrographic surveys (hydrosurveys) for federal navigation projects around the U.S. Federal navigation projects include an estimated 25,000 miles of channels and form a key part of U.S. maritime infrastructure in both coastal &hellip; <a aria-describedby=\"post-title-27144945\" href=\"maritime/hydrosurvey-data-archive-for-federal-navigation-projects/\" class=\"local-link\">Continued</a></p>\\n\\t\\t\\t</div>\\n\\t\\t</article>\\n\\n\\t\\n\\t\\t<article class=\"post-26927987 post type-post status-publish format-standard hentry category-meta\">\\n\\t\\t\\t<header>\\n\\t\\t\\t\\t\\t\\t\\t\\t<h5 class=\"category category-header topic-meta\"><a\\n\\t\\t\\t\\t\\t\\thref=\"meta.html\"><i></i><span>Meta - The Data.gov Blog</span></a>\\n\\t\\t\\t\\t</h5>\\n\\n\\t\\t\\t\\t<h2 class=\"entry-title\"><a id=\"post-title-26927987\" href=\"meta/data-gov-to-discontinue-csw-service-on-may-1/\">Data.gov to Discontinue CSW Service on May 1</a></h2>\\n\\t\\t\\t\\t<div class=\"entry-meta\" xmlns=\"//www.w3.org/1999/html\">\\n    <time class=\"published\" datetime=\"2021-04-28T15:55:02-04:00\">April 28, 2021&nbsp;&nbsp;<i>By Data.gov </i></time>\\n</div>\\n\\n\\n\\t\\t\\t</header>\\n\\t\\t\\t<div class=\"entry-summary\">\\n\\t\\t\\t\\t<p>Data.gov will be discontinuing the Catalog Service for Web (CSW) as of May 1st, 2021. You can access the same catalog of data through the Comprehensive Knowledge Archive Network Application Programming Interface (CKAN API) provided by catalog.data.gov. If you have &hellip; <a aria-describedby=\"post-title-26927987\" href=\"meta/data-gov-to-discontinue-csw-service-on-may-1/\" class=\"local-link\">Continued</a></p>\\n\\t\\t\\t</div>\\n\\t\\t</article>\\n\\n\\t\\n\\t\\t<article class=\"post-26396174 post type-post status-publish format-standard hentry category-meta\">\\n\\t\\t\\t<header>\\n\\t\\t\\t\\t\\t\\t\\t\\t<h5 class=\"category category-header topic-meta\"><a\\n\\t\\t\\t\\t\\t\\thref=\"meta.html\"><i></i><span>Meta - The Data.gov Blog</span></a>\\n\\t\\t\\t\\t</h5>\\n\\n\\t\\t\\t\\t<h2 class=\"entry-title\"><a id=\"post-title-26396174\" href=\"meta/serving-the-needs-of-data-practitioners-with-a-new-resources-data-gov/\">Serving the Needs of Data Practitioners with a New resources.data.gov</a></h2>\\n\\t\\t\\t\\t<div class=\"entry-meta\" xmlns=\"//www.w3.org/1999/html\">\\n    <time class=\"published\" datetime=\"2020-07-02T10:50:42-04:00\">July 2, 2020&nbsp;&nbsp;<i>By Crystal Carter</i></time>\\n</div>\\n\\n\\n\\t\\t\\t</header>\\n\\t\\t\\t<div class=\"entry-summary\">\\n\\t\\t\\t\\t<p>We are excited to announce the relaunch of a new <a href=\"https://resources.data.gov/\" class=\"local-link\">resources.data.gov</a> , an online repository of policies, tools, case studies, and other resources to support data governance, management, exchange, and use throughout the federal government. The site is a joint effort &hellip; <a aria-describedby=\"post-title-26396174\" href=\"meta/serving-the-needs-of-data-practitioners-with-a-new-resources-data-gov/\" class=\"local-link\">Continued</a></p>\\n\\t\\t\\t</div>\\n\\t\\t</article>\\n\\n\\t\\n\\t\\n\\t\\n\\t\\n\\t\\t<article class=\"col-md-4 col-lg-4 post-27383792 post type-post status-publish format-status hentry category-developers tag-usdatagov post_format-post-format-status\">\\n            <header>\\n                <div class=\"tweet-author\">\\n                <span class=\"author-image\">\\n                    <img src=\"app/themes/roots-nextdatagov/assets/img/twitter.png\"  alt=\"twitter\">\\n                </span>\\n                    <a class=\"author-link local-link\" href=\"https://twitter.com/usdatagov\">\\n                        <div>\\n                    <span class=\"author-name\">\\n                        usdatagov                    </span>\\n                        <span class=\"author-handle\">\\n                            @usdatagov                        </span>\\n                        </div>\\n                    </a>\\n                </div>\\n                <div class=\"tweet-date\">\\n                    November 12, 2021                </div>\\n            </header>\\n\\t\\t\\t<div class=\"body\">\\n\\t\\t\\t\\t\\n<p class=\\'tweet_text\\'><a href=\"https://t.co/zTOIA0MBOB\" target=\"_blank\" rel=\"external noopener noreferrer\" class=\"external ext-link\" onclick=\"this.target=&#039;_blank&#039;;\">https://t.co/zTOIA0MBOB</a> is looking for an engineer who is \\u200b\\u200bpassionate about our mission to improve the public’s ex… <a href=\"https://t.co/IGEhjxL6K6\" target=\"_blank\" rel=\"external noopener noreferrer\" class=\"external ext-link\" onclick=\"this.target=&#039;_blank&#039;;\">https://t.co/IGEhjxL6K6</a></p>\\n\\n<div style=\"display: block !important; margin:0 !important; padding: 0 !important\" id=\"wpp_popup_post_end_element\"></div>\\t\\t\\t</div>\\n\\t\\t</article>\\n\\n\\t\\n\\t\\t<article class=\"col-md-4 col-lg-4 post-27383794 post type-post status-publish format-status hentry category-developers tag-usdatagov post_format-post-format-status\">\\n            <header>\\n                <div class=\"tweet-author\">\\n                <span class=\"author-image\">\\n                    <img src=\"app/themes/roots-nextdatagov/assets/img/twitter.png\"  alt=\"twitter\">\\n                </span>\\n                    <a class=\"author-link local-link\" href=\"https://twitter.com/usdatagov\">\\n                        <div>\\n                    <span class=\"author-name\">\\n                        usdatagov                    </span>\\n                        <span class=\"author-handle\">\\n                            @usdatagov                        </span>\\n                        </div>\\n                    </a>\\n                </div>\\n                <div class=\"tweet-date\">\\n                    November 12, 2021                </div>\\n            </header>\\n\\t\\t\\t<div class=\"body\">\\n\\t\\t\\t\\t\\n<p class=\\'tweet_text\\'>State. Dept. CDO makes diversity top management priority under data strategy | Federal News Network… <a href=\"https://t.co/EaczLOp7U0\" target=\"_blank\" rel=\"external noopener noreferrer\" class=\"external ext-link\" onclick=\"this.target=&#039;_blank&#039;;\">https://t.co/EaczLOp7U0</a></p>\\n\\n<div style=\"display: block !important; margin:0 !important; padding: 0 !important\" id=\"wpp_popup_post_end_element\"></div>\\t\\t\\t</div>\\n\\t\\t</article>\\n\\n\\t\\n\\t\\t<article class=\"col-md-4 col-lg-4 post-27382183 post type-post status-publish format-status hentry category-developers tag-usdatagov post_format-post-format-status\">\\n            <header>\\n                <div class=\"tweet-author\">\\n                <span class=\"author-image\">\\n                    <img src=\"app/themes/roots-nextdatagov/assets/img/twitter.png\"  alt=\"twitter\">\\n                </span>\\n                    <a class=\"author-link local-link\" href=\"https://twitter.com/usdatagov\">\\n                        <div>\\n                    <span class=\"author-name\">\\n                        usdatagov                    </span>\\n                        <span class=\"author-handle\">\\n                            @usdatagov                        </span>\\n                        </div>\\n                    </a>\\n                </div>\\n                <div class=\"tweet-date\">\\n                    November 11, 2021                </div>\\n            </header>\\n\\t\\t\\t<div class=\"body\">\\n\\t\\t\\t\\t\\n<p class=\\'tweet_text\\'><a href=\"https://t.co/zTOIA14cG9\" target=\"_blank\" rel=\"external noopener noreferrer\" class=\"external ext-link\" onclick=\"this.target=&#039;_blank&#039;;\">https://t.co/zTOIA14cG9</a> is looking for engineers and product managers who are \\u200b\\u200bpassionate about our mission to imp… <a href=\"https://t.co/EMawQCrCBm\" target=\"_blank\" rel=\"external noopener noreferrer\" class=\"external ext-link\" onclick=\"this.target=&#039;_blank&#039;;\">https://t.co/EMawQCrCBm</a></p>\\n\\n<div style=\"display: block !important; margin:0 !important; padding: 0 !important\" id=\"wpp_popup_post_end_element\"></div>\\t\\t\\t</div>\\n\\t\\t</article>\\n\\n\\t\\n\\t</section>\\n\\n</div><!--/.container-->\\n        </main>\\n        <!-- /.main -->\\n\\n        \\n\\n    </div>\\n    <!-- /.content -->\\n</div>\\n<!-- /.wrap -->\\n\\n<footer class=\"content-info\" role=\"contentinfo\">\\n\\n\\n    <div class=\"container\">\\n\\n\\n        <div class=\"row\">\\n\\n            <!--\\n    <div class=\"col-lg-4\">\\n            <p>&copy; 2021 Data.gov</p>\\n    </div>\\n    -->\\n\\n\\n            <div class=\"col-md-6 col-lg-6\">\\n                <div class=\"footer-logo\">\\n                    <a class=\"logo-brand local-link\" href=\"index.html\" alt=\"Data.gov\">Data.gov</a>\\n                </div>\\n                <ul id=\"menu-footer2\" class=\"nav\"><li class=\"menu-privacy-and-website-policies\"><a href=\"privacy-policy.html\" class=\"local-link\">Privacy and Website Policies</a></li>\\n<li class=\"menu-usa-gov\"><a href=\"https://www.usa.gov/\" class=\"external ext-link\" rel=\"external noopener noreferrer\" onclick=\"this.target=&#039;_blank&#039;;\">USA.GOV</a></li>\\n<li class=\"menu-performance-gov\"><a href=\"https://www.performance.gov/\" class=\"external ext-link\" rel=\"external noopener noreferrer\" onclick=\"this.target=&#039;_blank&#039;;\">PERFORMANCE.GOV</a></li>\\n</ul>            </div>\\n\\n                            <nav class=\"col-md-3 col-lg-3\" role=\"navigation\">\\n                    <ul id=\"menu-footer\" class=\"nav\"><li class=\"menu-about\"><a href=\"about/\" class=\"local-link\">About</a></li>\\n<li class=\"menu-open-government\"><a href=\"open-gov/\" class=\"local-link\">Open Government</a></li>\\n<li class=\"menu-blog\"><a href=\"meta.html\" class=\"local-link\">Blog</a></li>\\n<li class=\"menu-metrics\"><a href=\"metrics.html\" class=\"local-link\">Metrics</a></li>\\n<li class=\"menu-events\"><a href=\"events/\">Events</a></li>\\n</ul>                </nav>\\n\\n            \\n\\n\\n            <div class=\"col-md-3 col-lg-3 social-nav\">\\n\\n                \\n\\n\\n                                    <nav role=\"navigation\">\\n                        <ul id=\"menu-social_navigation\" class=\"nav\"><li><a href=\"https://twitter.com/usdatagov\" title=\"This link will direct you to an external website that may have different content and privacy policies from Data.gov.\" class=\"local-link\"><i class=\"fa fa-twitter\" ></i><span>Twitter</span></a></li>\\n<li><a href=\"https://github.com/GSA/datagov-deploy/\" title=\"This link will direct you to an external website that may have different content and privacy policies from Data.gov.\" class=\"local-link\"><i class=\"fa fa-github\" ></i><span>Github</span></a></li>\\n</ul>                    </nav>\\n                \\n            </div>\\n        </div>\\n    </div>\\n</footer>\\n\\n\\n\\n\\t\\t<script>\\n\\t\\t( function ( body ) {\\n\\t\\t\\t\\'use strict\\';\\n\\t\\t\\tbody.className = body.className.replace( /\\\\btribe-no-js\\\\b/, \\'tribe-js\\' );\\n\\t\\t} )( document.body );\\n\\t\\t</script>\\n\\t\\t<script> /* <![CDATA[ */var tribe_l10n_datatables = {\"aria\":{\"sort_ascending\":\": activate to sort column ascending\",\"sort_descending\":\": activate to sort column descending\"},\"length_menu\":\"Show _MENU_ entries\",\"empty_table\":\"No data available in table\",\"info\":\"Showing _START_ to _END_ of _TOTAL_ entries\",\"info_empty\":\"Showing 0 to 0 of 0 entries\",\"info_filtered\":\"(filtered from _MAX_ total entries)\",\"zero_records\":\"No matching records found\",\"search\":\"Search:\",\"all_selected_text\":\"All items on this page were selected. \",\"select_all_link\":\"Select all pages\",\"clear_selection\":\"Clear Selection.\",\"pagination\":{\"all\":\"All\",\"next\":\"Next\",\"previous\":\"Previous\"},\"select\":{\"rows\":{\"0\":\"\",\"_\":\": Selected %d rows\",\"1\":\": Selected 1 row\"}},\"datepicker\":{\"dayNames\":[\"Sunday\",\"Monday\",\"Tuesday\",\"Wednesday\",\"Thursday\",\"Friday\",\"Saturday\"],\"dayNamesShort\":[\"Sun\",\"Mon\",\"Tue\",\"Wed\",\"Thu\",\"Fri\",\"Sat\"],\"dayNamesMin\":[\"S\",\"M\",\"T\",\"W\",\"T\",\"F\",\"S\"],\"monthNames\":[\"January\",\"February\",\"March\",\"April\",\"May\",\"June\",\"July\",\"August\",\"September\",\"October\",\"November\",\"December\"],\"monthNamesShort\":[\"January\",\"February\",\"March\",\"April\",\"May\",\"June\",\"July\",\"August\",\"September\",\"October\",\"November\",\"December\"],\"monthNamesMin\":[\"Jan\",\"Feb\",\"Mar\",\"Apr\",\"May\",\"Jun\",\"Jul\",\"Aug\",\"Sep\",\"Oct\",\"Nov\",\"Dec\"],\"nextText\":\"Next\",\"prevText\":\"Prev\",\"currentText\":\"Today\",\"closeText\":\"Done\",\"today\":\"Today\",\"clear\":\"Clear\"}};/* ]]> */ </script><script type=\\'text/javascript\\' src=\\'app/plugins/simple-tooltips/zebra_tooltips.js\\'></script>\\n<script type=\\'text/javascript\\' src=\\'wp/wp-includes/js/dist/vendor/wp-polyfill.min.js\\'></script>\\n<script type=\\'text/javascript\\' id=\\'wp-polyfill-js-after\\'>\\n( \\'fetch\\' in window ) || document.write( \\'<script src=\"wp/wp-includes/js/dist/vendor/wp-polyfill-fetch.min.js@ver=3.0.0\"></scr\\' + \\'ipt>\\' );( document.contains ) || document.write( \\'<script src=\"wp/wp-includes/js/dist/vendor/wp-polyfill-node-contains.min.js@ver=3.42.0\"></scr\\' + \\'ipt>\\' );( window.DOMRect ) || document.write( \\'<script src=\"wp/wp-includes/js/dist/vendor/wp-polyfill-dom-rect.min.js@ver=3.42.0\"></scr\\' + \\'ipt>\\' );( window.URL && window.URL.prototype && window.URLSearchParams ) || document.write( \\'<script src=\"wp/wp-includes/js/dist/vendor/wp-polyfill-url.min.js@ver=3.6.4\"></scr\\' + \\'ipt>\\' );( window.FormData && window.FormData.prototype.keys ) || document.write( \\'<script src=\"wp/wp-includes/js/dist/vendor/wp-polyfill-formdata.min.js></scr\\' + \\'ipt>\\' );\\n</script>\\n<script type=\\'text/javascript\\' id=\\'contact-form-7-js-extra\\'>\\n/* <![CDATA[ */\\nvar wpcf7 = {\"api\":{\"root\":\"https:\\\\/\\\\/www.data.gov\\\\/wp-json\\\\/\",\"namespace\":\"contact-form-7\\\\/v1\"}};\\n/* ]]> */\\n</script>\\n<script type=\\'text/javascript\\' src=\\'app/plugins/contact-form-7/includes/js/index.js\\'></script>\\n<script type=\\'text/javascript\\' src=\\'app/plugins/the-events-calendar/common/vendor/datatables/datatables.min.js\\'></script>\\n<script type=\\'text/javascript\\' src=\\'app/themes/roots-nextdatagov/assets/js/scripts.min.js\\'></script>\\n<script type=\\'text/javascript\\' src=\\'https://code.jquery.com/jquery-migrate-3.1.0.min.js\\' id=\\'jquery-migrate-js\\'></script>\\n<script type=\\'text/javascript\\' src=\\'wp/wp-includes/js/wp-embed.min.js\\'></script>\\n                \\t\\t\\t            \\n                <script type=\"text/javascript\">\\n                    jQuery(function() {\\n                                                \\n                        jQuery(\".tooltips img\").closest(\".tooltips\").css(\"display\", \"inline-block\");\\n                    \\n                        new jQuery.Zebra_Tooltips(jQuery(\\'.tooltips\\').not(\\'.custom_m_bubble\\'), {\\n                            \\'background_color\\':     \\'#000000\\',\\n                            \\'color\\':\\t\\t\\t\\t\\'#ffffff\\',\\n                            \\'max_width\\':  250,\\n                            \\'opacity\\':    .95, \\n                            \\'position\\':    \\'center\\'\\n                        });\\n                        \\n                                            \\n                    });\\n                </script>        \\n\\t\\t</body>\\n</html>\\n'"
      ]
     },
     "execution_count": 81,
     "metadata": {},
     "output_type": "execute_result"
    }
   ],
   "source": [
    "response"
   ]
  },
  {
   "cell_type": "code",
   "execution_count": 86,
   "metadata": {},
   "outputs": [
    {
     "data": {
      "text/plain": [
       "<main class=\"main\" id=\"main\" role=\"main\">\n",
       "<section class=\"wrap wrap-lightblue\" id=\"highlights\">\n",
       "<div class=\"container\">\n",
       "<div class=\"page-header\">\n",
       "<h1>Highlights</h1>\n",
       "</div>\n",
       "<div class=\"carousel highlights slide\" id=\"highlightsCarousel\">\n",
       "<!-- Carousel items -->\n",
       "<div class=\"carousel-inner\" id=\"highlightsCarouselInner\">\n",
       "<div class=\"highlight item active\">\n",
       "<header>\n",
       "<h2 class=\"entry-title\" style=\"float:left;\">Rivers of Data – Inland Electronic Navigation Charts</h2>\n",
       "</header>\n",
       "<br clear=\"all\"/>\n",
       "<div class=\"featured-image col-md-4\">\n",
       "<img alt=\"Example of Inland Electronic Navigation Chart Overlay at Southwest Pass, Louisiana.\" class=\"attachment-medium size-medium wp-post-image\" height=\"243\" loading=\"lazy\" sizes=\"(max-width: 300px) 100vw, 300px\" src=\"datagov/wordpress/2019/04/IENC-example-300x243.jpg\" srcset=\"datagov/wordpress/2019/04/IENC-example-300x243.jpg 300w, datagov/wordpress/2019/04/IENC-example-768x621.jpg 768w, datagov/wordpress/2019/04/IENC-example.jpg 806w\" width=\"300\"/> </div>\n",
       "<article class=\"col-md-8\">\n",
       "<p>Nautical charts provide critical information to mariners in support of safe navigation.  Historically these charts have been printed and distributed on paper, but modern communications systems allow for electronic charts that are able to be updated as new information becomes available.  The National Oceanic and Atmospheric Administration (NOAA) Office of Coast Survey produces charts for coastal and Great Lakes areas, and the U.S. Army Corps of Engineers produces charts for America’s inland rivers through the Inland Electronic Navigation Chart program.  The Inland Electronic Navigation Chart (IENC) program covers thousands of miles of navigable waterways.  America’s inland waterways move millions of tons of commodities every year, and the work of surveying, charting, and dredging sediment is continually ongoing due to the dynamic conditions and constant change happening along any given river.</p>\n",
       "<p>Rivers included in the Inland Electronic Navigation Chart (IENC) program include the Allegheny River, Arkansas River, Atchafalaya River, Black Warrior-Tombigbee Rivers, Cumberland River, Green River, Illinois River, Kaskaskia, Kanawha River, Lower Mississippi River, Missouri River, Monongahela River, Ohio River, Ouachita River, Red River, Tennessee River (including the Tellico, Hiwassee, Clinch and Emory Rivers), Tennessee-Tombigbee Waterway, Upper Mississippi River, and the White River.  Anyone can access the navigation charts for these rivers, which show depth contours, buoys, lights, known hazards, and reference landmarks.</p>\n",
       "<p>References and Data.Gov Links:</p>\n",
       "<p>Inland Electronic Navigational Charts (IENC), https://catalog.data.gov/dataset/inland-electronic-navigational-charts-ienc</p>\n",
       "<p>USACE Inland Electronic Navigation Charts Homepage, http://ienccloud.us/</p>\n",
       "<p>NOAA Electronic Navigational Charts (ENC), https://catalog.data.gov/dataset/noaa-electronic-navigational-charts-enc7cce5</p>\n",
       "<p>NOAA Raster Navigational Charts (RNC), https://catalog.data.gov/dataset/noaa-raster-navigational-charts-rnc7af22</p>\n",
       "<div id=\"wpp_popup_post_end_element\" style=\"display: block !important; margin:0 !important; padding: 0 !important\"></div> </article>\n",
       "</div><!--/.highlight-->\n",
       "</div>\n",
       "<div class=\"pull-right\">\n",
       "<a class=\"more-link\" href=\"communities/\" style=\"color:#fff;\">More Highlights</a>\n",
       "</div>\n",
       "</div>\n",
       "</div>\n",
       "<!--/.container-->\n",
       "</section><!--/.wrap-lightblue-->\n",
       "<div class=\"wrap container\">\n",
       "<section class=\"updates\">\n",
       "<div class=\"page-header\">\n",
       "<h1>Updates</h1>\n",
       "</div>\n",
       "<article class=\"post-27144945 post type-post status-publish format-standard has-post-thumbnail hentry category-geospatial category-maritime tag-channels tag-civil-works tag-ehydro tag-geospatial-data tag-hydrosurvey tag-infrastructure tag-marine-transportation tag-marine-transportation-system tag-maritime tag-usace\">\n",
       "<header>\n",
       "<h5 class=\"category category-header topic-geospatial\"><a href=\"geospatial.html\"><i></i><span>Geospatial</span></a>\n",
       "</h5>\n",
       "<h2 class=\"entry-title\"><a href=\"maritime/hydrosurvey-data-archive-for-federal-navigation-projects/\" id=\"post-title-27144945\">Hydrosurvey Data Archive for Federal Navigation Projects</a></h2>\n",
       "<div class=\"entry-meta\" xmlns=\"//www.w3.org/1999/html\">\n",
       "<time class=\"published\" datetime=\"2021-07-27T18:30:36-04:00\">July 27, 2021  <i>By Marin Kress, Research Scientist, U.S. Army Corps of Engineers</i></time>\n",
       "</div>\n",
       "</header>\n",
       "<div class=\"entry-summary\">\n",
       "<p>The U.S. Army Corps of Engineers (USACE) performs hydrographic surveys (hydrosurveys) for federal navigation projects around the U.S. Federal navigation projects include an estimated 25,000 miles of channels and form a key part of U.S. maritime infrastructure in both coastal … <a aria-describedby=\"post-title-27144945\" class=\"local-link\" href=\"maritime/hydrosurvey-data-archive-for-federal-navigation-projects/\">Continued</a></p>\n",
       "</div>\n",
       "</article>\n",
       "<article class=\"post-26927987 post type-post status-publish format-standard hentry category-meta\">\n",
       "<header>\n",
       "<h5 class=\"category category-header topic-meta\"><a href=\"meta.html\"><i></i><span>Meta - The Data.gov Blog</span></a>\n",
       "</h5>\n",
       "<h2 class=\"entry-title\"><a href=\"meta/data-gov-to-discontinue-csw-service-on-may-1/\" id=\"post-title-26927987\">Data.gov to Discontinue CSW Service on May 1</a></h2>\n",
       "<div class=\"entry-meta\" xmlns=\"//www.w3.org/1999/html\">\n",
       "<time class=\"published\" datetime=\"2021-04-28T15:55:02-04:00\">April 28, 2021  <i>By Data.gov </i></time>\n",
       "</div>\n",
       "</header>\n",
       "<div class=\"entry-summary\">\n",
       "<p>Data.gov will be discontinuing the Catalog Service for Web (CSW) as of May 1st, 2021. You can access the same catalog of data through the Comprehensive Knowledge Archive Network Application Programming Interface (CKAN API) provided by catalog.data.gov. If you have … <a aria-describedby=\"post-title-26927987\" class=\"local-link\" href=\"meta/data-gov-to-discontinue-csw-service-on-may-1/\">Continued</a></p>\n",
       "</div>\n",
       "</article>\n",
       "<article class=\"post-26396174 post type-post status-publish format-standard hentry category-meta\">\n",
       "<header>\n",
       "<h5 class=\"category category-header topic-meta\"><a href=\"meta.html\"><i></i><span>Meta - The Data.gov Blog</span></a>\n",
       "</h5>\n",
       "<h2 class=\"entry-title\"><a href=\"meta/serving-the-needs-of-data-practitioners-with-a-new-resources-data-gov/\" id=\"post-title-26396174\">Serving the Needs of Data Practitioners with a New resources.data.gov</a></h2>\n",
       "<div class=\"entry-meta\" xmlns=\"//www.w3.org/1999/html\">\n",
       "<time class=\"published\" datetime=\"2020-07-02T10:50:42-04:00\">July 2, 2020  <i>By Crystal Carter</i></time>\n",
       "</div>\n",
       "</header>\n",
       "<div class=\"entry-summary\">\n",
       "<p>We are excited to announce the relaunch of a new <a class=\"local-link\" href=\"https://resources.data.gov/\">resources.data.gov</a> , an online repository of policies, tools, case studies, and other resources to support data governance, management, exchange, and use throughout the federal government. The site is a joint effort … <a aria-describedby=\"post-title-26396174\" class=\"local-link\" href=\"meta/serving-the-needs-of-data-practitioners-with-a-new-resources-data-gov/\">Continued</a></p>\n",
       "</div>\n",
       "</article>\n",
       "<article class=\"col-md-4 col-lg-4 post-27383792 post type-post status-publish format-status hentry category-developers tag-usdatagov post_format-post-format-status\">\n",
       "<header>\n",
       "<div class=\"tweet-author\">\n",
       "<span class=\"author-image\">\n",
       "<img alt=\"twitter\" src=\"app/themes/roots-nextdatagov/assets/img/twitter.png\"/>\n",
       "</span>\n",
       "<a class=\"author-link local-link\" href=\"https://twitter.com/usdatagov\">\n",
       "<div>\n",
       "<span class=\"author-name\">\n",
       "                        usdatagov                    </span>\n",
       "<span class=\"author-handle\">\n",
       "                            @usdatagov                        </span>\n",
       "</div>\n",
       "</a>\n",
       "</div>\n",
       "<div class=\"tweet-date\">\n",
       "                    November 12, 2021                </div>\n",
       "</header>\n",
       "<div class=\"body\">\n",
       "<p class=\"tweet_text\"><a class=\"external ext-link\" href=\"https://t.co/zTOIA0MBOB\" onclick=\"this.target='_blank';\" rel=\"external noopener noreferrer\" target=\"_blank\">https://t.co/zTOIA0MBOB</a> is looking for an engineer who is ​​passionate about our mission to improve the public’s ex… <a class=\"external ext-link\" href=\"https://t.co/IGEhjxL6K6\" onclick=\"this.target='_blank';\" rel=\"external noopener noreferrer\" target=\"_blank\">https://t.co/IGEhjxL6K6</a></p>\n",
       "<div id=\"wpp_popup_post_end_element\" style=\"display: block !important; margin:0 !important; padding: 0 !important\"></div> </div>\n",
       "</article>\n",
       "<article class=\"col-md-4 col-lg-4 post-27383794 post type-post status-publish format-status hentry category-developers tag-usdatagov post_format-post-format-status\">\n",
       "<header>\n",
       "<div class=\"tweet-author\">\n",
       "<span class=\"author-image\">\n",
       "<img alt=\"twitter\" src=\"app/themes/roots-nextdatagov/assets/img/twitter.png\"/>\n",
       "</span>\n",
       "<a class=\"author-link local-link\" href=\"https://twitter.com/usdatagov\">\n",
       "<div>\n",
       "<span class=\"author-name\">\n",
       "                        usdatagov                    </span>\n",
       "<span class=\"author-handle\">\n",
       "                            @usdatagov                        </span>\n",
       "</div>\n",
       "</a>\n",
       "</div>\n",
       "<div class=\"tweet-date\">\n",
       "                    November 12, 2021                </div>\n",
       "</header>\n",
       "<div class=\"body\">\n",
       "<p class=\"tweet_text\">State. Dept. CDO makes diversity top management priority under data strategy | Federal News Network… <a class=\"external ext-link\" href=\"https://t.co/EaczLOp7U0\" onclick=\"this.target='_blank';\" rel=\"external noopener noreferrer\" target=\"_blank\">https://t.co/EaczLOp7U0</a></p>\n",
       "<div id=\"wpp_popup_post_end_element\" style=\"display: block !important; margin:0 !important; padding: 0 !important\"></div> </div>\n",
       "</article>\n",
       "<article class=\"col-md-4 col-lg-4 post-27382183 post type-post status-publish format-status hentry category-developers tag-usdatagov post_format-post-format-status\">\n",
       "<header>\n",
       "<div class=\"tweet-author\">\n",
       "<span class=\"author-image\">\n",
       "<img alt=\"twitter\" src=\"app/themes/roots-nextdatagov/assets/img/twitter.png\"/>\n",
       "</span>\n",
       "<a class=\"author-link local-link\" href=\"https://twitter.com/usdatagov\">\n",
       "<div>\n",
       "<span class=\"author-name\">\n",
       "                        usdatagov                    </span>\n",
       "<span class=\"author-handle\">\n",
       "                            @usdatagov                        </span>\n",
       "</div>\n",
       "</a>\n",
       "</div>\n",
       "<div class=\"tweet-date\">\n",
       "                    November 11, 2021                </div>\n",
       "</header>\n",
       "<div class=\"body\">\n",
       "<p class=\"tweet_text\"><a class=\"external ext-link\" href=\"https://t.co/zTOIA14cG9\" onclick=\"this.target='_blank';\" rel=\"external noopener noreferrer\" target=\"_blank\">https://t.co/zTOIA14cG9</a> is looking for engineers and product managers who are ​​passionate about our mission to imp… <a class=\"external ext-link\" href=\"https://t.co/EMawQCrCBm\" onclick=\"this.target='_blank';\" rel=\"external noopener noreferrer\" target=\"_blank\">https://t.co/EMawQCrCBm</a></p>\n",
       "<div id=\"wpp_popup_post_end_element\" style=\"display: block !important; margin:0 !important; padding: 0 !important\"></div> </div>\n",
       "</article>\n",
       "</section>\n",
       "</div><!--/.container-->\n",
       "</main>"
      ]
     },
     "execution_count": 86,
     "metadata": {},
     "output_type": "execute_result"
    }
   ],
   "source": [
    "data_soup.select_one('main.main')"
   ]
  },
  {
   "cell_type": "code",
   "execution_count": null,
   "metadata": {},
   "outputs": [],
   "source": [
    "def page_found()"
   ]
  }
 ],
 "metadata": {
  "interpreter": {
   "hash": "38cca0c38332a56087b24af0bc80247f4fced29cb4f7f437d91dc159adec9c4e"
  },
  "kernelspec": {
   "display_name": "Python 3.9.7 ('base')",
   "language": "python",
   "name": "python3"
  },
  "language_info": {
   "codemirror_mode": {
    "name": "ipython",
    "version": 3
   },
   "file_extension": ".py",
   "mimetype": "text/x-python",
   "name": "python",
   "nbconvert_exporter": "python",
   "pygments_lexer": "ipython3",
   "version": "3.9.7"
  },
  "orig_nbformat": 4
 },
 "nbformat": 4,
 "nbformat_minor": 2
}

{
 "cells": [
  {
   "cell_type": "code",
   "execution_count": 1,
   "metadata": {},
   "outputs": [],
   "source": [
    "import pandas as pd\n",
    "import requests\n",
    "import re\n",
    "from bs4 import BeautifulSoup, BeautifulStoneSoup\n",
    "\n"
   ]
  },
  {
   "cell_type": "markdown",
   "metadata": {},
   "source": [
    "### Mini-exercise from web-scraping lesson"
   ]
  },
  {
   "cell_type": "code",
   "execution_count": 2,
   "metadata": {},
   "outputs": [
    {
     "data": {
      "text/plain": [
       "str"
      ]
     },
     "execution_count": 2,
     "metadata": {},
     "output_type": "execute_result"
    }
   ],
   "source": [
    "url = 'https://web-scraping-demo.zgulde.net/people'\n",
    "response = requests.get(url)\n",
    "type(response.text)"
   ]
  },
  {
   "cell_type": "code",
   "execution_count": 3,
   "metadata": {},
   "outputs": [
    {
     "data": {
      "text/plain": [
       "'<!DOCTYPE html>\\n<html lang=\"en\">\\n <head>\\n  <meta charset=\"utf-8\"/>\\n  <meta content=\"IE=edge\" http-equiv=\"X-UA-Compatible\"/>\\n  <meta content=\"width=device-width, initial-scale=1.0\" name=\"viewport\"/>\\n  <title>\\n   Example People Page\\n  </title>\\n  <link href=\"https://unpkg.com/tailwindcss@^2/dist/tailwind.min.css\" rel=\"stylesheet\"/>\\n  <link href=\"https://cdn.jsdelivr.net/npm/bootstrap-icons@1.4.1/font/bootstrap-icons.css\" rel=\"stylesheet\"/>\\n </head>\\n <body class=\"mx-auto max-w-screen-lg pb-32\">\\n  <h1 class=\"my-5 text-4xl text-center\">\\n   People\\n  </h1>\\n  <div class=\"my-5 text-red-800 px-5 py-3 bg-red-100 font-bold\">\\n   <p>\\n    <i class=\"bi bi-exclamation-circle text-xl\">\\n    </i>\\n    All data on this page is strictly for demonstration purposes and fake.\\n   </p>\\n  </div>\\n  <div class=\"grid grid-cols-2 gap-x-12 gap-y-16\" id=\"people\">\\n   <div class=\"person border rounded px-3 py-5 grid grid-cols-2 gap-x-3 bg-purple-50 hover:shadow-lg transition duration-500\">\\n    <h2 class=\"text-2xl text-purple-800 name col-span-full border-b\">\\n     Andrea Curry\\n    </h2>\\n    <p class=\"quote col-span-full px-5 py-5 text-center text-gray-500\">\\n     \"User-friendly stable collaboration\"\\n    </p>\\n    <div class=\"grid grid-cols-9\">\\n     <i class=\"bi bi-envelope-fill text-purple-800\">\\n     </i>\\n     <p class=\"email col-span-8\">\\n      yrusso@myers.com\\n     </p>\\n     <i class=\"bi bi-telephone-fill text-purple-800\">\\n     </i>\\n     <p class=\"phone col-span-8\">\\n      828-184-6436x847\\n     </p>\\n    </div>\\n    <div class=\"address grid grid-cols-9\">\\n     <i class=\"bi bi-geo-fill text-purple-800\">\\n     </i>\\n     <p class=\"col-span-8\">\\n      9898 Lisa Hills\\n      <br/>\\n      South Stephenburgh, PA 81229\\n     </p>\\n    </div>\\n   </div>\\n   <div class=\"person border rounded px-3 py-5 grid grid-cols-2 gap-x-3 bg-purple-50 hover:shadow-lg transition duration-500\">\\n    <h2 class=\"text-2xl text-purple-800 name col-span-full border-b\">\\n     Justin Cooper\\n    </h2>\\n    <p class=\"quote col-span-full px-5 py-5 text-center text-gray-500\">\\n     \"Fundamental bi-directional data-warehouse\"\\n    </p>\\n    <div class=\"grid grid-cols-9\">\\n     <i class=\"bi bi-envelope-fill text-purple-800\">\\n     </i>\\n     <p class=\"email col-span-8\">\\n      jennifer04@collins.com\\n     </p>\\n     <i class=\"bi bi-telephone-fill text-purple-800\">\\n     </i>\\n     <p class=\"phone col-span-8\">\\n      (504)321-5474\\n     </p>\\n    </div>\\n    <div class=\"address grid grid-cols-9\">\\n     <i class=\"bi bi-geo-fill text-purple-800\">\\n     </i>\\n     <p class=\"col-span-8\">\\n      01753 Nathan Ford Apt. 083\\n      <br/>\\n      Newmanburgh, NE 27184\\n     </p>\\n    </div>\\n   </div>\\n   <div class=\"person border rounded px-3 py-5 grid grid-cols-2 gap-x-3 bg-purple-50 hover:shadow-lg transition duration-500\">\\n    <h2 class=\"text-2xl text-purple-800 name col-span-full border-b\">\\n     Emily Morris\\n    </h2>\\n    <p class=\"quote col-span-full px-5 py-5 text-center text-gray-500\">\\n     \"Multi-channeled transitional flexibility\"\\n    </p>\\n    <div class=\"grid grid-cols-9\">\\n     <i class=\"bi bi-envelope-fill text-purple-800\">\\n     </i>\\n     <p class=\"email col-span-8\">\\n      larry17@walker-johnson.com\\n     </p>\\n     <i class=\"bi bi-telephone-fill text-purple-800\">\\n     </i>\\n     <p class=\"phone col-span-8\">\\n      954.699.4917x2716\\n     </p>\\n    </div>\\n    <div class=\"address grid grid-cols-9\">\\n     <i class=\"bi bi-geo-fill text-purple-800\">\\n     </i>\\n     <p class=\"col-span-8\">\\n      862 Porter Hill Apt. 667\\n      <br/>\\n      Matthewshire, AL 17255\\n     </p>\\n    </div>\\n   </div>\\n   <div class=\"person border rounded px-3 py-5 grid grid-cols-2 gap-x-3 bg-purple-50 hover:shadow-lg transition duration-500\">\\n    <h2 class=\"text-2xl text-purple-800 name col-span-full border-b\">\\n     Andrew Molina\\n    </h2>\\n    <p class=\"quote col-span-full px-5 py-5 text-center text-gray-500\">\\n     \"Persevering client-driven initiative\"\\n    </p>\\n    <div class=\"grid grid-cols-9\">\\n     <i class=\"bi bi-envelope-fill text-purple-800\">\\n     </i>\\n     <p class=\"email col-span-8\">\\n      jessica34@hudson.com\\n     </p>\\n     <i class=\"bi bi-telephone-fill text-purple-800\">\\n     </i>\\n     <p class=\"phone col-span-8\">\\n      001-724-635-8986x690\\n     </p>\\n    </div>\\n    <div class=\"address grid grid-cols-9\">\\n     <i class=\"bi bi-geo-fill text-purple-800\">\\n     </i>\\n     <p class=\"col-span-8\">\\n      604 Brown Park Suite 386\\n      <br/>\\n      West Nicole, MI 22862\\n     </p>\\n    </div>\\n   </div>\\n   <div class=\"person border rounded px-3 py-5 grid grid-cols-2 gap-x-3 bg-purple-50 hover:shadow-lg transition duration-500\">\\n    <h2 class=\"text-2xl text-purple-800 name col-span-full border-b\">\\n     Emma Ramirez\\n    </h2>\\n    <p class=\"quote col-span-full px-5 py-5 text-center text-gray-500\">\\n     \"Configurable clear-thinking website\"\\n    </p>\\n    <div class=\"grid grid-cols-9\">\\n     <i class=\"bi bi-envelope-fill text-purple-800\">\\n     </i>\\n     <p class=\"email col-span-8\">\\n      rachel39@gmail.com\\n     </p>\\n     <i class=\"bi bi-telephone-fill text-purple-800\">\\n     </i>\\n     <p class=\"phone col-span-8\">\\n      (940)733-8930x9170\\n     </p>\\n    </div>\\n    <div class=\"address grid grid-cols-9\">\\n     <i class=\"bi bi-geo-fill text-purple-800\">\\n     </i>\\n     <p class=\"col-span-8\">\\n      7634 Ruth Heights\\n      <br/>\\n      Lake Dustin, FL 92940\\n     </p>\\n    </div>\\n   </div>\\n   <div class=\"person border rounded px-3 py-5 grid grid-cols-2 gap-x-3 bg-purple-50 hover:shadow-lg transition duration-500\">\\n    <h2 class=\"text-2xl text-purple-800 name col-span-full border-b\">\\n     Patricia Patton\\n    </h2>\\n    <p class=\"quote col-span-full px-5 py-5 text-center text-gray-500\">\\n     \"Assimilated interactive structure\"\\n    </p>\\n    <div class=\"grid grid-cols-9\">\\n     <i class=\"bi bi-envelope-fill text-purple-800\">\\n     </i>\\n     <p class=\"email col-span-8\">\\n      alexa56@hotmail.com\\n     </p>\\n     <i class=\"bi bi-telephone-fill text-purple-800\">\\n     </i>\\n     <p class=\"phone col-span-8\">\\n      +1-373-661-3289x3460\\n     </p>\\n    </div>\\n    <div class=\"address grid grid-cols-9\">\\n     <i class=\"bi bi-geo-fill text-purple-800\">\\n     </i>\\n     <p class=\"col-span-8\">\\n      11572 David Club\\n      <br/>\\n      Kathymouth, DE 45661\\n     </p>\\n    </div>\\n   </div>\\n   <div class=\"person border rounded px-3 py-5 grid grid-cols-2 gap-x-3 bg-purple-50 hover:shadow-lg transition duration-500\">\\n    <h2 class=\"text-2xl text-purple-800 name col-span-full border-b\">\\n     Judy Roberts\\n    </h2>\\n    <p class=\"quote col-span-full px-5 py-5 text-center text-gray-500\">\\n     \"Function-based web-enabled initiative\"\\n    </p>\\n    <div class=\"grid grid-cols-9\">\\n     <i class=\"bi bi-envelope-fill text-purple-800\">\\n     </i>\\n     <p class=\"email col-span-8\">\\n      jeanette89@hotmail.com\\n     </p>\\n     <i class=\"bi bi-telephone-fill text-purple-800\">\\n     </i>\\n     <p class=\"phone col-span-8\">\\n      (993)264-0933x21878\\n     </p>\\n    </div>\\n    <div class=\"address grid grid-cols-9\">\\n     <i class=\"bi bi-geo-fill text-purple-800\">\\n     </i>\\n     <p class=\"col-span-8\">\\n      06522 Mcdonald Mill Apt. 767\\n      <br/>\\n      Wendystad, NE 68033\\n     </p>\\n    </div>\\n   </div>\\n   <div class=\"person border rounded px-3 py-5 grid grid-cols-2 gap-x-3 bg-purple-50 hover:shadow-lg transition duration-500\">\\n    <h2 class=\"text-2xl text-purple-800 name col-span-full border-b\">\\n     Jerry Hester\\n    </h2>\\n    <p class=\"quote col-span-full px-5 py-5 text-center text-gray-500\">\\n     \"Devolved local initiative\"\\n    </p>\\n    <div class=\"grid grid-cols-9\">\\n     <i class=\"bi bi-envelope-fill text-purple-800\">\\n     </i>\\n     <p class=\"email col-span-8\">\\n      agonzalez@yahoo.com\\n     </p>\\n     <i class=\"bi bi-telephone-fill text-purple-800\">\\n     </i>\\n     <p class=\"phone col-span-8\">\\n      (895)961-7598x1514\\n     </p>\\n    </div>\\n    <div class=\"address grid grid-cols-9\">\\n     <i class=\"bi bi-geo-fill text-purple-800\">\\n     </i>\\n     <p class=\"col-span-8\">\\n      416 Krista Corners\\n      <br/>\\n      Sandersland, TN 14738\\n     </p>\\n    </div>\\n   </div>\\n   <div class=\"person border rounded px-3 py-5 grid grid-cols-2 gap-x-3 bg-purple-50 hover:shadow-lg transition duration-500\">\\n    <h2 class=\"text-2xl text-purple-800 name col-span-full border-b\">\\n     Brandy Lozano\\n    </h2>\\n    <p class=\"quote col-span-full px-5 py-5 text-center text-gray-500\">\\n     \"Visionary zero tolerance productivity\"\\n    </p>\\n    <div class=\"grid grid-cols-9\">\\n     <i class=\"bi bi-envelope-fill text-purple-800\">\\n     </i>\\n     <p class=\"email col-span-8\">\\n      bharmon@gmail.com\\n     </p>\\n     <i class=\"bi bi-telephone-fill text-purple-800\">\\n     </i>\\n     <p class=\"phone col-span-8\">\\n      001-962-858-1716x9717\\n     </p>\\n    </div>\\n    <div class=\"address grid grid-cols-9\">\\n     <i class=\"bi bi-geo-fill text-purple-800\">\\n     </i>\\n     <p class=\"col-span-8\">\\n      567 Webster Squares\\n      <br/>\\n      Gordonview, NJ 41566\\n     </p>\\n    </div>\\n   </div>\\n   <div class=\"person border rounded px-3 py-5 grid grid-cols-2 gap-x-3 bg-purple-50 hover:shadow-lg transition duration-500\">\\n    <h2 class=\"text-2xl text-purple-800 name col-span-full border-b\">\\n     David Herman\\n    </h2>\\n    <p class=\"quote col-span-full px-5 py-5 text-center text-gray-500\">\\n     \"Quality-focused upward-trending application\"\\n    </p>\\n    <div class=\"grid grid-cols-9\">\\n     <i class=\"bi bi-envelope-fill text-purple-800\">\\n     </i>\\n     <p class=\"email col-span-8\">\\n      mfigueroa@henry.com\\n     </p>\\n     <i class=\"bi bi-telephone-fill text-purple-800\">\\n     </i>\\n     <p class=\"phone col-span-8\">\\n      432.860.2736\\n     </p>\\n    </div>\\n    <div class=\"address grid grid-cols-9\">\\n     <i class=\"bi bi-geo-fill text-purple-800\">\\n     </i>\\n     <p class=\"col-span-8\">\\n      4637 Palmer Squares\\n      <br/>\\n      Farmerburgh, LA 81038\\n     </p>\\n    </div>\\n   </div>\\n  </div>\\n </body>\\n</html>'"
      ]
     },
     "execution_count": 3,
     "metadata": {},
     "output_type": "execute_result"
    }
   ],
   "source": [
    "soup = BeautifulSoup(response.text)\n",
    "\n",
    "soup.prettify()"
   ]
  },
  {
   "cell_type": "code",
   "execution_count": 4,
   "metadata": {},
   "outputs": [
    {
     "data": {
      "text/plain": [
       "<div class=\"person border rounded px-3 py-5 grid grid-cols-2 gap-x-3 bg-purple-50 hover:shadow-lg transition duration-500\">\n",
       "<h2 class=\"text-2xl text-purple-800 name col-span-full border-b\">Andrea Curry</h2>\n",
       "<p class=\"quote col-span-full px-5 py-5 text-center text-gray-500\">\n",
       "            \"User-friendly stable collaboration\"\n",
       "        </p>\n",
       "<div class=\"grid grid-cols-9\">\n",
       "<i class=\"bi bi-envelope-fill text-purple-800\"></i>\n",
       "<p class=\"email col-span-8\">yrusso@myers.com</p>\n",
       "<i class=\"bi bi-telephone-fill text-purple-800\"></i>\n",
       "<p class=\"phone col-span-8\">828-184-6436x847</p>\n",
       "</div>\n",
       "<div class=\"address grid grid-cols-9\">\n",
       "<i class=\"bi bi-geo-fill text-purple-800\"></i>\n",
       "<p class=\"col-span-8\">\n",
       "                9898 Lisa Hills <br/>\n",
       "                South Stephenburgh, PA 81229\n",
       "            </p>\n",
       "</div>\n",
       "</div>"
      ]
     },
     "execution_count": 4,
     "metadata": {},
     "output_type": "execute_result"
    }
   ],
   "source": [
    "people = soup.select('div.person')\n",
    "people[0]"
   ]
  },
  {
   "cell_type": "code",
   "execution_count": 5,
   "metadata": {},
   "outputs": [],
   "source": [
    "person = people[0]\n",
    "def parse_person(person):\n",
    "    output={}\n",
    "    output['name'] = person.find('h2').text\n",
    "    output['quote'] = person.select('.quote')[0].text\n",
    "    output['email_address'] = person.select_one('.email').text.strip()\n",
    "    output['phone'] = person.select_one('.phone').text\n",
    "    output['address'] = person.select_one('.address').text.strip()\n",
    "    return output\n"
   ]
  },
  {
   "cell_type": "code",
   "execution_count": 6,
   "metadata": {},
   "outputs": [
    {
     "name": "stdout",
     "output_type": "stream",
     "text": [
      "<class 'pandas.core.frame.DataFrame'>\n",
      "RangeIndex: 10 entries, 0 to 9\n",
      "Data columns (total 5 columns):\n",
      " #   Column         Non-Null Count  Dtype \n",
      "---  ------         --------------  ----- \n",
      " 0   name           10 non-null     object\n",
      " 1   quote          10 non-null     object\n",
      " 2   email_address  10 non-null     object\n",
      " 3   phone          10 non-null     object\n",
      " 4   address        10 non-null     object\n",
      "dtypes: object(5)\n",
      "memory usage: 528.0+ bytes\n"
     ]
    },
    {
     "data": {
      "text/html": [
       "<div>\n",
       "<style scoped>\n",
       "    .dataframe tbody tr th:only-of-type {\n",
       "        vertical-align: middle;\n",
       "    }\n",
       "\n",
       "    .dataframe tbody tr th {\n",
       "        vertical-align: top;\n",
       "    }\n",
       "\n",
       "    .dataframe thead th {\n",
       "        text-align: right;\n",
       "    }\n",
       "</style>\n",
       "<table border=\"1\" class=\"dataframe\">\n",
       "  <thead>\n",
       "    <tr style=\"text-align: right;\">\n",
       "      <th></th>\n",
       "      <th>name</th>\n",
       "      <th>quote</th>\n",
       "      <th>email_address</th>\n",
       "      <th>phone</th>\n",
       "      <th>address</th>\n",
       "    </tr>\n",
       "  </thead>\n",
       "  <tbody>\n",
       "    <tr>\n",
       "      <th>0</th>\n",
       "      <td>Andrea Curry</td>\n",
       "      <td>\\n            \"User-friendly stable collaborat...</td>\n",
       "      <td>yrusso@myers.com</td>\n",
       "      <td>828-184-6436x847</td>\n",
       "      <td>9898 Lisa Hills \\n                South Stephe...</td>\n",
       "    </tr>\n",
       "    <tr>\n",
       "      <th>1</th>\n",
       "      <td>Justin Cooper</td>\n",
       "      <td>\\n            \"Fundamental bi-directional data...</td>\n",
       "      <td>jennifer04@collins.com</td>\n",
       "      <td>(504)321-5474</td>\n",
       "      <td>01753 Nathan Ford Apt. 083 \\n                N...</td>\n",
       "    </tr>\n",
       "    <tr>\n",
       "      <th>2</th>\n",
       "      <td>Emily Morris</td>\n",
       "      <td>\\n            \"Multi-channeled transitional fl...</td>\n",
       "      <td>larry17@walker-johnson.com</td>\n",
       "      <td>954.699.4917x2716</td>\n",
       "      <td>862 Porter Hill Apt. 667 \\n                Mat...</td>\n",
       "    </tr>\n",
       "    <tr>\n",
       "      <th>3</th>\n",
       "      <td>Andrew Molina</td>\n",
       "      <td>\\n            \"Persevering client-driven initi...</td>\n",
       "      <td>jessica34@hudson.com</td>\n",
       "      <td>001-724-635-8986x690</td>\n",
       "      <td>604 Brown Park Suite 386 \\n                Wes...</td>\n",
       "    </tr>\n",
       "    <tr>\n",
       "      <th>4</th>\n",
       "      <td>Emma Ramirez</td>\n",
       "      <td>\\n            \"Configurable clear-thinking web...</td>\n",
       "      <td>rachel39@gmail.com</td>\n",
       "      <td>(940)733-8930x9170</td>\n",
       "      <td>7634 Ruth Heights \\n                Lake Dusti...</td>\n",
       "    </tr>\n",
       "    <tr>\n",
       "      <th>5</th>\n",
       "      <td>Patricia Patton</td>\n",
       "      <td>\\n            \"Assimilated interactive structu...</td>\n",
       "      <td>alexa56@hotmail.com</td>\n",
       "      <td>+1-373-661-3289x3460</td>\n",
       "      <td>11572 David Club \\n                Kathymouth,...</td>\n",
       "    </tr>\n",
       "    <tr>\n",
       "      <th>6</th>\n",
       "      <td>Judy Roberts</td>\n",
       "      <td>\\n            \"Function-based web-enabled init...</td>\n",
       "      <td>jeanette89@hotmail.com</td>\n",
       "      <td>(993)264-0933x21878</td>\n",
       "      <td>06522 Mcdonald Mill Apt. 767 \\n               ...</td>\n",
       "    </tr>\n",
       "    <tr>\n",
       "      <th>7</th>\n",
       "      <td>Jerry Hester</td>\n",
       "      <td>\\n            \"Devolved local initiative\"\\n   ...</td>\n",
       "      <td>agonzalez@yahoo.com</td>\n",
       "      <td>(895)961-7598x1514</td>\n",
       "      <td>416 Krista Corners \\n                Sandersla...</td>\n",
       "    </tr>\n",
       "    <tr>\n",
       "      <th>8</th>\n",
       "      <td>Brandy Lozano</td>\n",
       "      <td>\\n            \"Visionary zero tolerance produc...</td>\n",
       "      <td>bharmon@gmail.com</td>\n",
       "      <td>001-962-858-1716x9717</td>\n",
       "      <td>567 Webster Squares \\n                Gordonvi...</td>\n",
       "    </tr>\n",
       "    <tr>\n",
       "      <th>9</th>\n",
       "      <td>David Herman</td>\n",
       "      <td>\\n            \"Quality-focused upward-trending...</td>\n",
       "      <td>mfigueroa@henry.com</td>\n",
       "      <td>432.860.2736</td>\n",
       "      <td>4637 Palmer Squares \\n                Farmerbu...</td>\n",
       "    </tr>\n",
       "  </tbody>\n",
       "</table>\n",
       "</div>"
      ],
      "text/plain": [
       "              name                                              quote  \\\n",
       "0     Andrea Curry  \\n            \"User-friendly stable collaborat...   \n",
       "1    Justin Cooper  \\n            \"Fundamental bi-directional data...   \n",
       "2     Emily Morris  \\n            \"Multi-channeled transitional fl...   \n",
       "3    Andrew Molina  \\n            \"Persevering client-driven initi...   \n",
       "4     Emma Ramirez  \\n            \"Configurable clear-thinking web...   \n",
       "5  Patricia Patton  \\n            \"Assimilated interactive structu...   \n",
       "6     Judy Roberts  \\n            \"Function-based web-enabled init...   \n",
       "7     Jerry Hester  \\n            \"Devolved local initiative\"\\n   ...   \n",
       "8    Brandy Lozano  \\n            \"Visionary zero tolerance produc...   \n",
       "9     David Herman  \\n            \"Quality-focused upward-trending...   \n",
       "\n",
       "                email_address                  phone  \\\n",
       "0            yrusso@myers.com       828-184-6436x847   \n",
       "1      jennifer04@collins.com          (504)321-5474   \n",
       "2  larry17@walker-johnson.com      954.699.4917x2716   \n",
       "3        jessica34@hudson.com   001-724-635-8986x690   \n",
       "4          rachel39@gmail.com     (940)733-8930x9170   \n",
       "5         alexa56@hotmail.com   +1-373-661-3289x3460   \n",
       "6      jeanette89@hotmail.com    (993)264-0933x21878   \n",
       "7         agonzalez@yahoo.com     (895)961-7598x1514   \n",
       "8           bharmon@gmail.com  001-962-858-1716x9717   \n",
       "9         mfigueroa@henry.com           432.860.2736   \n",
       "\n",
       "                                             address  \n",
       "0  9898 Lisa Hills \\n                South Stephe...  \n",
       "1  01753 Nathan Ford Apt. 083 \\n                N...  \n",
       "2  862 Porter Hill Apt. 667 \\n                Mat...  \n",
       "3  604 Brown Park Suite 386 \\n                Wes...  \n",
       "4  7634 Ruth Heights \\n                Lake Dusti...  \n",
       "5  11572 David Club \\n                Kathymouth,...  \n",
       "6  06522 Mcdonald Mill Apt. 767 \\n               ...  \n",
       "7  416 Krista Corners \\n                Sandersla...  \n",
       "8  567 Webster Squares \\n                Gordonvi...  \n",
       "9  4637 Palmer Squares \\n                Farmerbu...  "
      ]
     },
     "execution_count": 6,
     "metadata": {},
     "output_type": "execute_result"
    }
   ],
   "source": [
    "people_df = pd.DataFrame([parse_person(person) for person in people])\n",
    "people_df.info()\n",
    "people_df"
   ]
  },
  {
   "cell_type": "markdown",
   "metadata": {},
   "source": [
    "### Main exercises"
   ]
  },
  {
   "cell_type": "code",
   "execution_count": 7,
   "metadata": {},
   "outputs": [],
   "source": [
    "codeup_url = 'https://codeup.com/workshops/from-bootcamp-to-bootcamp-a-military-appreciation-panel/'\n",
    "headers = {'user-agent': 'Innis Data Science Cohort'}\n",
    "response = requests.get(codeup_url, headers=headers)\n",
    "soup = BeautifulSoup(response.content, 'html.parser')\n"
   ]
  },
  {
   "cell_type": "code",
   "execution_count": 8,
   "metadata": {},
   "outputs": [
    {
     "data": {
      "text/plain": [
       "<Response [200]>"
      ]
     },
     "execution_count": 8,
     "metadata": {},
     "output_type": "execute_result"
    }
   ],
   "source": [
    "response"
   ]
  },
  {
   "cell_type": "code",
   "execution_count": 9,
   "metadata": {},
   "outputs": [
    {
     "data": {
      "text/plain": [
       "[<article class=\"et_pb_post post-18280 post type-post status-publish format-standard has-post-thumbnail hentry category-alumni-stories category-dallas category-events category-featured category-military category-san-antonio category-veterans category-virtual category-workshops\" id=\"post-18280\">\n",
       " <div class=\"et_post_meta_wrapper\">\n",
       " <h1 class=\"entry-title\">From Bootcamp to Bootcamp | A Military Appreciation Panel</h1>\n",
       " <p class=\"post-meta\"><span class=\"published\">Apr 27, 2022</span> | <a href=\"https://codeup.com/category/alumni-stories/\" rel=\"category tag\">Alumni Stories</a>, <a href=\"https://codeup.com/category/workshops/dallas/\" rel=\"category tag\">Dallas</a>, <a href=\"https://codeup.com/category/events/\" rel=\"category tag\">Events</a>, <a href=\"https://codeup.com/category/featured/\" rel=\"category tag\">Featured</a>, <a href=\"https://codeup.com/category/military/\" rel=\"category tag\">Military</a>, <a href=\"https://codeup.com/category/workshops/san-antonio/\" rel=\"category tag\">San Antonio</a>, <a href=\"https://codeup.com/category/veterans/\" rel=\"category tag\">Veterans</a>, <a href=\"https://codeup.com/category/workshops/virtual/\" rel=\"category tag\">Virtual</a>, <a href=\"https://codeup.com/category/workshops/\" rel=\"category tag\">Workshops</a></p><img alt=\"\" class=\"\" height=\"675\" sizes=\"(min-width: 0px) and (max-width: 480px) 480px, (min-width: 481px) 1080px, 100vw\" src=\"https://199lj33nqk3p88xz03dvn481-wpengine.netdna-ssl.com/wp-content/uploads/2022/04/Blogs-18.png\" srcset=\"https://199lj33nqk3p88xz03dvn481-wpengine.netdna-ssl.com/wp-content/uploads/2022/04/Blogs-18.png 1080w, https://199lj33nqk3p88xz03dvn481-wpengine.netdna-ssl.com/wp-content/uploads/2022/04/Blogs-18-480x279.png 480w\" width=\"1080\"/>\n",
       " </div>\n",
       " <div class=\"entry-content\">\n",
       " <div class=\"et-l et-l--post\">\n",
       " <div class=\"et_builder_inner_content et_pb_gutters3\"><div class=\"et_pb_section et_pb_section_0 et_section_regular\">\n",
       " <div class=\"et_pb_row et_pb_row_0\">\n",
       " <div class=\"et_pb_column et_pb_column_4_4 et_pb_column_0 et_pb_css_mix_blend_mode_passthrough et-last-child\">\n",
       " <div class=\"et_pb_module et_pb_text et_pb_text_0 et_pb_text_align_left et_pb_bg_layout_light\">\n",
       " <div class=\"et_pb_text_inner\"><p data-key=\"16\"><span data-key=\"17\">In honor of Military Appreciation Month, join us for a discussion with Codeup Alumni who are also Military Veterans! We will chat about their experiences attending a coding bootcamp, and how their military training set them up for success here at Codeup. Grab your virtual seat now so you can be sent the exclusive Livestream link on the 11th! </span></p>\n",
       " <p data-key=\"18\"><span data-key=\"19\">Thank you to our panelists for participating: </span></p>\n",
       " <ul>\n",
       " <li data-key=\"18\"><span data-key=\"21\">Christopher Aguirre</span></li>\n",
       " <li data-key=\"22\"><span data-key=\"23\">Taryn McKenzie </span></li>\n",
       " <li data-key=\"24\"><span data-key=\"25\">Desiree McElroy </span></li>\n",
       " </ul>\n",
       " <p data-key=\"26\">\n",
       " <p data-key=\"27\" data-slate-fragment=\"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\"><span data-key=\"28\">And thanks to Codeup’s Trey Iapachino who is also an Air Force Veteran! </span></p></p></div>\n",
       " </div>\n",
       " </div>\n",
       " </div><div class=\"et_pb_row et_pb_row_1\">\n",
       " <div class=\"et_pb_column et_pb_column_4_4 et_pb_column_1 et_pb_css_mix_blend_mode_passthrough et-last-child\">\n",
       " <div class=\"et_pb_module et_pb_code et_pb_code_0\">\n",
       " <div class=\"et_pb_code_inner\"><div id=\"eventbrite-widget-container-329140657567\"></div>\n",
       " <script src=\"https://www.eventbrite.com/static/widgets/eb_widgets.js\"></script>\n",
       " <script type=\"text/javascript\">\n",
       "     var exampleCallback = function() {\n",
       "         console.log('Order complete!');\n",
       "     };\n",
       " \n",
       "     window.EBWidgets.createWidget({\n",
       "         // Required\n",
       "         widgetType: 'checkout',\n",
       "         eventId: '329140657567',\n",
       "         iframeContainerId: 'eventbrite-widget-container-329140657567',\n",
       " \n",
       "         // Optional\n",
       "         iframeContainerHeight: 425,  // Widget height in pixels. Defaults to a minimum of 425px if not provided\n",
       "         onOrderComplete: exampleCallback  // Method called when an order has successfully completed\n",
       "     });\n",
       " </script></div>\n",
       " </div>\n",
       " </div>\n",
       " </div>\n",
       " </div> </div>\n",
       " </div>\n",
       " </div>\n",
       " <div class=\"et_post_meta_wrapper\">\n",
       " </div>\n",
       " </article>]"
      ]
     },
     "execution_count": 9,
     "metadata": {},
     "output_type": "execute_result"
    }
   ],
   "source": [
    "article = soup.select('article.post')\n",
    "article"
   ]
  },
  {
   "cell_type": "code",
   "execution_count": 10,
   "metadata": {},
   "outputs": [
    {
     "data": {
      "text/plain": [
       "[<span class=\"menu-name-behind\"></span>,\n",
       " <span class=\"menu-text\"></span>,\n",
       " <span class=\"hamburger-box\">\n",
       " <span class=\"hamburger-inner\"></span>\n",
       " </span>,\n",
       " <span class=\"hamburger-inner\"></span>,\n",
       " <span id=\"et_search_icon\"></span>,\n",
       " <span class=\"close\"></span>,\n",
       " <span class=\"mobile_menu_bar\"></span>,\n",
       " <span class=\"published\">Apr 27, 2022</span>,\n",
       " <span data-key=\"17\">In honor of Military Appreciation Month, join us for a discussion with Codeup Alumni who are also Military Veterans! We will chat about their experiences attending a coding bootcamp, and how their military training set them up for success here at Codeup. Grab your virtual seat now so you can be sent the exclusive Livestream link on the 11th! </span>,\n",
       " <span data-key=\"19\">Thank you to our panelists for participating: </span>,\n",
       " <span data-key=\"21\">Christopher Aguirre</span>,\n",
       " <span data-key=\"23\">Taryn McKenzie </span>,\n",
       " <span data-key=\"25\">Desiree McElroy </span>,\n",
       " <span data-key=\"28\">And thanks to Codeup’s Trey Iapachino who is also an Air Force Veteran! </span>,\n",
       " <span aria-hidden=\"true\" class=\"et_pb_social_media_follow_network_name\">Follow</span>,\n",
       " <span aria-hidden=\"true\" class=\"et_pb_social_media_follow_network_name\">Follow</span>,\n",
       " <span aria-hidden=\"true\" class=\"et_pb_social_media_follow_network_name\">Follow</span>,\n",
       " <span aria-hidden=\"true\" class=\"et_pb_social_media_follow_network_name\">Follow</span>,\n",
       " <span aria-hidden=\"true\" class=\"et_pb_social_media_follow_network_name\">Follow</span>,\n",
       " <span class=\"et_pb_image_wrap\"><img alt=\"quack quack\" class=\"wp-image-15815\" height=\"256\" loading=\"lazy\" sizes=\"(max-width: 336px) 100vw, 336px\" src=\"https://199lj33nqk3p88xz03dvn481-wpengine.netdna-ssl.com/wp-content/uploads/2018/08/codey-1.png\" srcset=\"https://199lj33nqk3p88xz03dvn481-wpengine.netdna-ssl.com/wp-content/uploads/2018/08/codey-1.png 336w, https://199lj33nqk3p88xz03dvn481-wpengine.netdna-ssl.com/wp-content/uploads/2018/08/codey-1-300x229.png 300w\" title=\"Codey\" width=\"336\"/></span>,\n",
       " <span><div class=\"cli-bar-container cli-style-v2\"><div class=\"cli-bar-message\">We use cookies on our website to give you the most relevant experience by remembering your preferences and repeat visits. By clicking “Accept”, you consent to the use of ALL the cookies.<div class=\"wt-cli-ccpa-element\"> <a class=\"wt-cli-ccpa-opt-out\" style=\"color:#333333\">No worries, we do not sell your personal information.</a>.</div></div><div class=\"cli-bar-btn_container\"><a class=\"medium cli-plugin-button cli-plugin-main-button cli_settings_button\" role=\"button\" style=\"margin:0px 10px 0px 5px\">Cookie Settings</a><a class=\"medium cli-plugin-button cli-plugin-main-button cookie_action_close_header cli_action_button\" data-cli_action=\"accept\" id=\"cookie_action_close_header\" role=\"button\">Accept</a></div></div></span>,\n",
       " <span id=\"cookie_hdr_showagain\">Manage consent</span>,\n",
       " <span class=\"wt-cli-sr-only\">Close</span>,\n",
       " <span class=\"cli-necessary-caption\">Always Enabled</span>,\n",
       " <span class=\"wt-cli-sr-only\">Functional</span>,\n",
       " <span class=\"wt-cli-sr-only\">Performance</span>,\n",
       " <span class=\"wt-cli-sr-only\">Analytics</span>,\n",
       " <span class=\"wt-cli-sr-only\">Advertisement</span>,\n",
       " <span class=\"wt-cli-sr-only\">Others</span>,\n",
       " <span class=\"et_pb_scroll_top et-pb-icon\"></span>]"
      ]
     },
     "execution_count": 10,
     "metadata": {},
     "output_type": "execute_result"
    }
   ],
   "source": [
    "span = soup.select('span')\n",
    "span"
   ]
  },
  {
   "cell_type": "code",
   "execution_count": 11,
   "metadata": {},
   "outputs": [
    {
     "data": {
      "text/plain": [
       "{'title': 'From Bootcamp to Bootcamp | A Military Appreciation Panel',\n",
       " 'date': 'Apr 27, 2022',\n",
       " 'content': 'In honor of Military Appreciation Month, join us for a discussion with Codeup Alumni who are also Military Veterans! We will chat about their experiences attending a coding bootcamp, and how their military training set them up for success here at Codeup. Grab your virtual seat now so you can be sent the exclusive Livestream link on the 11th!'}"
      ]
     },
     "execution_count": 11,
     "metadata": {},
     "output_type": "execute_result"
    }
   ],
   "source": [
    "cu_output = {}\n",
    "\n",
    "cu_output['title'] = soup.select_one('h1.entry-title').text\n",
    "cu_output['date'] = soup.select_one('span.published').text\n",
    "cu_output['content'] = soup.select('span')[8].text.strip()\n",
    "\n",
    "cu_output"
   ]
  },
  {
   "cell_type": "code",
   "execution_count": 12,
   "metadata": {},
   "outputs": [],
   "source": [
    "codeup_url = 'https://codeup.com/featured/our-acquisition-of-the-rackspace-cloud-academy-one-year-later/'\n",
    "headers = {'user-agent': 'Innis Data Science Cohort'}\n",
    "response = requests.get(codeup_url, headers=headers)\n",
    "cu2_soup = BeautifulSoup(response.content, 'html.parser')"
   ]
  },
  {
   "cell_type": "code",
   "execution_count": 13,
   "metadata": {},
   "outputs": [
    {
     "data": {
      "text/plain": [
       "[<article class=\"et_pb_post post-18207 post type-post status-publish format-standard has-post-thumbnail hentry category-codeup-news category-featured category-it-training\" id=\"post-18207\">\n",
       " <div class=\"et_post_meta_wrapper\">\n",
       " <h1 class=\"entry-title\">Our Acquisition of the Rackspace Cloud Academy: One Year Later</h1>\n",
       " <p class=\"post-meta\"><span class=\"published\">Apr 14, 2022</span> | <a href=\"https://codeup.com/category/codeup-news/\" rel=\"category tag\">Codeup News</a>, <a href=\"https://codeup.com/category/featured/\" rel=\"category tag\">Featured</a>, <a href=\"https://codeup.com/category/it-training/\" rel=\"category tag\">IT Training</a></p><img alt=\"\" class=\"\" height=\"675\" sizes=\"(min-width: 0px) and (max-width: 480px) 480px, (min-width: 481px) 1080px, 100vw\" src=\"https://199lj33nqk3p88xz03dvn481-wpengine.netdna-ssl.com/wp-content/uploads/2022/04/Blogs-8.png\" srcset=\"https://199lj33nqk3p88xz03dvn481-wpengine.netdna-ssl.com/wp-content/uploads/2022/04/Blogs-8.png 1080w, https://199lj33nqk3p88xz03dvn481-wpengine.netdna-ssl.com/wp-content/uploads/2022/04/Blogs-8-480x279.png 480w\" width=\"1080\"/>\n",
       " </div>\n",
       " <div class=\"entry-content\">\n",
       " <p><span style=\"font-weight: 400;\">Just about a year ago on April 16th, 2021 we announced our acquisition of the Rackspace Cloud Academy! For a short time after the acquisition, it was rebranded as the Codeup Cloud Academy and is now a full-time part of the Codeup brand. You can read our blog when we announced this last year <a href=\"https://codeup.com/codeup-news/codeup-acquires-rackspace-cloud-academy/\">by clicking here. </a></span></p>\n",
       " <p><span style=\"font-weight: 400;\">To look back at the past year, we checked in with Marcus Benavidez and Mike Jaime who stayed with Codeup after previously working with the Rackspace Cloud Academy. We also checked in with Dimitri Antoniou who is our VP of Strategic Initiatives and helped with the merger of the two companies. We asked them questions about the current campus, and also what the future may look like at Codeup’s new “Castle” campus. </span></p>\n",
       " <h5>What makes Codeup’s new “Castle” campus so special?</h5>\n",
       " <p><b>Mike Jamie:</b><span style=\"font-weight: 400;\"> Its history! Rackspace and former Rackers were instrumental in jumpstarting the tech industry here in San Antonio. This includes Geekdom, where Codeup was established. The Castle is where Rackspace ultimately decided to call its international headquarters. </span></p>\n",
       " <p><b>Marcus Benavidez:</b><span style=\"font-weight: 400;\"> The </span><span style=\"font-weight: 400;\">campus is designed with the student experience in mind. This includes the large classrooms and facilities to match. It’s a piece of San Antonio history as it’s on the Rackspace Campus. </span></p>\n",
       " <p><b>Dimitri </b><b>Antoniou</b><b>:</b><span style=\"font-weight: 400;\"> The Castle has been a staple of tech in San Antonio for years. Train new tech employees in high-growth careers like Cloud Administration from the Castle campus is an exciting extension of the legacy of Rackspace’s impact on San Antonio.</span></p>\n",
       " <h5>What new traditions have you created at the Castle or would to start since the acquisition?</h5>\n",
       " <p><b>Mike:</b><span style=\"font-weight: 400;\"> A way to implement a version of “Rookie O” across staff and cohorts. </span></p>\n",
       " <p><b>Marcus:</b> <span style=\"font-weight: 400;\">I would love to see some kind of Alumni wall or recognition for Alumni past, present, and future. </span></p>\n",
       " <h5>Since it’s been 1 yr since the acquisition, where do you see our Castle campus in 3, 5, or even 10 years from now?</h5>\n",
       " <p><b>Marcus: </b><span style=\"font-weight: 400;\">It will be awesome once Web Development and Data Science programs are approved on this campus. I am looking forward to the cross-pollination of technologies, students, and staff. </span></p>\n",
       " <p><b>Dimitri:</b><span style=\"font-weight: 400;\"> Maybe we will have our own mall to ourselves one day</span></p>\n",
       " <h5>What advice would you give to those considering our new Cloud Administration program?</h5>\n",
       " <p><b>Mike</b><span style=\"font-weight: 400;\">: If you’re looking to get your foot in the door, I think it’s a no-brainer as you will be learning AWS administration, which is the most in-demand cloud computing platform. Also, the decision to focus on hands-on experience and know-how as opposed to certification exam memorization will better prepare students with practical knowledge.</span></p>\n",
       " <p><b>Marcus:</b><span style=\"font-weight: 400;\"> Do it. The time to positively impact your life and to create change is now.</span></p>\n",
       " <p><b>Dimitri:</b><span style=\"font-weight: 400;\"> Skills in networking, Linux, and AWS can put you on a path to so many different careers, including cybersecurity and cloud architecture. These are some of the highest growth and most exciting pathways in technology. With experienced experts like Jeremy Price and Kris Connolly to teach you, there’s no better way to open doors in IT.</span></p>\n",
       " <h5>What programs could you see being delivered at the Castle campus in the future?</h5>\n",
       " <p><b>Mike</b><span style=\"font-weight: 400;\">: Cybersecurity again! Also Web Development and Data Science as well. </span></p>\n",
       " <p><b>Marcus</b><span style=\"font-weight: 400;\">: We should continue to build and offer classes that align with the market [i.e. what skills are in high demand]. </span></p>\n",
       " <p><b>Dimitri:</b><span style=\"font-weight: 400;\"> AWS is one of 3 major cloud providers, along with Microsoft Azure and Google Cloud. I think it won’t be long until we’re training a variety of cloud careers across all major players.</span></p>\n",
       " <h5>The Castle has ping pong and foosball. What other indoor competitive game would you add?</h5>\n",
       " <p><b>Mike:</b><span style=\"font-weight: 400;\"> Air Hockey and Shuffle Board</span></p>\n",
       " <p><b>Marcus:</b><span style=\"font-weight: 400;\"> Vintage Arcade games would be awesome! </span></p>\n",
       " <p><b>Dimitri:</b><span style=\"font-weight: 400;\"> There’s so much open space – I’d love to run a nerf gun or dodgeball tournament!</span></p>\n",
       " <h5>Join our new Cloud Administration Program</h5>\n",
       " <p><span style=\"font-weight: 400;\">Tinkerers, computer enthusiasts, mechanics, or really anyone who likes to fix and build things will love our brand new Cloud Administration program. The foundation of skills you will learn could land you a job in Cloud Architecture, Cybersecurity, DevOps, &amp; Solutions Engineering. You will learn new skills in just 15 weeks, and won’t break the bank like a traditional 4-year college degree. Our next class starts on 5/31. </span></p>\n",
       " <p><em><span style=\"font-weight: 400;\">Our Castle campus includes the following perks: </span></em></p>\n",
       " <ul>\n",
       " <li aria-level=\"1\" style=\"font-weight: 400;\"><span style=\"font-weight: 400;\">Hands-on labs to get real-time hands-on experience</span></li>\n",
       " <li aria-level=\"1\" style=\"font-weight: 400;\"><span style=\"font-weight: 400;\">Live classroom instruction</span></li>\n",
       " <li aria-level=\"1\" style=\"font-weight: 400;\"><span style=\"font-weight: 400;\">Ping pong and foosball tables </span></li>\n",
       " <li aria-level=\"1\" style=\"font-weight: 400;\"><span style=\"font-weight: 400;\">Lots of comfortable seating options to break out and study or just relax </span></li>\n",
       " <li aria-level=\"1\" style=\"font-weight: 400;\"><span style=\"font-weight: 400;\">A large cafeteria area </span></li>\n",
       " <li aria-level=\"1\" style=\"font-weight: 400;\"><span style=\"font-weight: 400;\">Free Coffee, Tea, Water, and Soda </span></li>\n",
       " <li aria-level=\"1\" style=\"font-weight: 400;\"><span style=\"font-weight: 400;\">We also have a vending machine for additional drinks and snacks </span></li>\n",
       " <li aria-level=\"1\" style=\"font-weight: 400;\"><span style=\"font-weight: 400;\">Free covered parking </span></li>\n",
       " <li aria-level=\"1\" style=\"font-weight: 400;\"><span style=\"font-weight: 400;\">Located at Rackspace’s headquarters </span></li>\n",
       " </ul>\n",
       " <p><span style=\"font-weight: 400;\">If you are looking to change your career, there is no better time than now! Classes for this new program will fill up fast so don’t delay!</span></p>\n",
       " <p><img alt=\"\" class=\"alignnone size-medium wp-image-18217\" height=\"157\" loading=\"lazy\" src=\"https://199lj33nqk3p88xz03dvn481-wpengine.netdna-ssl.com/wp-content/uploads/2022/04/3-300x157.png\" width=\"300\"/> <img alt=\"\" class=\"alignnone size-medium wp-image-18218\" height=\"157\" loading=\"lazy\" src=\"https://199lj33nqk3p88xz03dvn481-wpengine.netdna-ssl.com/wp-content/uploads/2022/04/1-300x157.png\" width=\"300\"/> <img alt=\"\" class=\"alignnone size-medium wp-image-18219\" height=\"157\" loading=\"lazy\" src=\"https://199lj33nqk3p88xz03dvn481-wpengine.netdna-ssl.com/wp-content/uploads/2022/04/2-300x157.png\" width=\"300\"/></p>\n",
       " <p> </p>\n",
       " </div>\n",
       " <div class=\"et_post_meta_wrapper\">\n",
       " </div>\n",
       " </article>]"
      ]
     },
     "execution_count": 13,
     "metadata": {},
     "output_type": "execute_result"
    }
   ],
   "source": [
    "cu2_soup.select('article.post')"
   ]
  },
  {
   "cell_type": "code",
   "execution_count": 14,
   "metadata": {},
   "outputs": [
    {
     "data": {
      "text/plain": [
       "{'title': 'Our Acquisition of the Rackspace Cloud Academy: One Year Later',\n",
       " 'date': 'Apr 14, 2022',\n",
       " 'content': '\\nJust about a year ago on April 16th, 2021 we announced our acquisition of the Rackspace Cloud Academy! For a short time after the acquisition, it was rebranded as the Codeup Cloud Academy and is now a full-time part of the Codeup brand. You can read our blog when we announced this last year by clicking here.\\xa0\\nTo look back at the past year, we checked in with Marcus Benavidez and Mike Jaime who stayed with Codeup after previously working with the Rackspace Cloud Academy. We also checked in with Dimitri Antoniou who is our VP of Strategic Initiatives and helped with the merger of the two companies. We asked them questions about the current campus, and also what the future may look like at Codeup’s new “Castle” campus.\\xa0\\nWhat makes Codeup’s new “Castle” campus so special?\\nMike Jamie: Its history! Rackspace and former Rackers were instrumental in jumpstarting the tech industry here in San Antonio. This includes Geekdom, where Codeup was established. The Castle is where Rackspace ultimately decided to call its international headquarters.\\xa0\\nMarcus Benavidez: The campus is designed with the student experience in mind. This includes the large classrooms and facilities to match. It’s a piece of San Antonio history as it’s on the Rackspace Campus.\\xa0\\nDimitri Antoniou: The Castle has been a staple of tech in San Antonio for years. Train new tech employees in high-growth careers like Cloud Administration from the Castle campus is an exciting extension of the legacy of Rackspace’s impact on San Antonio.\\nWhat new traditions have you created at the Castle or would to start since the acquisition?\\nMike: A way to implement a version of “Rookie O” across staff and cohorts.\\xa0\\nMarcus: I would love to see some kind of Alumni wall or recognition for Alumni past, present, and future.\\xa0\\nSince it’s been 1 yr since the acquisition, where do you see our Castle campus in 3, 5, or even 10 years from now?\\nMarcus: It will be awesome once Web Development and Data Science programs are approved on this campus. I am looking forward to the cross-pollination of technologies, students, and staff.\\xa0\\nDimitri: Maybe we will have our own mall to ourselves one day\\nWhat advice would you give to those considering our new Cloud Administration program?\\nMike: If you’re looking to get your foot in the door, I think it’s a no-brainer as you will be learning AWS administration, which is the most in-demand cloud computing platform. Also, the decision to focus on hands-on experience and know-how as opposed to certification exam memorization will better prepare students with practical knowledge.\\nMarcus: Do it. The time to positively impact your life and to create change is now.\\nDimitri: Skills in networking, Linux, and AWS can put you on a path to so many different careers, including cybersecurity and cloud architecture. These are some of the highest growth and most exciting pathways in technology. With experienced experts like Jeremy Price and Kris Connolly to teach you, there’s no better way to open doors in IT.\\nWhat programs could you see being delivered at the Castle campus in the future?\\nMike: Cybersecurity again! Also Web Development and Data Science as well.\\xa0\\nMarcus: We should continue to build and offer classes that align with the market [i.e. what skills are in high demand].\\xa0\\nDimitri: AWS is one of 3 major cloud providers, along with Microsoft Azure and Google Cloud. I think it won’t be long until we’re training a variety of cloud careers across all major players.\\nThe Castle has ping pong and foosball. What other indoor competitive game would you add?\\nMike: Air Hockey and Shuffle Board\\nMarcus: Vintage Arcade games would be awesome!\\xa0\\nDimitri: There’s so much open space – I’d love to run a nerf gun or dodgeball tournament!\\nJoin our new Cloud Administration Program\\nTinkerers, computer enthusiasts, mechanics, or really anyone who likes to fix and build things will love our brand new Cloud Administration program. The foundation of skills you will learn could land you a job in Cloud Architecture, Cybersecurity, DevOps, & Solutions Engineering. You will learn new skills in just 15 weeks, and won’t break the bank like a traditional 4-year college degree. Our next class starts on 5/31.\\xa0\\nOur Castle campus includes the following perks:\\xa0\\n\\nHands-on labs to get real-time hands-on experience\\nLive classroom instruction\\nPing pong and foosball tables\\xa0\\nLots of comfortable seating options to break out and study or just relax\\xa0\\nA large cafeteria area\\xa0\\nFree Coffee, Tea, Water, and Soda\\xa0\\nWe also have a vending machine for additional drinks and snacks\\xa0\\nFree covered parking\\xa0\\nLocated at Rackspace’s headquarters\\xa0\\n\\nIf you are looking to change your career, there is no better time than now! Classes for this new program will fill up fast so don’t delay!\\n  \\n\\xa0\\n'}"
      ]
     },
     "execution_count": 14,
     "metadata": {},
     "output_type": "execute_result"
    }
   ],
   "source": [
    "cu2_output = {}\n",
    "\n",
    "cu2_output['title'] = cu2_soup.select_one('h1.entry-title').text\n",
    "cu2_output['date'] = cu2_soup.select_one('span.published').text\n",
    "cu2_output['content'] = cu2_soup.select_one('div.entry-content').text\n",
    "\n",
    "cu2_output"
   ]
  },
  {
   "cell_type": "code",
   "execution_count": 15,
   "metadata": {},
   "outputs": [],
   "source": [
    "codeup_url = 'https://codeup.com/workshops/virtual/learn-to-code-html-css-on-4-30/'\n",
    "headers = {'user-agent': 'Innis Data Science Cohort'}\n",
    "response = requests.get(codeup_url, headers=headers)\n",
    "cu3_soup = BeautifulSoup(response.content, 'html.parser')"
   ]
  },
  {
   "cell_type": "code",
   "execution_count": 16,
   "metadata": {},
   "outputs": [
    {
     "data": {
      "text/plain": [
       "[<article class=\"et_pb_post post-18184 post type-post status-publish format-standard has-post-thumbnail hentry category-virtual category-workshops\" id=\"post-18184\">\n",
       " <div class=\"et_post_meta_wrapper\">\n",
       " <h1 class=\"entry-title\">Learn to Code: HTML &amp; CSS on 4/30</h1>\n",
       " <p class=\"post-meta\"><span class=\"published\">Apr 1, 2022</span> | <a href=\"https://codeup.com/category/workshops/virtual/\" rel=\"category tag\">Virtual</a>, <a href=\"https://codeup.com/category/workshops/\" rel=\"category tag\">Workshops</a></p><img alt=\"\" class=\"\" height=\"675\" sizes=\"(min-width: 0px) and (max-width: 480px) 480px, (min-width: 481px) 1080px, 100vw\" src=\"https://199lj33nqk3p88xz03dvn481-wpengine.netdna-ssl.com/wp-content/uploads/2022/04/Blogs-4.png\" srcset=\"https://199lj33nqk3p88xz03dvn481-wpengine.netdna-ssl.com/wp-content/uploads/2022/04/Blogs-4.png 1080w, https://199lj33nqk3p88xz03dvn481-wpengine.netdna-ssl.com/wp-content/uploads/2022/04/Blogs-4-480x279.png 480w\" width=\"1080\"/>\n",
       " </div>\n",
       " <div class=\"entry-content\">\n",
       " <div class=\"et-l et-l--post\">\n",
       " <div class=\"et_builder_inner_content et_pb_gutters3\">\n",
       " <div class=\"et_pb_section et_pb_section_0 et_section_regular\">\n",
       " <div class=\"et_pb_row et_pb_row_0\">\n",
       " <div class=\"et_pb_column et_pb_column_4_4 et_pb_column_0 et_pb_css_mix_blend_mode_passthrough et-last-child\">\n",
       " <div class=\"et_pb_module et_pb_text et_pb_text_0 et_pb_text_align_left et_pb_bg_layout_light\">\n",
       " <div class=\"et_pb_text_inner\"><p data-key=\"1\"><span data-key=\"2\">HTML &amp; CSS are the design building blocks of all the websites you interact with on a daily basis. Attend this workshop to understand how it works and get some hands-on experience with coding! No prior experience is necessary!</span></p>\n",
       " <p data-key=\"3\"><span data-key=\"4\"><strong data-slate-leaf=\"true\">Materials to bring:</strong></span></p>\n",
       " <p data-key=\"5\"><span data-key=\"6\">A laptop – any kind! It just must be able to connect to WiFi</span></p>\n",
       " <p data-key=\"7\"><span data-key=\"8\">Your smiling face! </span></p>\n",
       " <p data-key=\"9\" data-slate-fragment=\"JTdCJTIyb2JqZWN0JTIyJTNBJTIyZG9jdW1lbnQlMjIlMkMlMjJkYXRhJTIyJTNBJTdCJTdEJTJDJTIybm9kZXMlMjIlM0ElNUIlN0IlMjJvYmplY3QlMjIlM0ElMjJibG9jayUyMiUyQyUyMnR5cGUlMjIlM0ElMjJwYXJhZ3JhcGglMjIlMkMlMjJkYXRhJTIyJTNBJTdCJTIyY2xhc3NOYW1lJTIyJTNBbnVsbCU3RCUyQyUyMm5vZGVzJTIyJTNBJTVCJTdCJTIyb2JqZWN0JTIyJTNBJTIydGV4dCUyMiUyQyUyMmxlYXZlcyUyMiUzQSU1QiU3QiUyMm9iamVjdCUyMiUzQSUyMmxlYWYlMjIlMkMlMjJ0ZXh0JTIyJTNBJTIySFRNTCUyMCUyNiUyMENTUyUyMGFyZSUyMHRoZSUyMGRlc2lnbiUyMGJ1aWxkaW5nJTIwYmxvY2tzJTIwb2YlMjBhbGwlMjB0aGUlMjB3ZWJzaXRlcyUyMHlvdSUyMGludGVyYWN0JTIwd2l0aCUyMG9uJTIwYSUyMGRhaWx5JTIwYmFzaXMuJTIwQXR0ZW5kJTIwdGhpcyUyMHdvcmtzaG9wJTIwdG8lMjB1bmRlcnN0YW5kJTIwaG93JTIwaXQlMjB3b3JrcyUyMGFuZCUyMGdldCUyMHNvbWUlMjBoYW5kcy1vbiUyMGV4cGVyaWVuY2UlMjB3aXRoJTIwY29kaW5nISUyME5vJTIwcHJpb3IlMjBleHBlcmllbmNlJTIwaXMlMjBuZWNlc3NhcnkhJTIyJTJDJTIybWFya3MlMjIlM0ElNUIlNUQlN0QlNUQlN0QlNUQlN0QlMkMlN0IlMjJvYmplY3QlMjIlM0ElMjJibG9jayUyMiUyQyUyMnR5cGUlMjIlM0ElMjJwYXJhZ3JhcGglMjIlMkMlMjJkYXRhJTIyJTNBJTdCJTIyY2xhc3NOYW1lJTIyJTNBbnVsbCU3RCUyQyUyMm5vZGVzJTIyJTNBJTVCJTdCJTIyb2JqZWN0JTIyJTNBJTIydGV4dCUyMiUyQyUyMmxlYXZlcyUyMiUzQSU1QiU3QiUyMm9iamVjdCUyMiUzQSUyMmxlYWYlMjIlMkMlMjJ0ZXh0JTIyJTNBJTIyTWF0ZXJpYWxzJTIwdG8lMjBicmluZyUzQSUyMiUyQyUyMm1hcmtzJTIyJTNBJTVCJTdCJTIyb2JqZWN0JTIyJTNBJTIybWFyayUyMiUyQyUyMnR5cGUlMjIlM0ElMjJib2xkJTIyJTJDJTIyZGF0YSUyMiUzQSU3QiU3RCU3RCU1RCU3RCU1RCU3RCU1RCU3RCUyQyU3QiUyMm9iamVjdCUyMiUzQSUyMmJsb2NrJTIyJTJDJTIydHlwZSUyMiUzQSUyMnBhcmFncmFwaCUyMiUyQyUyMmRhdGElMjIlM0ElN0IlMjJjbGFzc05hbWUlMjIlM0FudWxsJTdEJTJDJTIybm9kZXMlMjIlM0ElNUIlN0IlMjJvYmplY3QlMjIlM0ElMjJ0ZXh0JTIyJTJDJTIybGVhdmVzJTIyJTNBJTVCJTdCJTIyb2JqZWN0JTIyJTNBJTIybGVhZiUyMiUyQyUyMnRleHQlMjIlM0ElMjJBJTIwbGFwdG9wJTIwLSUyMGFueSUyMGtpbmQhJTIwSXQlMjBqdXN0JTIwbXVzdCUyMGJlJTIwYWJsZSUyMHRvJTIwY29ubmVjdCUyMHRvJTIwV2lGaSUyMiUyQyUyMm1hcmtzJTIyJTNBJTVCJTVEJTdEJTVEJTdEJTVEJTdEJTJDJTdCJTIyb2JqZWN0JTIyJTNBJTIyYmxvY2slMjIlMkMlMjJ0eXBlJTIyJTNBJTIycGFyYWdyYXBoJTIyJTJDJTIyZGF0YSUyMiUzQSU3QiUyMmNsYXNzTmFtZSUyMiUzQW51bGwlN0QlMkMlMjJub2RlcyUyMiUzQSU1QiU3QiUyMm9iamVjdCUyMiUzQSUyMnRleHQlMjIlMkMlMjJsZWF2ZXMlMjIlM0ElNUIlN0IlMjJvYmplY3QlMjIlM0ElMjJsZWFmJTIyJTJDJTIydGV4dCUyMiUzQSUyMllvdXIlMjBzbWlsaW5nJTIwZmFjZSElMjAlMjIlMkMlMjJtYXJrcyUyMiUzQSU1QiU1RCU3RCU1RCU3RCU1RCU3RCUyQyU3QiUyMm9iamVjdCUyMiUzQSUyMmJsb2NrJTIyJTJDJTIydHlwZSUyMiUzQSUyMnBhcmFncmFwaCUyMiUyQyUyMmRhdGElMjIlM0ElN0IlMjJjbGFzc05hbWUlMjIlM0FudWxsJTdEJTJDJTIybm9kZXMlMjIlM0ElNUIlN0IlMjJvYmplY3QlMjIlM0ElMjJ0ZXh0JTIyJTJDJTIybGVhdmVzJTIyJTNBJTVCJTdCJTIyb2JqZWN0JTIyJTNBJTIybGVhZiUyMiUyQyUyMnRleHQlMjIlM0ElMjJOb3RlJTNBJTIwTXVzdCUyMGJlJTIwMTclMkIlMjB5ZWFycyUyMG9sZCUyMHRvJTIwcGFydGljaXBhdGUlMjIlMkMlMjJtYXJrcyUyMiUzQSU1QiU1RCU3RCU1RCU3RCU1RCU3RCU1RCU3RA==\"><span data-key=\"10\">Note: Must be 17+ years old to participate and live in the United States</span></p></div>\n",
       " </div>\n",
       " </div>\n",
       " </div>\n",
       " </div><div class=\"et_pb_section et_pb_section_1 et_section_regular\">\n",
       " <div class=\"et_pb_row et_pb_row_1\">\n",
       " <div class=\"et_pb_column et_pb_column_4_4 et_pb_column_1 et_pb_css_mix_blend_mode_passthrough et-last-child\">\n",
       " <div class=\"et_pb_module et_pb_code et_pb_code_0\">\n",
       " <div class=\"et_pb_code_inner\"><div id=\"eventbrite-widget-container-310176114107\"></div>\n",
       " <script src=\"https://www.eventbrite.com/static/widgets/eb_widgets.js\"></script>\n",
       " <script type=\"text/javascript\">\n",
       "     var exampleCallback = function() {\n",
       "         console.log('Order complete!');\n",
       "     };\n",
       " \n",
       "     window.EBWidgets.createWidget({\n",
       "         // Required\n",
       "         widgetType: 'checkout',\n",
       "         eventId: '310176114107',\n",
       "         iframeContainerId: 'eventbrite-widget-container-310176114107',\n",
       " \n",
       "         // Optional\n",
       "         iframeContainerHeight: 425,  // Widget height in pixels. Defaults to a minimum of 425px if not provided\n",
       "         onOrderComplete: exampleCallback  // Method called when an order has successfully completed\n",
       "     });\n",
       " </script></div>\n",
       " </div>\n",
       " </div>\n",
       " </div>\n",
       " </div> </div>\n",
       " </div>\n",
       " </div>\n",
       " <div class=\"et_post_meta_wrapper\">\n",
       " </div>\n",
       " </article>]"
      ]
     },
     "execution_count": 16,
     "metadata": {},
     "output_type": "execute_result"
    }
   ],
   "source": [
    "cu3_soup.select('article.post')"
   ]
  },
  {
   "cell_type": "code",
   "execution_count": 17,
   "metadata": {},
   "outputs": [
    {
     "data": {
      "text/plain": [
       "{'title': 'Learn to Code: HTML & CSS on 4/30',\n",
       " 'date': 'Apr 1, 2022',\n",
       " 'content': 'HTML & CSS are the design building blocks of all the websites you interact with on a daily basis. Attend this workshop to understand how it works and get some hands-on experience with coding! No prior experience is necessary!\\nMaterials to bring:\\nA laptop – any kind! It just must be able to connect to WiFi\\nYour smiling face! \\nNote: Must be 17+ years old to participate and live in the United States'}"
      ]
     },
     "execution_count": 17,
     "metadata": {},
     "output_type": "execute_result"
    }
   ],
   "source": [
    "cu3_output = {}\n",
    "\n",
    "cu3_output['title'] = cu3_soup.select_one('h1.entry-title').text\n",
    "cu3_output['date'] = cu3_soup.select_one('.published').text\n",
    "cu3_output['content'] = cu3_soup.select_one('.entry-content').text.strip()\n",
    "\n",
    "cu3_output"
   ]
  },
  {
   "cell_type": "code",
   "execution_count": 18,
   "metadata": {},
   "outputs": [],
   "source": [
    "codeup_url = 'https://codeup.com/workshops/virtual/learn-to-code-python-workshop-on-4-16/'\n",
    "headers = {'user-agent': 'Innis Data Science Cohort'}\n",
    "response = requests.get(codeup_url, headers=headers)\n",
    "cu4_soup = BeautifulSoup(response.content, 'html.parser')"
   ]
  },
  {
   "cell_type": "code",
   "execution_count": 19,
   "metadata": {},
   "outputs": [
    {
     "data": {
      "text/plain": [
       "{'title': 'Learn to Code: Python Workshop on 4/23',\n",
       " 'date': 'Mar 31, 2022',\n",
       " 'content': 'According to LinkedIn, the “#1 Most Promising Job” is data science! But we here at Codeup understand changing careers can be a daunting idea. That’s where our free Learn to Code workshops come in!\\xa0\\nOn Saturday 4/23 we will be teaching a free Learn to Code workshop on the programming language Python which is one of the major building blocks of Data Science!\\nWhat is data science? What is Python? \\nIf you’re curious, join for free to learn the basics of Python from our very own instructors and get an introduction to the field of Data Science. This is all done from the comfort of home.\\nSave your seat quickly – our Python workshops are always in high demand! \\nWhat you need:\\n1. Laptop (does not matter what kind). You need to be able to access WiFi and run an internet browser.\\n2. To RSVP!\\nYou can register for the event below!'}"
      ]
     },
     "execution_count": 19,
     "metadata": {},
     "output_type": "execute_result"
    }
   ],
   "source": [
    "cu4_output = {}\n",
    "\n",
    "cu4_output['title'] = cu4_soup.select_one('h1.entry-title').text\n",
    "cu4_output['date'] = cu4_soup.select_one('.published').text\n",
    "cu4_output['content'] = cu4_soup.select_one('.entry-content').text.strip()\n",
    "\n",
    "cu4_output"
   ]
  },
  {
   "cell_type": "code",
   "execution_count": 20,
   "metadata": {},
   "outputs": [],
   "source": [
    "codeup_url = 'https://codeup.com/codeup-news/coming-soon-cloud-administration/'\n",
    "headers = {'user-agent': 'Innis Data Science Cohort'}\n",
    "response = requests.get(codeup_url, headers=headers)\n",
    "cu5_soup = BeautifulSoup(response.content, 'html.parser')"
   ]
  },
  {
   "cell_type": "code",
   "execution_count": 21,
   "metadata": {},
   "outputs": [
    {
     "data": {
      "text/plain": [
       "{'title': 'Coming Soon: Cloud Administration',\n",
       " 'date': 'Mar 17, 2022',\n",
       " 'content': 'We’re launching a new program out of San Antonio!\\nWith the acquisition of Rackspace Open Cloud Academy last year, Codeup expanded its tech training into IT, cybersecurity, and cloud. Now, we are excited to announce our newest coming-soon program: Cloud Administration! Learn to build and manage cloud-based solutions.\\nWhat is the cloud? \\nIn short, the cloud lets you utilize the power of other people’s computers and infrastructure. Instead of having to run everything on your own computer (and dealing with pesky problems of storage, security, and reliability), you can instantly tap into the cloud to utilize the power of companies that specialize in these areas, like AWS, Google, and Microsoft.\\nWhy the cloud? \\nThe future is in the cloud! As the new way of doing business, all companies need to build or interact with cloud products. And these aren’t just high-tech solutions – they’re the core of everyday products like cloud-based gaming from Xbox, collaborative work tools from Google Drive, and even music streaming services from Spotify.\\nWhat will we learn? \\nThe Cloud Administration program will be a 15-week career accelerator that marries the best of our Systems Engineering and Cyber Cloud programs. With hands-on training in networking, Linux, Windows, security, and AWS Cloud, we’ll prepare you for entry-level jobs like Cloud Specialist, Cloud Administrator, and Cloud Engineer. Learn to build infrastructure that enables software and data science products, manage cloud deployments, and optimize for cloud performance.\\n\\nWho is this program for? \\nIf coding or statistics aren’t your things, but you’re interested in a career in tech, this is the program for you. Tinkerers, computer enthusiasts, mechanics, gamers – anyone who likes to fix and build things will love this program. With this foundation, students will be launched into IT towards careers in Cloud Architecture, Cybersecurity, DevOps, and Solutions Engineering.\\nWhen will the program launch? \\nWe anticipate starting our inaugural class in late May. With only 20 seats available in the inaugural class, space is limited. Sign up now to be the first to hear about the launch of our Cloud Administration program!\\n\\n\\nBe the first know when the Cloud Administration program launches by signing up on this page here.'}"
      ]
     },
     "execution_count": 21,
     "metadata": {},
     "output_type": "execute_result"
    }
   ],
   "source": [
    "cu5_output = {}\n",
    "\n",
    "cu5_output['title'] = cu5_soup.select_one('h1.entry-title').text\n",
    "cu5_output['date'] = cu5_soup.select_one('.published').text\n",
    "cu5_output['content'] = cu5_soup.select_one('.entry-content').text.strip()\n",
    "\n",
    "cu5_output"
   ]
  },
  {
   "cell_type": "code",
   "execution_count": 22,
   "metadata": {},
   "outputs": [],
   "source": [
    "def parse_codeup_blog(soup):\n",
    "    '''\n",
    "    Takes in a BeautifulSoup object made from a page on Codeup's blog,\n",
    "    returns a dictionary containing the blog's title, date published, and its content.\n",
    "    '''\n",
    "    output = {}\n",
    "\n",
    "    output['title'] = soup.select_one('h1.entry-title').text\n",
    "    output['date'] = soup.select_one('.published').text\n",
    "    output['content'] = soup.select_one('.entry-content').text.strip()\n",
    "\n",
    "    return output\n",
    "\n",
    "\n"
   ]
  },
  {
   "cell_type": "code",
   "execution_count": 23,
   "metadata": {},
   "outputs": [
    {
     "data": {
      "text/plain": [
       "{'title': 'Learn to Code: Python Workshop on 4/23',\n",
       " 'date': 'Mar 31, 2022',\n",
       " 'content': 'According to LinkedIn, the “#1 Most Promising Job” is data science! But we here at Codeup understand changing careers can be a daunting idea. That’s where our free Learn to Code workshops come in!\\xa0\\nOn Saturday 4/23 we will be teaching a free Learn to Code workshop on the programming language Python which is one of the major building blocks of Data Science!\\nWhat is data science? What is Python? \\nIf you’re curious, join for free to learn the basics of Python from our very own instructors and get an introduction to the field of Data Science. This is all done from the comfort of home.\\nSave your seat quickly – our Python workshops are always in high demand! \\nWhat you need:\\n1. Laptop (does not matter what kind). You need to be able to access WiFi and run an internet browser.\\n2. To RSVP!\\nYou can register for the event below!'}"
      ]
     },
     "execution_count": 23,
     "metadata": {},
     "output_type": "execute_result"
    }
   ],
   "source": [
    "codeup_url = 'https://codeup.com/workshops/virtual/learn-to-code-python-workshop-on-4-16/'\n",
    "headers = {'user-agent': 'Innis Data Science Cohort'}\n",
    "response = requests.get(codeup_url, headers=headers)\n",
    "cu4_soup = BeautifulSoup(response.content, 'html.parser')\n",
    "\n",
    "output = parse_codeup_blog(cu4_soup)\n",
    "output"
   ]
  },
  {
   "cell_type": "code",
   "execution_count": 24,
   "metadata": {},
   "outputs": [
    {
     "name": "stdout",
     "output_type": "stream",
     "text": [
      "<a class=\"more-link\" href=\"https://codeup.com/workshops/project-quest-info-session-may-24th/\">read more</a>\n"
     ]
    }
   ],
   "source": [
    "codeup_url = 'https://codeup.com/blog/'\n",
    "headers = {'user-agent': 'Innis Data Science Cohort'}\n",
    "response = requests.get(codeup_url, headers=headers)\n",
    "soup = BeautifulSoup(response.text)\n",
    "\n",
    "print(soup.select_one('a.more-link'))"
   ]
  },
  {
   "cell_type": "code",
   "execution_count": 25,
   "metadata": {},
   "outputs": [],
   "source": [
    "def get_cublog_urls():\n",
    "    '''\n",
    "    Returns urls from the codeup.com blog\n",
    "    '''\n",
    "    codeup_url = 'https://codeup.com/blog/'\n",
    "    headers = {'user-agent': 'Innis Data Science Cohort'}\n",
    "    response = requests.get(codeup_url, headers=headers)\n",
    "    soup = BeautifulSoup(response.text)\n",
    "    urls = [a.attrs['href'] for a in soup.select('a.more-link')]\n",
    "    return urls "
   ]
  },
  {
   "cell_type": "code",
   "execution_count": 26,
   "metadata": {},
   "outputs": [],
   "source": [
    "def get_blog_article_urls():\n",
    "    headers = {'user-agent': 'Innis Codeup Data Science'}\n",
    "    response = requests.get('https://codeup.com/blog/', headers=headers)\n",
    "    soup = BeautifulSoup(response.text)\n",
    "    urls = [a.attrs['href'] for a in soup.select('a.more-link')]\n",
    "    return urls"
   ]
  },
  {
   "cell_type": "code",
   "execution_count": 27,
   "metadata": {},
   "outputs": [
    {
     "data": {
      "text/plain": [
       "['https://codeup.com/workshops/project-quest-info-session-may-24th/',\n",
       " 'https://codeup.com/workshops/from-bootcamp-to-bootcamp-a-military-appreciation-panel/',\n",
       " 'https://codeup.com/featured/our-acquisition-of-the-rackspace-cloud-academy-one-year-later/',\n",
       " 'https://codeup.com/workshops/virtual/learn-to-code-html-css-on-4-30/',\n",
       " 'https://codeup.com/workshops/virtual/learn-to-code-python-workshop-on-4-16/',\n",
       " 'https://codeup.com/codeup-news/coming-soon-cloud-administration/',\n",
       " 'https://codeup.com/featured/5-books-every-woman-in-tech-should-read/',\n",
       " 'https://codeup.com/codeup-news/codeup-start-dates-for-march-2022/',\n",
       " 'https://codeup.com/codeup-news/vet-tec-funding-dallas/',\n",
       " 'https://codeup.com/codeup-news/dallas-campus-re-opens-with-new-grant-partner/',\n",
       " 'https://codeup.com/codeup-news/codeups-placement-team-continues-setting-records/',\n",
       " 'https://codeup.com/it-training/it-certifications-101/',\n",
       " 'https://codeup.com/cybersecurity/a-rise-in-cyber-attacks-means-opportunities-for-veterans-in-san-antonio/',\n",
       " 'https://codeup.com/codeup-news/use-your-gi-bill-benefits-to-land-a-job-in-tech/',\n",
       " 'https://codeup.com/tips-for-prospective-students/which-program-is-right-for-me-cyber-security-or-systems-engineering/']"
      ]
     },
     "execution_count": 27,
     "metadata": {},
     "output_type": "execute_result"
    }
   ],
   "source": [
    "urls = get_blog_article_urls()\n",
    "urls"
   ]
  },
  {
   "cell_type": "code",
   "execution_count": 28,
   "metadata": {},
   "outputs": [],
   "source": [
    "import os\n",
    "\n",
    "def get_cublog_articles(use_cache= True):\n",
    "    filename = 'codeup_blog_articles.json'\n",
    "    if os.path.exists(filename) and use_cache:\n",
    "        return pd.read_json(filename)\n",
    "\n",
    "    urls = get_blog_article_urls()\n",
    "    articles = []\n",
    "\n",
    "    for url in urls:\n",
    "        print(f'Fetching {url}')\n",
    "        headers = {'user-agent': 'Innis Data Science Cohort'}\n",
    "        response = requests.get(url, headers=headers)\n",
    "        soup = BeautifulSoup(response.text)\n",
    "        articles.append(parse_codeup_blog(soup))\n",
    "    \n",
    "    df = pd.DataFrame(articles)\n",
    "    df.to_json(filename, orient= 'records')\n",
    "\n",
    "    return df\n",
    "    \n"
   ]
  },
  {
   "cell_type": "code",
   "execution_count": 29,
   "metadata": {},
   "outputs": [
    {
     "name": "stdout",
     "output_type": "stream",
     "text": [
      "Fetching https://codeup.com/workshops/project-quest-info-session-may-24th/\n",
      "Fetching https://codeup.com/workshops/from-bootcamp-to-bootcamp-a-military-appreciation-panel/\n",
      "Fetching https://codeup.com/featured/our-acquisition-of-the-rackspace-cloud-academy-one-year-later/\n",
      "Fetching https://codeup.com/workshops/virtual/learn-to-code-html-css-on-4-30/\n",
      "Fetching https://codeup.com/workshops/virtual/learn-to-code-python-workshop-on-4-16/\n",
      "Fetching https://codeup.com/codeup-news/coming-soon-cloud-administration/\n",
      "Fetching https://codeup.com/featured/5-books-every-woman-in-tech-should-read/\n",
      "Fetching https://codeup.com/codeup-news/codeup-start-dates-for-march-2022/\n",
      "Fetching https://codeup.com/codeup-news/vet-tec-funding-dallas/\n",
      "Fetching https://codeup.com/codeup-news/dallas-campus-re-opens-with-new-grant-partner/\n",
      "Fetching https://codeup.com/codeup-news/codeups-placement-team-continues-setting-records/\n",
      "Fetching https://codeup.com/it-training/it-certifications-101/\n",
      "Fetching https://codeup.com/cybersecurity/a-rise-in-cyber-attacks-means-opportunities-for-veterans-in-san-antonio/\n",
      "Fetching https://codeup.com/codeup-news/use-your-gi-bill-benefits-to-land-a-job-in-tech/\n",
      "Fetching https://codeup.com/tips-for-prospective-students/which-program-is-right-for-me-cyber-security-or-systems-engineering/\n"
     ]
    },
    {
     "data": {
      "text/html": [
       "<div>\n",
       "<style scoped>\n",
       "    .dataframe tbody tr th:only-of-type {\n",
       "        vertical-align: middle;\n",
       "    }\n",
       "\n",
       "    .dataframe tbody tr th {\n",
       "        vertical-align: top;\n",
       "    }\n",
       "\n",
       "    .dataframe thead th {\n",
       "        text-align: right;\n",
       "    }\n",
       "</style>\n",
       "<table border=\"1\" class=\"dataframe\">\n",
       "  <thead>\n",
       "    <tr style=\"text-align: right;\">\n",
       "      <th></th>\n",
       "      <th>title</th>\n",
       "      <th>date</th>\n",
       "      <th>content</th>\n",
       "    </tr>\n",
       "  </thead>\n",
       "  <tbody>\n",
       "    <tr>\n",
       "      <th>0</th>\n",
       "      <td>Project Quest Info Session: IT Jumpstart on Ma...</td>\n",
       "      <td>May 11, 2022</td>\n",
       "      <td>Join our grant partner Project Quest as they d...</td>\n",
       "    </tr>\n",
       "    <tr>\n",
       "      <th>1</th>\n",
       "      <td>From Bootcamp to Bootcamp | A Military Appreci...</td>\n",
       "      <td>Apr 27, 2022</td>\n",
       "      <td>In honor of Military Appreciation Month, join ...</td>\n",
       "    </tr>\n",
       "    <tr>\n",
       "      <th>2</th>\n",
       "      <td>Our Acquisition of the Rackspace Cloud Academy...</td>\n",
       "      <td>Apr 14, 2022</td>\n",
       "      <td>Just about a year ago on April 16th, 2021 we a...</td>\n",
       "    </tr>\n",
       "    <tr>\n",
       "      <th>3</th>\n",
       "      <td>Learn to Code: HTML &amp; CSS on 4/30</td>\n",
       "      <td>Apr 1, 2022</td>\n",
       "      <td>HTML &amp; CSS are the design building blocks of a...</td>\n",
       "    </tr>\n",
       "    <tr>\n",
       "      <th>4</th>\n",
       "      <td>Learn to Code: Python Workshop on 4/23</td>\n",
       "      <td>Mar 31, 2022</td>\n",
       "      <td>According to LinkedIn, the “#1 Most Promising ...</td>\n",
       "    </tr>\n",
       "  </tbody>\n",
       "</table>\n",
       "</div>"
      ],
      "text/plain": [
       "                                               title          date  \\\n",
       "0  Project Quest Info Session: IT Jumpstart on Ma...  May 11, 2022   \n",
       "1  From Bootcamp to Bootcamp | A Military Appreci...  Apr 27, 2022   \n",
       "2  Our Acquisition of the Rackspace Cloud Academy...  Apr 14, 2022   \n",
       "3                  Learn to Code: HTML & CSS on 4/30   Apr 1, 2022   \n",
       "4             Learn to Code: Python Workshop on 4/23  Mar 31, 2022   \n",
       "\n",
       "                                             content  \n",
       "0  Join our grant partner Project Quest as they d...  \n",
       "1  In honor of Military Appreciation Month, join ...  \n",
       "2  Just about a year ago on April 16th, 2021 we a...  \n",
       "3  HTML & CSS are the design building blocks of a...  \n",
       "4  According to LinkedIn, the “#1 Most Promising ...  "
      ]
     },
     "execution_count": 29,
     "metadata": {},
     "output_type": "execute_result"
    }
   ],
   "source": [
    "articles_df = get_cublog_articles(use_cache=False)\n",
    "\n",
    "articles_df.head()"
   ]
  },
  {
   "cell_type": "code",
   "execution_count": 30,
   "metadata": {},
   "outputs": [
    {
     "data": {
      "text/plain": [
       "<Response [200]>"
      ]
     },
     "execution_count": 30,
     "metadata": {},
     "output_type": "execute_result"
    }
   ],
   "source": [
    "response = requests.get('https://inshorts.com/en/read')\n",
    "response"
   ]
  },
  {
   "cell_type": "code",
   "execution_count": 31,
   "metadata": {},
   "outputs": [
    {
     "data": {
      "text/plain": [
       "'\\nLucknow Super Giants (LSG) on Wednesday recorded the highest-ever opening partnership in IPL history. Quinton De Kock and KL Rahul shared an unbeaten 210-run stand against KKR to set the record. The previous record was held by Jonny Bairstow and David Warner, who shared a 185-run opening stand for SRH against RCB on March 31, 2019.\\n\\nshort by Anmol Sharma / \\n      10:06 pm on 18 May\\n\\n'"
      ]
     },
     "execution_count": 31,
     "metadata": {},
     "output_type": "execute_result"
    }
   ],
   "source": [
    "short_soup = BeautifulSoup(response.text)\n",
    "\n",
    "short_soup.select('div.news-card-content')[0].text"
   ]
  },
  {
   "cell_type": "code",
   "execution_count": 32,
   "metadata": {},
   "outputs": [
    {
     "data": {
      "text/plain": [
       "'\\n\\nLSG record the highest opening partnership in IPL history\\n\\n\\nshort by Anmol Sharma / \\n      10:06 pm on 18 May 2022,Wednesday\\n\\n'"
      ]
     },
     "execution_count": 32,
     "metadata": {},
     "output_type": "execute_result"
    }
   ],
   "source": [
    "short_soup.select_one('.news-card-title').text"
   ]
  },
  {
   "cell_type": "code",
   "execution_count": 33,
   "metadata": {},
   "outputs": [
    {
     "data": {
      "text/plain": [
       "{'date_time': '\\nshort by Anmol Sharma / \\n      10:06 pm on 18 May 2022,Wednesday\\n',\n",
       " 'title': '\\n\\nLSG record the highest opening partnership in IPL history\\n\\n\\nshort by Anmol Sharma / \\n      10:06 pm on 18 May 2022,Wednesday\\n\\n',\n",
       " 'content': '\\nLucknow Super Giants (LSG) on Wednesday recorded the highest-ever opening partnership in IPL history. Quinton De Kock and KL Rahul shared an unbeaten 210-run stand against KKR to set the record. The previous record was held by Jonny Bairstow and David Warner, who shared a 185-run opening stand for SRH against RCB on March 31, 2019.\\n\\nshort by Anmol Sharma / \\n      10:06 pm on 18 May\\n\\n'}"
      ]
     },
     "execution_count": 33,
     "metadata": {},
     "output_type": "execute_result"
    }
   ],
   "source": [
    "short_output = {}\n",
    "short_output['date_time'] = short_soup.select_one('.news-card-author-time').text\n",
    "short_output['title'] = short_soup.select_one('.news-card-title').text\n",
    "short_output['content'] = short_soup.select_one('.news-card-content').text\n",
    "\n",
    "short_output"
   ]
  },
  {
   "cell_type": "code",
   "execution_count": 34,
   "metadata": {},
   "outputs": [
    {
     "data": {
      "text/plain": [
       "{'date_time': '\\nshort by Pragya Swastik / \\n      03:47 pm on 18 May 2022,Wednesday\\n',\n",
       " 'title': '\\n\\nApple delays plan requiring employees to come to office 3 days a week\\n\\n\\nshort by Pragya Swastik / \\n      03:47 pm on 18 May 2022,Wednesday\\n\\n',\n",
       " 'content': '\\nApple has delayed its plan that required its employees to come to the office three days a week, according to a memo seen by Bloomberg. Apple said that the requirement is being delayed \"for the time being\", without providing a new date. The technology company still requires its employees to come to the office two days a week.\\n\\nshort by Pragya Swastik / \\n      03:47 pm on 18 May\\n\\n',\n",
       " 'category': 'business'}"
      ]
     },
     "execution_count": 34,
     "metadata": {},
     "output_type": "execute_result"
    }
   ],
   "source": [
    "response = requests.get('https://inshorts.com/en/read/business')\n",
    "biz_soup = BeautifulSoup(response.text)\n",
    "biz_output = {}\n",
    "biz_output['date_time'] = biz_soup.select_one('.news-card-author-time').text\n",
    "biz_output['title'] = biz_soup.select_one('.news-card-title').text\n",
    "biz_output['content'] = biz_soup.select_one('.news-card-content').text\n",
    "biz_output['category'] = 'business'\n",
    "\n",
    "biz_output"
   ]
  },
  {
   "cell_type": "code",
   "execution_count": 35,
   "metadata": {},
   "outputs": [
    {
     "data": {
      "text/plain": [
       "[<div class=\"news-card-author-time news-card-author-time-in-title\">\n",
       " <a href=\"/prev/en/news/apple-delays-plan-requiring-employees-to-come-to-office-3-days-a-week-1652869030487\"><span class=\"short\">short</span></a> by <span class=\"author\">Pragya Swastik</span> / \n",
       "       <span class=\"time\" content=\"2022-05-18T10:17:10.000Z\" itemprop=\"datePublished\">03:47 pm</span> on <span clas=\"date\">18 May 2022,Wednesday</span>\n",
       " </div>,\n",
       " <div class=\"news-card-author-time news-card-author-time-in-content\">\n",
       " <a href=\"/prev/en/news/apple-delays-plan-requiring-employees-to-come-to-office-3-days-a-week-1652869030487\"><span class=\"short\">short</span></a> by <span class=\"author\">Pragya Swastik</span> / \n",
       "       <span class=\"time\" content=\"2022-05-18T10:17:10.000Z\" itemprop=\"dateModified\">03:47 pm</span> on <span class=\"date\">18 May</span>\n",
       " </div>,\n",
       " <div class=\"news-card-author-time news-card-author-time-in-title\">\n",
       " <a href=\"/prev/en/news/rupee-closes-at-a-new-alltime-low-of-7758-against-us-dollar-1652872294502\"><span class=\"short\">short</span></a> by <span class=\"author\">Anmol Sharma</span> / \n",
       "       <span class=\"time\" content=\"2022-05-18T11:11:34.000Z\" itemprop=\"datePublished\">04:41 pm</span> on <span clas=\"date\">18 May 2022,Wednesday</span>\n",
       " </div>,\n",
       " <div class=\"news-card-author-time news-card-author-time-in-content\">\n",
       " <a href=\"/prev/en/news/rupee-closes-at-a-new-alltime-low-of-7758-against-us-dollar-1652872294502\"><span class=\"short\">short</span></a> by <span class=\"author\">Anmol Sharma</span> / \n",
       "       <span class=\"time\" content=\"2022-05-18T11:11:34.000Z\" itemprop=\"dateModified\">04:41 pm</span> on <span class=\"date\">18 May</span>\n",
       " </div>,\n",
       " <div class=\"news-card-author-time news-card-author-time-in-title\">\n",
       " <a href=\"/prev/en/news/targets-shares-crash-26-on-track-for-their-worst-day-since-1987-1652893539370\"><span class=\"short\">short</span></a> by <span class=\"author\">Pragya Swastik</span> / \n",
       "       <span class=\"time\" content=\"2022-05-18T17:05:39.000Z\" itemprop=\"datePublished\">10:35 pm</span> on <span clas=\"date\">18 May 2022,Wednesday</span>\n",
       " </div>,\n",
       " <div class=\"news-card-author-time news-card-author-time-in-content\">\n",
       " <a href=\"/prev/en/news/targets-shares-crash-26-on-track-for-their-worst-day-since-1987-1652893539370\"><span class=\"short\">short</span></a> by <span class=\"author\">Pragya Swastik</span> / \n",
       "       <span class=\"time\" content=\"2022-05-18T17:05:39.000Z\" itemprop=\"dateModified\">10:35 pm</span> on <span class=\"date\">18 May</span>\n",
       " </div>,\n",
       " <div class=\"news-card-author-time news-card-author-time-in-title\">\n",
       " <a href=\"/prev/en/news/indigo-names-pieter-elbers-as-ceo-ronojoy-dutta-to-retire-1652871635768\"><span class=\"short\">short</span></a> by <span class=\"author\">Pragya Swastik</span> / \n",
       "       <span class=\"time\" content=\"2022-05-18T11:00:35.000Z\" itemprop=\"datePublished\">04:30 pm</span> on <span clas=\"date\">18 May 2022,Wednesday</span>\n",
       " </div>,\n",
       " <div class=\"news-card-author-time news-card-author-time-in-content\">\n",
       " <a href=\"/prev/en/news/indigo-names-pieter-elbers-as-ceo-ronojoy-dutta-to-retire-1652871635768\"><span class=\"short\">short</span></a> by <span class=\"author\">Pragya Swastik</span> / \n",
       "       <span class=\"time\" content=\"2022-05-18T11:00:35.000Z\" itemprop=\"dateModified\">04:30 pm</span> on <span class=\"date\">18 May</span>\n",
       " </div>,\n",
       " <div class=\"news-card-author-time news-card-author-time-in-title\">\n",
       " <a href=\"/prev/en/news/is-this-legit-musk-on-twitter-engineers-free-speech-leaked-recording-1652854332575\"><span class=\"short\">short</span></a> by <span class=\"author\">Aishwarya Awasthi</span> / \n",
       "       <span class=\"time\" content=\"2022-05-18T06:12:12.000Z\" itemprop=\"datePublished\">11:42 am</span> on <span clas=\"date\">18 May 2022,Wednesday</span>\n",
       " </div>,\n",
       " <div class=\"news-card-author-time news-card-author-time-in-content\">\n",
       " <a href=\"/prev/en/news/is-this-legit-musk-on-twitter-engineers-free-speech-leaked-recording-1652854332575\"><span class=\"short\">short</span></a> by <span class=\"author\">Aishwarya Awasthi</span> / \n",
       "       <span class=\"time\" content=\"2022-05-18T06:12:12.000Z\" itemprop=\"dateModified\">11:42 am</span> on <span class=\"date\">18 May</span>\n",
       " </div>,\n",
       " <div class=\"news-card-author-time news-card-author-time-in-title\">\n",
       " <a href=\"/prev/en/news/not-the-end-of-the-road-sachin-bansal-as-rbi-rejects-banking-licence-application-1652797413563\"><span class=\"short\">short</span></a> by <span class=\"author\">Pragya Swastik</span> / \n",
       "       <span class=\"time\" content=\"2022-05-17T14:23:33.000Z\" itemprop=\"datePublished\">07:53 pm</span> on <span clas=\"date\">17 May 2022,Tuesday</span>\n",
       " </div>,\n",
       " <div class=\"news-card-author-time news-card-author-time-in-content\">\n",
       " <a href=\"/prev/en/news/not-the-end-of-the-road-sachin-bansal-as-rbi-rejects-banking-licence-application-1652797413563\"><span class=\"short\">short</span></a> by <span class=\"author\">Pragya Swastik</span> / \n",
       "       <span class=\"time\" content=\"2022-05-17T14:23:33.000Z\" itemprop=\"dateModified\">07:53 pm</span> on <span class=\"date\">17 May</span>\n",
       " </div>,\n",
       " <div class=\"news-card-author-time news-card-author-time-in-title\">\n",
       " <a href=\"/prev/en/news/lics-debut-2ndworst-among-11-global-companies-that-listed-this-year-after-raising-$1bn-1652807869321\"><span class=\"short\">short</span></a> by <span class=\"author\">Daisy Mowke</span> / \n",
       "       <span class=\"time\" content=\"2022-05-17T17:17:49.000Z\" itemprop=\"datePublished\">10:47 pm</span> on <span clas=\"date\">17 May 2022,Tuesday</span>\n",
       " </div>,\n",
       " <div class=\"news-card-author-time news-card-author-time-in-content\">\n",
       " <a href=\"/prev/en/news/lics-debut-2ndworst-among-11-global-companies-that-listed-this-year-after-raising-$1bn-1652807869321\"><span class=\"short\">short</span></a> by <span class=\"author\">Daisy Mowke</span> / \n",
       "       <span class=\"time\" content=\"2022-05-17T17:17:49.000Z\" itemprop=\"dateModified\">10:47 pm</span> on <span class=\"date\">17 May</span>\n",
       " </div>,\n",
       " <div class=\"news-card-author-time news-card-author-time-in-title\">\n",
       " <a href=\"/prev/en/news/indias-richest-man-enters-the-healthcare-sector-with-adani-health-ventures-1652886845471\"><span class=\"short\">short</span></a> by <span class=\"author\">Pragya Swastik</span> / \n",
       "       <span class=\"time\" content=\"2022-05-18T15:14:05.000Z\" itemprop=\"datePublished\">08:44 pm</span> on <span clas=\"date\">18 May 2022,Wednesday</span>\n",
       " </div>,\n",
       " <div class=\"news-card-author-time news-card-author-time-in-content\">\n",
       " <a href=\"/prev/en/news/indias-richest-man-enters-the-healthcare-sector-with-adani-health-ventures-1652886845471\"><span class=\"short\">short</span></a> by <span class=\"author\">Pragya Swastik</span> / \n",
       "       <span class=\"time\" content=\"2022-05-18T15:14:05.000Z\" itemprop=\"dateModified\">08:44 pm</span> on <span class=\"date\">18 May</span>\n",
       " </div>,\n",
       " <div class=\"news-card-author-time news-card-author-time-in-title\">\n",
       " <a href=\"/prev/en/news/28-gst-on-casinos-online-gaming-in-final-report-by-group-of-ministers-report-1652890601120\"><span class=\"short\">short</span></a> by <span class=\"author\">Pragya Swastik</span> / \n",
       "       <span class=\"time\" content=\"2022-05-18T16:16:41.000Z\" itemprop=\"datePublished\">09:46 pm</span> on <span clas=\"date\">18 May 2022,Wednesday</span>\n",
       " </div>,\n",
       " <div class=\"news-card-author-time news-card-author-time-in-content\">\n",
       " <a href=\"/prev/en/news/28-gst-on-casinos-online-gaming-in-final-report-by-group-of-ministers-report-1652890601120\"><span class=\"short\">short</span></a> by <span class=\"author\">Pragya Swastik</span> / \n",
       "       <span class=\"time\" content=\"2022-05-18T16:16:41.000Z\" itemprop=\"dateModified\">09:46 pm</span> on <span class=\"date\">18 May</span>\n",
       " </div>,\n",
       " <div class=\"news-card-author-time news-card-author-time-in-title\">\n",
       " <a href=\"/prev/en/news/us-fda-flags-production-procedure-at-aurobindo-pharmas-hyd-plant-1652798313783\"><span class=\"short\">short</span></a> by <span class=\"author\">Ananya Goyal</span> / \n",
       "       <span class=\"time\" content=\"2022-05-17T14:38:33.000Z\" itemprop=\"datePublished\">08:08 pm</span> on <span clas=\"date\">17 May 2022,Tuesday</span>\n",
       " </div>,\n",
       " <div class=\"news-card-author-time news-card-author-time-in-content\">\n",
       " <a href=\"/prev/en/news/us-fda-flags-production-procedure-at-aurobindo-pharmas-hyd-plant-1652798313783\"><span class=\"short\">short</span></a> by <span class=\"author\">Ananya Goyal</span> / \n",
       "       <span class=\"time\" content=\"2022-05-17T14:38:33.000Z\" itemprop=\"dateModified\">08:08 pm</span> on <span class=\"date\">17 May</span>\n",
       " </div>,\n",
       " <div class=\"news-card-author-time news-card-author-time-in-title\">\n",
       " <a href=\"/prev/en/news/one-must-do-things-the-india-way-to-be-profitable-there-stellantis-1652865712898\"><span class=\"short\">short</span></a> by <span class=\"author\">Aishwarya Awasthi</span> / \n",
       "       <span class=\"time\" content=\"2022-05-18T09:21:52.000Z\" itemprop=\"datePublished\">02:51 pm</span> on <span clas=\"date\">18 May 2022,Wednesday</span>\n",
       " </div>,\n",
       " <div class=\"news-card-author-time news-card-author-time-in-content\">\n",
       " <a href=\"/prev/en/news/one-must-do-things-the-india-way-to-be-profitable-there-stellantis-1652865712898\"><span class=\"short\">short</span></a> by <span class=\"author\">Aishwarya Awasthi</span> / \n",
       "       <span class=\"time\" content=\"2022-05-18T09:21:52.000Z\" itemprop=\"dateModified\">02:51 pm</span> on <span class=\"date\">18 May</span>\n",
       " </div>,\n",
       " <div class=\"news-card-author-time news-card-author-time-in-title\">\n",
       " <a href=\"/prev/en/news/russia-jumps-6-positions-to-be-indias-4thlargest-oil-supplier-1652799367484\"><span class=\"short\">short</span></a> by <span class=\"author\">Ananya Goyal</span> / \n",
       "       <span class=\"time\" content=\"2022-05-17T14:56:07.000Z\" itemprop=\"datePublished\">08:26 pm</span> on <span clas=\"date\">17 May 2022,Tuesday</span>\n",
       " </div>,\n",
       " <div class=\"news-card-author-time news-card-author-time-in-content\">\n",
       " <a href=\"/prev/en/news/russia-jumps-6-positions-to-be-indias-4thlargest-oil-supplier-1652799367484\"><span class=\"short\">short</span></a> by <span class=\"author\">Ananya Goyal</span> / \n",
       "       <span class=\"time\" content=\"2022-05-17T14:56:07.000Z\" itemprop=\"dateModified\">08:26 pm</span> on <span class=\"date\">17 May</span>\n",
       " </div>,\n",
       " <div class=\"news-card-author-time news-card-author-time-in-title\">\n",
       " <a href=\"/prev/en/news/itc-reports-117-yoy-rise-in-net-profit-to-₹4196-crore-in-q4-1652883657694\"><span class=\"short\">short</span></a> by <span class=\"author\">Ashley Paul</span> / \n",
       "       <span class=\"time\" content=\"2022-05-18T14:20:57.000Z\" itemprop=\"datePublished\">07:50 pm</span> on <span clas=\"date\">18 May 2022,Wednesday</span>\n",
       " </div>,\n",
       " <div class=\"news-card-author-time news-card-author-time-in-content\">\n",
       " <a href=\"/prev/en/news/itc-reports-117-yoy-rise-in-net-profit-to-₹4196-crore-in-q4-1652883657694\"><span class=\"short\">short</span></a> by <span class=\"author\">Ashley Paul</span> / \n",
       "       <span class=\"time\" content=\"2022-05-18T14:20:57.000Z\" itemprop=\"dateModified\">07:50 pm</span> on <span class=\"date\">18 May</span>\n",
       " </div>,\n",
       " <div class=\"news-card-author-time news-card-author-time-in-title\">\n",
       " <a href=\"/prev/en/news/bse-appoints-exrbi-deputy-governor-ss-mundra-as-chairman-1652808114155\"><span class=\"short\">short</span></a> by <span class=\"author\">Ananya Goyal</span> / \n",
       "       <span class=\"time\" content=\"2022-05-17T17:21:54.000Z\" itemprop=\"datePublished\">10:51 pm</span> on <span clas=\"date\">17 May 2022,Tuesday</span>\n",
       " </div>,\n",
       " <div class=\"news-card-author-time news-card-author-time-in-content\">\n",
       " <a href=\"/prev/en/news/bse-appoints-exrbi-deputy-governor-ss-mundra-as-chairman-1652808114155\"><span class=\"short\">short</span></a> by <span class=\"author\">Ananya Goyal</span> / \n",
       "       <span class=\"time\" content=\"2022-05-17T17:21:54.000Z\" itemprop=\"dateModified\">10:51 pm</span> on <span class=\"date\">17 May</span>\n",
       " </div>,\n",
       " <div class=\"news-card-author-time news-card-author-time-in-title\">\n",
       " <a href=\"/prev/en/news/ruchi-soya-to-acquire-patanjalis-food-retail-business-for-₹690-crore-1652867334231\"><span class=\"short\">short</span></a> by <span class=\"author\">Ashley Paul</span> / \n",
       "       <span class=\"time\" content=\"2022-05-18T09:48:54.000Z\" itemprop=\"datePublished\">03:18 pm</span> on <span clas=\"date\">18 May 2022,Wednesday</span>\n",
       " </div>,\n",
       " <div class=\"news-card-author-time news-card-author-time-in-content\">\n",
       " <a href=\"/prev/en/news/ruchi-soya-to-acquire-patanjalis-food-retail-business-for-₹690-crore-1652867334231\"><span class=\"short\">short</span></a> by <span class=\"author\">Ashley Paul</span> / \n",
       "       <span class=\"time\" content=\"2022-05-18T09:48:54.000Z\" itemprop=\"dateModified\">03:18 pm</span> on <span class=\"date\">18 May</span>\n",
       " </div>,\n",
       " <div class=\"news-card-author-time news-card-author-time-in-title\">\n",
       " <a href=\"/prev/en/news/proving-flights-done-successfully-waiting-for-aoc-jet-airways-1652799748164\"><span class=\"short\">short</span></a> by <span class=\"author\">Ananya Goyal</span> / \n",
       "       <span class=\"time\" content=\"2022-05-17T15:02:28.000Z\" itemprop=\"datePublished\">08:32 pm</span> on <span clas=\"date\">17 May 2022,Tuesday</span>\n",
       " </div>,\n",
       " <div class=\"news-card-author-time news-card-author-time-in-content\">\n",
       " <a href=\"/prev/en/news/proving-flights-done-successfully-waiting-for-aoc-jet-airways-1652799748164\"><span class=\"short\">short</span></a> by <span class=\"author\">Ananya Goyal</span> / \n",
       "       <span class=\"time\" content=\"2022-05-17T15:02:28.000Z\" itemprop=\"dateModified\">08:32 pm</span> on <span class=\"date\">17 May</span>\n",
       " </div>,\n",
       " <div class=\"news-card-author-time news-card-author-time-in-title\">\n",
       " <a href=\"/prev/en/news/tata-consumer-products-in-talks-to-acquire-as-many-as-5-brands-1652876314765\"><span class=\"short\">short</span></a> by <span class=\"author\">Ashley Paul</span> / \n",
       "       <span class=\"time\" content=\"2022-05-18T12:18:34.000Z\" itemprop=\"datePublished\">05:48 pm</span> on <span clas=\"date\">18 May 2022,Wednesday</span>\n",
       " </div>,\n",
       " <div class=\"news-card-author-time news-card-author-time-in-content\">\n",
       " <a href=\"/prev/en/news/tata-consumer-products-in-talks-to-acquire-as-many-as-5-brands-1652876314765\"><span class=\"short\">short</span></a> by <span class=\"author\">Ashley Paul</span> / \n",
       "       <span class=\"time\" content=\"2022-05-18T12:18:34.000Z\" itemprop=\"dateModified\">05:48 pm</span> on <span class=\"date\">18 May</span>\n",
       " </div>,\n",
       " <div class=\"news-card-author-time news-card-author-time-in-title\">\n",
       " <a href=\"/prev/en/news/indian-oil-posts-highestever-revenue-by-any-indian-firm-in-fy22-1652798283148\"><span class=\"short\">short</span></a> by <span class=\"author\">Ashley Paul</span> / \n",
       "       <span class=\"time\" content=\"2022-05-17T14:38:03.000Z\" itemprop=\"datePublished\">08:08 pm</span> on <span clas=\"date\">17 May 2022,Tuesday</span>\n",
       " </div>,\n",
       " <div class=\"news-card-author-time news-card-author-time-in-content\">\n",
       " <a href=\"/prev/en/news/indian-oil-posts-highestever-revenue-by-any-indian-firm-in-fy22-1652798283148\"><span class=\"short\">short</span></a> by <span class=\"author\">Ashley Paul</span> / \n",
       "       <span class=\"time\" content=\"2022-05-17T14:38:03.000Z\" itemprop=\"dateModified\">08:08 pm</span> on <span class=\"date\">17 May</span>\n",
       " </div>,\n",
       " <div class=\"news-card-author-time news-card-author-time-in-title\">\n",
       " <a href=\"/prev/en/news/govt-considers-selling-part-of-bpcl-instead-of-full-stake-report-1652807816593\"><span class=\"short\">short</span></a> by <span class=\"author\">Ananya Goyal</span> / \n",
       "       <span class=\"time\" content=\"2022-05-17T17:16:56.000Z\" itemprop=\"datePublished\">10:46 pm</span> on <span clas=\"date\">17 May 2022,Tuesday</span>\n",
       " </div>,\n",
       " <div class=\"news-card-author-time news-card-author-time-in-content\">\n",
       " <a href=\"/prev/en/news/govt-considers-selling-part-of-bpcl-instead-of-full-stake-report-1652807816593\"><span class=\"short\">short</span></a> by <span class=\"author\">Ananya Goyal</span> / \n",
       "       <span class=\"time\" content=\"2022-05-17T17:16:56.000Z\" itemprop=\"dateModified\">10:46 pm</span> on <span class=\"date\">17 May</span>\n",
       " </div>,\n",
       " <div class=\"news-card-author-time news-card-author-time-in-title\">\n",
       " <a href=\"/prev/en/news/challenge-for-india-to-sustain-89-growth-for-30-yrs-niti-aayog-ceo-1652797731970\"><span class=\"short\">short</span></a> by <span class=\"author\">Ashley Paul</span> / \n",
       "       <span class=\"time\" content=\"2022-05-17T14:28:51.000Z\" itemprop=\"datePublished\">07:58 pm</span> on <span clas=\"date\">17 May 2022,Tuesday</span>\n",
       " </div>,\n",
       " <div class=\"news-card-author-time news-card-author-time-in-content\">\n",
       " <a href=\"/prev/en/news/challenge-for-india-to-sustain-89-growth-for-30-yrs-niti-aayog-ceo-1652797731970\"><span class=\"short\">short</span></a> by <span class=\"author\">Ashley Paul</span> / \n",
       "       <span class=\"time\" content=\"2022-05-17T14:28:51.000Z\" itemprop=\"dateModified\">07:58 pm</span> on <span class=\"date\">17 May</span>\n",
       " </div>,\n",
       " <div class=\"news-card-author-time news-card-author-time-in-title\">\n",
       " <a href=\"/prev/en/news/rbi-sold-$201-billion-in-spot-foreign-exchange-in-march-1652808138326\"><span class=\"short\">short</span></a> by <span class=\"author\">Ananya Goyal</span> / \n",
       "       <span class=\"time\" content=\"2022-05-17T17:22:18.000Z\" itemprop=\"datePublished\">10:52 pm</span> on <span clas=\"date\">17 May 2022,Tuesday</span>\n",
       " </div>,\n",
       " <div class=\"news-card-author-time news-card-author-time-in-content\">\n",
       " <a href=\"/prev/en/news/rbi-sold-$201-billion-in-spot-foreign-exchange-in-march-1652808138326\"><span class=\"short\">short</span></a> by <span class=\"author\">Ananya Goyal</span> / \n",
       "       <span class=\"time\" content=\"2022-05-17T17:22:18.000Z\" itemprop=\"dateModified\">10:52 pm</span> on <span class=\"date\">17 May</span>\n",
       " </div>,\n",
       " <div class=\"news-card-author-time news-card-author-time-in-title\">\n",
       " <a href=\"/prev/en/news/reliance-retail-to-enter-beauty-sector-with-400-stores-report-1652808335123\"><span class=\"short\">short</span></a> by <span class=\"author\">Ananya Goyal</span> / \n",
       "       <span class=\"time\" content=\"2022-05-17T17:25:35.000Z\" itemprop=\"datePublished\">10:55 pm</span> on <span clas=\"date\">17 May 2022,Tuesday</span>\n",
       " </div>,\n",
       " <div class=\"news-card-author-time news-card-author-time-in-content\">\n",
       " <a href=\"/prev/en/news/reliance-retail-to-enter-beauty-sector-with-400-stores-report-1652808335123\"><span class=\"short\">short</span></a> by <span class=\"author\">Ananya Goyal</span> / \n",
       "       <span class=\"time\" content=\"2022-05-17T17:25:35.000Z\" itemprop=\"dateModified\">10:55 pm</span> on <span class=\"date\">17 May</span>\n",
       " </div>,\n",
       " <div class=\"news-card-author-time news-card-author-time-in-title\">\n",
       " <a href=\"/prev/en/news/criticising-rbi-for-delayed-rate-hike-is-unfair-exrbi-governor-1652865201588\"><span class=\"short\">short</span></a> by <span class=\"author\">Ashley Paul</span> / \n",
       "       <span class=\"time\" content=\"2022-05-18T09:13:21.000Z\" itemprop=\"datePublished\">02:43 pm</span> on <span clas=\"date\">18 May 2022,Wednesday</span>\n",
       " </div>,\n",
       " <div class=\"news-card-author-time news-card-author-time-in-content\">\n",
       " <a href=\"/prev/en/news/criticising-rbi-for-delayed-rate-hike-is-unfair-exrbi-governor-1652865201588\"><span class=\"short\">short</span></a> by <span class=\"author\">Ashley Paul</span> / \n",
       "       <span class=\"time\" content=\"2022-05-18T09:13:21.000Z\" itemprop=\"dateModified\">02:43 pm</span> on <span class=\"date\">18 May</span>\n",
       " </div>,\n",
       " <div class=\"news-card-author-time news-card-author-time-in-title\">\n",
       " <a href=\"/prev/en/news/uk-inflation-hits-9-in-april-its-highest-level-since-1982-1652872387591\"><span class=\"short\">short</span></a> by <span class=\"author\">Ashley Paul</span> / \n",
       "       <span class=\"time\" content=\"2022-05-18T11:13:07.000Z\" itemprop=\"datePublished\">04:43 pm</span> on <span clas=\"date\">18 May 2022,Wednesday</span>\n",
       " </div>,\n",
       " <div class=\"news-card-author-time news-card-author-time-in-content\">\n",
       " <a href=\"/prev/en/news/uk-inflation-hits-9-in-april-its-highest-level-since-1982-1652872387591\"><span class=\"short\">short</span></a> by <span class=\"author\">Ashley Paul</span> / \n",
       "       <span class=\"time\" content=\"2022-05-18T11:13:07.000Z\" itemprop=\"dateModified\">04:43 pm</span> on <span class=\"date\">18 May</span>\n",
       " </div>,\n",
       " <div class=\"news-card-author-time news-card-author-time-in-title\">\n",
       " <a href=\"/prev/en/news/growth-forecast-range-reasonable-despite-monetary-tightening-cea-1652806421469\"><span class=\"short\">short</span></a> by <span class=\"author\">Ashley Paul</span> / \n",
       "       <span class=\"time\" content=\"2022-05-17T16:53:41.000Z\" itemprop=\"datePublished\">10:23 pm</span> on <span clas=\"date\">17 May 2022,Tuesday</span>\n",
       " </div>,\n",
       " <div class=\"news-card-author-time news-card-author-time-in-content\">\n",
       " <a href=\"/prev/en/news/growth-forecast-range-reasonable-despite-monetary-tightening-cea-1652806421469\"><span class=\"short\">short</span></a> by <span class=\"author\">Ashley Paul</span> / \n",
       "       <span class=\"time\" content=\"2022-05-17T16:53:41.000Z\" itemprop=\"dateModified\">10:23 pm</span> on <span class=\"date\">17 May</span>\n",
       " </div>]"
      ]
     },
     "execution_count": 35,
     "metadata": {},
     "output_type": "execute_result"
    }
   ],
   "source": [
    "biz_soup.select('.news-card-author-time')"
   ]
  }
 ],
 "metadata": {
  "interpreter": {
   "hash": "38cca0c38332a56087b24af0bc80247f4fced29cb4f7f437d91dc159adec9c4e"
  },
  "kernelspec": {
   "display_name": "Python 3.9.7 ('base')",
   "language": "python",
   "name": "python3"
  },
  "language_info": {
   "codemirror_mode": {
    "name": "ipython",
    "version": 3
   },
   "file_extension": ".py",
   "mimetype": "text/x-python",
   "name": "python",
   "nbconvert_exporter": "python",
   "pygments_lexer": "ipython3",
   "version": "3.9.7"
  },
  "orig_nbformat": 4
 },
 "nbformat": 4,
 "nbformat_minor": 2
}
